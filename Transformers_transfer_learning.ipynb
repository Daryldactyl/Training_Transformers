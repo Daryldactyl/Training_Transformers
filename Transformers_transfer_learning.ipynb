{
 "cells": [
  {
   "cell_type": "markdown",
   "id": "16fe4f30-d6c2-4c4c-a7de-047074f3af2b",
   "metadata": {},
   "source": [
    "# Fine Tuning Transfer Learning Models"
   ]
  },
  {
   "cell_type": "markdown",
   "id": "59eb621c-a325-48ec-9774-7bf0ca85c0df",
   "metadata": {},
   "source": [
    "## 📈 Fine Tune on premade Dataset"
   ]
  },
  {
   "cell_type": "markdown",
   "id": "b612119d-f619-49e5-94db-ab573df71bc3",
   "metadata": {},
   "source": [
    "### Import the dataset"
   ]
  },
  {
   "cell_type": "code",
   "execution_count": 1,
   "id": "3401d5db-3703-49fa-9633-febe17c58fc5",
   "metadata": {},
   "outputs": [],
   "source": [
    "from datasets import load_dataset\n",
    "import numpy as np"
   ]
  },
  {
   "cell_type": "code",
   "execution_count": 2,
   "id": "bbda9368-f5ce-4ee5-a9a3-a2e76cd187e5",
   "metadata": {},
   "outputs": [
    {
     "data": {
      "application/vnd.jupyter.widget-view+json": {
       "model_id": "637fe89cdc5f40c08ce49d64f76ff88b",
       "version_major": 2,
       "version_minor": 0
      },
      "text/plain": [
       "Downloading readme:   0%|          | 0.00/35.3k [00:00<?, ?B/s]"
      ]
     },
     "metadata": {},
     "output_type": "display_data"
    },
    {
     "name": "stderr",
     "output_type": "stream",
     "text": [
      "Downloading data: 100%|████████████████████| 3.11M/3.11M [00:00<00:00, 7.30MB/s]\n",
      "Downloading data: 100%|█████████████████████| 72.8k/72.8k [00:00<00:00, 347kB/s]\n",
      "Downloading data: 100%|███████████████████████| 148k/148k [00:00<00:00, 885kB/s]\n"
     ]
    },
    {
     "data": {
      "application/vnd.jupyter.widget-view+json": {
       "model_id": "a364b78327e3430c86f6c6c96de0d67c",
       "version_major": 2,
       "version_minor": 0
      },
      "text/plain": [
       "Generating train split:   0%|          | 0/67349 [00:00<?, ? examples/s]"
      ]
     },
     "metadata": {},
     "output_type": "display_data"
    },
    {
     "data": {
      "application/vnd.jupyter.widget-view+json": {
       "model_id": "3cf77294c1904ecf834a835013d0b852",
       "version_major": 2,
       "version_minor": 0
      },
      "text/plain": [
       "Generating validation split:   0%|          | 0/872 [00:00<?, ? examples/s]"
      ]
     },
     "metadata": {},
     "output_type": "display_data"
    },
    {
     "data": {
      "application/vnd.jupyter.widget-view+json": {
       "model_id": "754c8736b0cb4a9e8c779029d391fb42",
       "version_major": 2,
       "version_minor": 0
      },
      "text/plain": [
       "Generating test split:   0%|          | 0/1821 [00:00<?, ? examples/s]"
      ]
     },
     "metadata": {},
     "output_type": "display_data"
    }
   ],
   "source": [
    "raw_datasets = load_dataset('glue', 'sst2')"
   ]
  },
  {
   "cell_type": "markdown",
   "id": "192410dd-ba71-47b5-98c4-86f5e6dd37e5",
   "metadata": {},
   "source": [
    "#### Visualize the dataset features"
   ]
  },
  {
   "cell_type": "code",
   "execution_count": 3,
   "id": "9b23b1d8-2af8-4a10-9a87-d5287416d030",
   "metadata": {},
   "outputs": [
    {
     "data": {
      "text/plain": [
       "DatasetDict({\n",
       "    train: Dataset({\n",
       "        features: ['sentence', 'label', 'idx'],\n",
       "        num_rows: 67349\n",
       "    })\n",
       "    validation: Dataset({\n",
       "        features: ['sentence', 'label', 'idx'],\n",
       "        num_rows: 872\n",
       "    })\n",
       "    test: Dataset({\n",
       "        features: ['sentence', 'label', 'idx'],\n",
       "        num_rows: 1821\n",
       "    })\n",
       "})"
      ]
     },
     "execution_count": 3,
     "metadata": {},
     "output_type": "execute_result"
    }
   ],
   "source": [
    "raw_datasets"
   ]
  },
  {
   "cell_type": "code",
   "execution_count": 4,
   "id": "ce614bd1-3a3c-483b-9ea8-5d63921fffd2",
   "metadata": {},
   "outputs": [
    {
     "data": {
      "text/plain": [
       "Dataset({\n",
       "    features: ['sentence', 'label', 'idx'],\n",
       "    num_rows: 67349\n",
       "})"
      ]
     },
     "execution_count": 4,
     "metadata": {},
     "output_type": "execute_result"
    }
   ],
   "source": [
    "raw_datasets['train']"
   ]
  },
  {
   "cell_type": "markdown",
   "id": "3d2a6ccf-554f-400f-a385-76dc7af9c657",
   "metadata": {},
   "source": [
    "#### Functions that can be called on the datasets object"
   ]
  },
  {
   "cell_type": "code",
   "execution_count": 5,
   "id": "2144acc1-38c4-44d4-b9d2-2d82eba9350f",
   "metadata": {},
   "outputs": [
    {
     "data": {
      "text/plain": [
       "['_TF_DATASET_REFS',\n",
       " '__class__',\n",
       " '__del__',\n",
       " '__delattr__',\n",
       " '__dict__',\n",
       " '__dir__',\n",
       " '__doc__',\n",
       " '__enter__',\n",
       " '__eq__',\n",
       " '__exit__',\n",
       " '__format__',\n",
       " '__ge__',\n",
       " '__getattribute__',\n",
       " '__getitem__',\n",
       " '__getitems__',\n",
       " '__getstate__',\n",
       " '__gt__',\n",
       " '__hash__',\n",
       " '__init__',\n",
       " '__init_subclass__',\n",
       " '__iter__',\n",
       " '__le__',\n",
       " '__len__',\n",
       " '__lt__',\n",
       " '__module__',\n",
       " '__ne__',\n",
       " '__new__',\n",
       " '__reduce__',\n",
       " '__reduce_ex__',\n",
       " '__repr__',\n",
       " '__setattr__',\n",
       " '__setstate__',\n",
       " '__sizeof__',\n",
       " '__str__',\n",
       " '__subclasshook__',\n",
       " '__weakref__',\n",
       " '_build_local_temp_path',\n",
       " '_check_index_is_initialized',\n",
       " '_data',\n",
       " '_estimate_nbytes',\n",
       " '_fingerprint',\n",
       " '_format_columns',\n",
       " '_format_kwargs',\n",
       " '_format_type',\n",
       " '_generate_tables_from_cache_file',\n",
       " '_generate_tables_from_shards',\n",
       " '_get_cache_file_path',\n",
       " '_get_output_signature',\n",
       " '_getitem',\n",
       " '_indexes',\n",
       " '_indices',\n",
       " '_info',\n",
       " '_map_single',\n",
       " '_new_dataset_with_indices',\n",
       " '_output_all_columns',\n",
       " '_push_parquet_shards_to_hub',\n",
       " '_save_to_disk_single',\n",
       " '_select_contiguous',\n",
       " '_select_with_indices_mapping',\n",
       " '_split',\n",
       " 'add_column',\n",
       " 'add_elasticsearch_index',\n",
       " 'add_faiss_index',\n",
       " 'add_faiss_index_from_external_arrays',\n",
       " 'add_item',\n",
       " 'align_labels_with_mapping',\n",
       " 'builder_name',\n",
       " 'cache_files',\n",
       " 'cast',\n",
       " 'cast_column',\n",
       " 'citation',\n",
       " 'class_encode_column',\n",
       " 'cleanup_cache_files',\n",
       " 'column_names',\n",
       " 'config_name',\n",
       " 'data',\n",
       " 'dataset_size',\n",
       " 'description',\n",
       " 'download_checksums',\n",
       " 'download_size',\n",
       " 'drop_index',\n",
       " 'export',\n",
       " 'features',\n",
       " 'filter',\n",
       " 'flatten',\n",
       " 'flatten_indices',\n",
       " 'format',\n",
       " 'formatted_as',\n",
       " 'from_buffer',\n",
       " 'from_csv',\n",
       " 'from_dict',\n",
       " 'from_file',\n",
       " 'from_generator',\n",
       " 'from_json',\n",
       " 'from_list',\n",
       " 'from_pandas',\n",
       " 'from_parquet',\n",
       " 'from_spark',\n",
       " 'from_sql',\n",
       " 'from_text',\n",
       " 'get_index',\n",
       " 'get_nearest_examples',\n",
       " 'get_nearest_examples_batch',\n",
       " 'homepage',\n",
       " 'info',\n",
       " 'is_index_initialized',\n",
       " 'iter',\n",
       " 'license',\n",
       " 'list_indexes',\n",
       " 'load_elasticsearch_index',\n",
       " 'load_faiss_index',\n",
       " 'load_from_disk',\n",
       " 'map',\n",
       " 'num_columns',\n",
       " 'num_rows',\n",
       " 'prepare_for_task',\n",
       " 'push_to_hub',\n",
       " 'remove_columns',\n",
       " 'rename_column',\n",
       " 'rename_columns',\n",
       " 'reset_format',\n",
       " 'save_faiss_index',\n",
       " 'save_to_disk',\n",
       " 'search',\n",
       " 'search_batch',\n",
       " 'select',\n",
       " 'select_columns',\n",
       " 'set_format',\n",
       " 'set_transform',\n",
       " 'shape',\n",
       " 'shard',\n",
       " 'shuffle',\n",
       " 'size_in_bytes',\n",
       " 'sort',\n",
       " 'split',\n",
       " 'supervised_keys',\n",
       " 'task_templates',\n",
       " 'to_csv',\n",
       " 'to_dict',\n",
       " 'to_iterable_dataset',\n",
       " 'to_json',\n",
       " 'to_list',\n",
       " 'to_pandas',\n",
       " 'to_parquet',\n",
       " 'to_sql',\n",
       " 'to_tf_dataset',\n",
       " 'train_test_split',\n",
       " 'unique',\n",
       " 'version',\n",
       " 'with_format',\n",
       " 'with_transform']"
      ]
     },
     "execution_count": 5,
     "metadata": {},
     "output_type": "execute_result"
    }
   ],
   "source": [
    "dir(raw_datasets['train'])"
   ]
  },
  {
   "cell_type": "code",
   "execution_count": 6,
   "id": "be48513d-7908-4254-b718-a62355fbbd18",
   "metadata": {},
   "outputs": [
    {
     "data": {
      "text/plain": [
       "datasets.arrow_dataset.Dataset"
      ]
     },
     "execution_count": 6,
     "metadata": {},
     "output_type": "execute_result"
    }
   ],
   "source": [
    "type(raw_datasets['train'])"
   ]
  },
  {
   "cell_type": "markdown",
   "id": "e0ad52ce-4951-4e28-a752-68a6a3581ac5",
   "metadata": {},
   "source": [
    "#### Visualize dataset data"
   ]
  },
  {
   "cell_type": "code",
   "execution_count": 7,
   "id": "457d58df-c34a-4129-8433-7530a8079d3c",
   "metadata": {},
   "outputs": [
    {
     "data": {
      "text/plain": [
       "MemoryMappedTable\n",
       "sentence: string\n",
       "label: int64\n",
       "idx: int32\n",
       "----\n",
       "sentence: [[\"hide new secretions from the parental units \",\"contains no wit , only labored gags \",\"that loves its characters and communicates something rather beautiful about human nature \",\"remains utterly satisfied to remain the same throughout \",\"on the worst revenge-of-the-nerds clichés the filmmakers could dredge up \",...,\"you wish you were at home watching that movie instead of in the theater watching this one \",\"'s no point in extracting the bare bones of byatt 's plot for purposes of bland hollywood romance \",\"underdeveloped \",\"the jokes are flat \",\"a heartening tale of small victories \"],[\"suspense , intriguing characters and bizarre bank robberies , \",\"a gritty police thriller with all the dysfunctional family dynamics one could wish for \",\"with a wonderful ensemble cast of characters that bring the routine day to day struggles of the working class to life \",\"nonetheless appreciates the art and reveals a music scene that transcends culture and race . \",\"do we really need the tiger beat version ? \",...,\"when there 's nothing else happening \",\"on cable \",\"it with ring , \",\"far from a groundbreaking endeavor \",\"that these women are spectacular \"],...,[\"it does turn out to be a bit of a cheat in the end \",\"may be convinced that he has something significant to say \",\"to be both hugely entertaining and uplifting . \",\", boredom never takes hold . \",\"left to work with , sort of like michael jackson 's nose \",...,\"from a severe case of hollywood-itis \",\"the very best of them \",\"thrills , \",\"'s attracting audiences to unfaithful \",\"impressively delicate range \"],[\"starts off promisingly but then proceeds to flop \",\"distinguished actor \",\"on their parents ' anguish \",\"pays off and is effective if you stick with it \",\"is n't particularly funny \",...,\"a delightful comedy \",\"anguish , anger and frustration \",\"at achieving the modest , crowd-pleasing goals it sets for itself \",\"a patient viewer \",\"this new jangle of noise , mayhem and stupidity must be a serious contender for the title . \"]]\n",
       "label: [[0,0,1,0,0,...,0,0,0,0,1],[1,1,1,1,0,...,0,0,1,0,1],...,[0,0,1,1,0,...,0,1,1,1,1],[0,1,0,1,0,...,1,0,1,1,0]]\n",
       "idx: [[0,1,2,3,4,...,995,996,997,998,999],[1000,1001,1002,1003,1004,...,1995,1996,1997,1998,1999],...,[66000,66001,66002,66003,66004,...,66995,66996,66997,66998,66999],[67000,67001,67002,67003,67004,...,67344,67345,67346,67347,67348]]"
      ]
     },
     "execution_count": 7,
     "metadata": {},
     "output_type": "execute_result"
    }
   ],
   "source": [
    "raw_datasets['train'].data"
   ]
  },
  {
   "cell_type": "code",
   "execution_count": 8,
   "id": "f5fc8869-d620-4a6b-b070-933da9fadbfd",
   "metadata": {},
   "outputs": [
    {
     "data": {
      "text/plain": [
       "{'sentence': 'hide new secretions from the parental units ',\n",
       " 'label': 0,\n",
       " 'idx': 0}"
      ]
     },
     "execution_count": 8,
     "metadata": {},
     "output_type": "execute_result"
    }
   ],
   "source": [
    "raw_datasets['train'][0]"
   ]
  },
  {
   "cell_type": "code",
   "execution_count": 9,
   "id": "2cad7de3-b8f5-48a1-9c9e-008345d9be47",
   "metadata": {},
   "outputs": [
    {
     "data": {
      "text/plain": [
       "{'sentence': ['entirely stale concept ',\n",
       "  'will amuse or entertain them ',\n",
       "  'wobbly premise work '],\n",
       " 'label': [0, 1, 0],\n",
       " 'idx': [5000, 5001, 5002]}"
      ]
     },
     "execution_count": 9,
     "metadata": {},
     "output_type": "execute_result"
    }
   ],
   "source": [
    "raw_datasets['train'][5000:5003]"
   ]
  },
  {
   "cell_type": "code",
   "execution_count": 10,
   "id": "3708c15c-ecf2-4650-a11e-62e1d53e8c52",
   "metadata": {},
   "outputs": [
    {
     "data": {
      "text/plain": [
       "{'sentence': Value(dtype='string', id=None),\n",
       " 'label': ClassLabel(names=['negative', 'positive'], id=None),\n",
       " 'idx': Value(dtype='int32', id=None)}"
      ]
     },
     "execution_count": 10,
     "metadata": {},
     "output_type": "execute_result"
    }
   ],
   "source": [
    "raw_datasets['train'].features"
   ]
  },
  {
   "cell_type": "markdown",
   "id": "bd82c496-bf6a-4aa8-88a5-8ddbcbc39233",
   "metadata": {},
   "source": [
    "### Tokenize the text data"
   ]
  },
  {
   "cell_type": "code",
   "execution_count": 11,
   "id": "8b458eed-7183-4661-9ab0-46cd57a6a213",
   "metadata": {},
   "outputs": [
    {
     "data": {
      "application/vnd.jupyter.widget-view+json": {
       "model_id": "0d6e1209e1684b718f4a11e52bd90a32",
       "version_major": 2,
       "version_minor": 0
      },
      "text/plain": [
       "tokenizer_config.json:   0%|          | 0.00/48.0 [00:00<?, ?B/s]"
      ]
     },
     "metadata": {},
     "output_type": "display_data"
    },
    {
     "data": {
      "application/vnd.jupyter.widget-view+json": {
       "model_id": "69f7d8ad8ebe45b9b9a8e01a81609286",
       "version_major": 2,
       "version_minor": 0
      },
      "text/plain": [
       "config.json:   0%|          | 0.00/483 [00:00<?, ?B/s]"
      ]
     },
     "metadata": {},
     "output_type": "display_data"
    },
    {
     "data": {
      "application/vnd.jupyter.widget-view+json": {
       "model_id": "e68abafd42ca4904918b3a7c164b7139",
       "version_major": 2,
       "version_minor": 0
      },
      "text/plain": [
       "vocab.txt:   0%|          | 0.00/232k [00:00<?, ?B/s]"
      ]
     },
     "metadata": {},
     "output_type": "display_data"
    },
    {
     "data": {
      "application/vnd.jupyter.widget-view+json": {
       "model_id": "e422531725a44844a651b513b74560a8",
       "version_major": 2,
       "version_minor": 0
      },
      "text/plain": [
       "tokenizer.json:   0%|          | 0.00/466k [00:00<?, ?B/s]"
      ]
     },
     "metadata": {},
     "output_type": "display_data"
    }
   ],
   "source": [
    "from transformers import AutoTokenizer\n",
    "\n",
    "checkpoint = 'distilbert-base-uncased'\n",
    "tokenizer = AutoTokenizer.from_pretrained(checkpoint)"
   ]
  },
  {
   "cell_type": "markdown",
   "id": "51e95828-e143-4337-99ba-4171d5fec24a",
   "metadata": {},
   "source": [
    "#### Tokenize a subset of the data to visualize the tokenization"
   ]
  },
  {
   "cell_type": "code",
   "execution_count": 12,
   "id": "767e63ca-8e21-47d4-8652-606dba2ca51c",
   "metadata": {},
   "outputs": [],
   "source": [
    "from pprint import pprint"
   ]
  },
  {
   "cell_type": "code",
   "execution_count": 13,
   "id": "ff961d72-ebc2-44a3-a6f4-f4da7d762c70",
   "metadata": {},
   "outputs": [
    {
     "name": "stdout",
     "output_type": "stream",
     "text": [
      "{'attention_mask': [[1, 1, 1, 1, 1, 1, 1, 1, 1, 1],\n",
      "                    [1, 1, 1, 1, 1, 1, 1, 1, 1, 1, 1],\n",
      "                    [1, 1, 1, 1, 1, 1, 1, 1, 1, 1, 1, 1, 1, 1, 1]],\n",
      " 'input_ids': [[101, 5342, 2047, 3595, 8496, 2013, 1996, 18643, 3197, 102],\n",
      "               [101,\n",
      "                3397,\n",
      "                2053,\n",
      "                15966,\n",
      "                1010,\n",
      "                2069,\n",
      "                4450,\n",
      "                2098,\n",
      "                18201,\n",
      "                2015,\n",
      "                102],\n",
      "               [101,\n",
      "                2008,\n",
      "                7459,\n",
      "                2049,\n",
      "                3494,\n",
      "                1998,\n",
      "                10639,\n",
      "                2015,\n",
      "                2242,\n",
      "                2738,\n",
      "                3376,\n",
      "                2055,\n",
      "                2529,\n",
      "                3267,\n",
      "                102]]}\n"
     ]
    }
   ],
   "source": [
    "tokenized_sentences = tokenizer(raw_datasets['train'][0:3]['sentence'])\n",
    "pprint(tokenized_sentences)"
   ]
  },
  {
   "cell_type": "markdown",
   "id": "cd2dd670-0fb6-4d7f-8e0c-eb33a8276c1a",
   "metadata": {},
   "source": [
    "#### Create a tokenization wrapper to quickly tokenize the dataset"
   ]
  },
  {
   "cell_type": "code",
   "execution_count": 15,
   "id": "b1bc3789-66ce-497a-941f-6b5a80403087",
   "metadata": {},
   "outputs": [],
   "source": [
    "def tokenize_fn(batch):\n",
    "    return tokenizer(batch['sentence'], truncation=True)"
   ]
  },
  {
   "cell_type": "code",
   "execution_count": 16,
   "id": "783491c1-2e92-4388-9b81-47a789d24e0b",
   "metadata": {},
   "outputs": [
    {
     "data": {
      "application/vnd.jupyter.widget-view+json": {
       "model_id": "bd3dd07017b04ed0bd8c987a065ba45a",
       "version_major": 2,
       "version_minor": 0
      },
      "text/plain": [
       "Map:   0%|          | 0/67349 [00:00<?, ? examples/s]"
      ]
     },
     "metadata": {},
     "output_type": "display_data"
    },
    {
     "data": {
      "application/vnd.jupyter.widget-view+json": {
       "model_id": "ceba235efbf54f958fb156a928cce5c0",
       "version_major": 2,
       "version_minor": 0
      },
      "text/plain": [
       "Map:   0%|          | 0/872 [00:00<?, ? examples/s]"
      ]
     },
     "metadata": {},
     "output_type": "display_data"
    },
    {
     "data": {
      "application/vnd.jupyter.widget-view+json": {
       "model_id": "935fc5e94fac4ecdb062402418d93b20",
       "version_major": 2,
       "version_minor": 0
      },
      "text/plain": [
       "Map:   0%|          | 0/1821 [00:00<?, ? examples/s]"
      ]
     },
     "metadata": {},
     "output_type": "display_data"
    }
   ],
   "source": [
    "tokenized_datasets = raw_datasets.map(tokenize_fn, batched=True)"
   ]
  },
  {
   "cell_type": "markdown",
   "id": "0fdfde81-d287-4888-bac1-0d6c93bc7d43",
   "metadata": {},
   "source": [
    "### Create Training Arguments for the Model"
   ]
  },
  {
   "cell_type": "code",
   "execution_count": 17,
   "id": "4a9580bf-d63f-48a6-a945-eb394e4a2886",
   "metadata": {},
   "outputs": [],
   "source": [
    "from transformers import TrainingArguments"
   ]
  },
  {
   "cell_type": "code",
   "execution_count": 18,
   "id": "329f9259-ddc2-4c93-94b3-5066fa21af11",
   "metadata": {},
   "outputs": [],
   "source": [
    "training_args = TrainingArguments(\n",
    "    'my_trainer',\n",
    "    evaluation_strategy='epoch',\n",
    "    save_strategy='epoch',\n",
    "    num_train_epochs=1\n",
    ")"
   ]
  },
  {
   "cell_type": "markdown",
   "id": "591f0072-e299-47cc-a8af-9c3d3bf34e24",
   "metadata": {},
   "source": [
    "### Import the Model"
   ]
  },
  {
   "cell_type": "code",
   "execution_count": 19,
   "id": "2500a382-f2fa-491e-8dab-afc6ed97c65f",
   "metadata": {},
   "outputs": [],
   "source": [
    "from transformers import AutoModelForSequenceClassification"
   ]
  },
  {
   "cell_type": "code",
   "execution_count": 20,
   "id": "e4514e8d-0e5f-4412-ae46-abd27643c0f1",
   "metadata": {},
   "outputs": [
    {
     "data": {
      "application/vnd.jupyter.widget-view+json": {
       "model_id": "901a3bb0d73f41b19922ff1cbfdffcd4",
       "version_major": 2,
       "version_minor": 0
      },
      "text/plain": [
       "model.safetensors:   0%|          | 0.00/268M [00:00<?, ?B/s]"
      ]
     },
     "metadata": {},
     "output_type": "display_data"
    },
    {
     "name": "stderr",
     "output_type": "stream",
     "text": [
      "Some weights of DistilBertForSequenceClassification were not initialized from the model checkpoint at distilbert-base-uncased and are newly initialized: ['classifier.bias', 'classifier.weight', 'pre_classifier.bias', 'pre_classifier.weight']\n",
      "You should probably TRAIN this model on a down-stream task to be able to use it for predictions and inference.\n"
     ]
    }
   ],
   "source": [
    "model = AutoModelForSequenceClassification.from_pretrained(checkpoint, num_labels = 2)"
   ]
  },
  {
   "cell_type": "code",
   "execution_count": 21,
   "id": "8a080b75-7088-4708-850c-c84a14c42921",
   "metadata": {},
   "outputs": [
    {
     "data": {
      "text/plain": [
       "transformers.models.distilbert.modeling_distilbert.DistilBertForSequenceClassification"
      ]
     },
     "execution_count": 21,
     "metadata": {},
     "output_type": "execute_result"
    }
   ],
   "source": [
    "type(model)"
   ]
  },
  {
   "cell_type": "code",
   "execution_count": 24,
   "id": "322be36c-1d86-44fa-9e4b-9491f240dc8e",
   "metadata": {},
   "outputs": [
    {
     "data": {
      "text/plain": [
       "DistilBertForSequenceClassification(\n",
       "  (distilbert): DistilBertModel(\n",
       "    (embeddings): Embeddings(\n",
       "      (word_embeddings): Embedding(30522, 768, padding_idx=0)\n",
       "      (position_embeddings): Embedding(512, 768)\n",
       "      (LayerNorm): LayerNorm((768,), eps=1e-12, elementwise_affine=True)\n",
       "      (dropout): Dropout(p=0.1, inplace=False)\n",
       "    )\n",
       "    (transformer): Transformer(\n",
       "      (layer): ModuleList(\n",
       "        (0-5): 6 x TransformerBlock(\n",
       "          (attention): MultiHeadSelfAttention(\n",
       "            (dropout): Dropout(p=0.1, inplace=False)\n",
       "            (q_lin): Linear(in_features=768, out_features=768, bias=True)\n",
       "            (k_lin): Linear(in_features=768, out_features=768, bias=True)\n",
       "            (v_lin): Linear(in_features=768, out_features=768, bias=True)\n",
       "            (out_lin): Linear(in_features=768, out_features=768, bias=True)\n",
       "          )\n",
       "          (sa_layer_norm): LayerNorm((768,), eps=1e-12, elementwise_affine=True)\n",
       "          (ffn): FFN(\n",
       "            (dropout): Dropout(p=0.1, inplace=False)\n",
       "            (lin1): Linear(in_features=768, out_features=3072, bias=True)\n",
       "            (lin2): Linear(in_features=3072, out_features=768, bias=True)\n",
       "            (activation): GELUActivation()\n",
       "          )\n",
       "          (output_layer_norm): LayerNorm((768,), eps=1e-12, elementwise_affine=True)\n",
       "        )\n",
       "      )\n",
       "    )\n",
       "  )\n",
       "  (pre_classifier): Linear(in_features=768, out_features=768, bias=True)\n",
       "  (classifier): Linear(in_features=768, out_features=2, bias=True)\n",
       "  (dropout): Dropout(p=0.2, inplace=False)\n",
       ")"
      ]
     },
     "execution_count": 24,
     "metadata": {},
     "output_type": "execute_result"
    }
   ],
   "source": [
    "model"
   ]
  },
  {
   "cell_type": "markdown",
   "id": "b50c5082-7c8e-4331-ab0a-d0e199a4c59c",
   "metadata": {},
   "source": [
    "### Setup the Trainer and Metrics"
   ]
  },
  {
   "cell_type": "code",
   "execution_count": 25,
   "id": "246048a2-aa30-43c0-b85d-45452569a081",
   "metadata": {},
   "outputs": [],
   "source": [
    "from transformers import Trainer\n",
    "from datasets import load_metric"
   ]
  },
  {
   "cell_type": "code",
   "execution_count": 27,
   "id": "d10e535e-21c4-401c-a636-48e22d295724",
   "metadata": {},
   "outputs": [
    {
     "name": "stderr",
     "output_type": "stream",
     "text": [
      "/opt/anaconda3/lib/python3.11/site-packages/datasets/load.py:756: FutureWarning: The repository for glue contains custom code which must be executed to correctly load the metric. You can inspect the repository content at https://raw.githubusercontent.com/huggingface/datasets/2.18.0/metrics/glue/glue.py\n",
      "You can avoid this message in future by passing the argument `trust_remote_code=True`.\n",
      "Passing `trust_remote_code=True` will be mandatory to load this metric from the next major release of `datasets`.\n",
      "  warnings.warn(\n"
     ]
    },
    {
     "data": {
      "text/plain": [
       "{'accuracy': 0.6666666666666666}"
      ]
     },
     "execution_count": 27,
     "metadata": {},
     "output_type": "execute_result"
    }
   ],
   "source": [
    "metric = load_metric('glue', 'sst2')\n",
    "\n",
    "#Dummy compute on metric to see what it will look like\n",
    "metric.compute(predictions = [1,0,1], references=[1,0,0])"
   ]
  },
  {
   "cell_type": "markdown",
   "id": "b2260fd3-28dd-4cc1-a871-829548c84615",
   "metadata": {},
   "source": [
    "#### Create a function that will compute our metrics"
   ]
  },
  {
   "cell_type": "code",
   "execution_count": 28,
   "id": "bdf80a02-411c-4bb9-be94-a2b0c2972272",
   "metadata": {},
   "outputs": [],
   "source": [
    "def compute_metrics(logits_and_labels):\n",
    "    logits, labels = logits_and_labels\n",
    "    predictions = np.argmax(logits, axis=-1)\n",
    "    return metric.compute(predictions=predictions, references=labels)"
   ]
  },
  {
   "cell_type": "markdown",
   "id": "4db5fa97-20cf-445a-b17c-270108093bfa",
   "metadata": {},
   "source": [
    "#### Build the Trainer"
   ]
  },
  {
   "cell_type": "code",
   "execution_count": 29,
   "id": "fd7d4f28-bf42-4967-b464-3bb528254d66",
   "metadata": {},
   "outputs": [
    {
     "name": "stderr",
     "output_type": "stream",
     "text": [
      "/opt/anaconda3/lib/python3.11/site-packages/accelerate/accelerator.py:432: FutureWarning: Passing the following arguments to `Accelerator` is deprecated and will be removed in version 1.0 of Accelerate: dict_keys(['dispatch_batches', 'split_batches', 'even_batches', 'use_seedable_sampler']). Please pass an `accelerate.DataLoaderConfiguration` instead: \n",
      "dataloader_config = DataLoaderConfiguration(dispatch_batches=None, split_batches=False, even_batches=True, use_seedable_sampler=True)\n",
      "  warnings.warn(\n"
     ]
    }
   ],
   "source": [
    "trainer = Trainer(\n",
    "    model,\n",
    "    training_args,\n",
    "    train_dataset=tokenized_datasets['train'],\n",
    "    eval_dataset=tokenized_datasets['validation'],\n",
    "    tokenizer=tokenizer,\n",
    "    compute_metrics=compute_metrics\n",
    ")"
   ]
  },
  {
   "cell_type": "code",
   "execution_count": 30,
   "id": "3cf34a8c-1c1d-4693-a6ea-62472a0801aa",
   "metadata": {},
   "outputs": [
    {
     "data": {
      "text/html": [
       "\n",
       "    <div>\n",
       "      \n",
       "      <progress value='8419' max='8419' style='width:300px; height:20px; vertical-align: middle;'></progress>\n",
       "      [8419/8419 16:44, Epoch 1/1]\n",
       "    </div>\n",
       "    <table border=\"1\" class=\"dataframe\">\n",
       "  <thead>\n",
       " <tr style=\"text-align: left;\">\n",
       "      <th>Epoch</th>\n",
       "      <th>Training Loss</th>\n",
       "      <th>Validation Loss</th>\n",
       "      <th>Accuracy</th>\n",
       "    </tr>\n",
       "  </thead>\n",
       "  <tbody>\n",
       "    <tr>\n",
       "      <td>1</td>\n",
       "      <td>0.199100</td>\n",
       "      <td>0.331456</td>\n",
       "      <td>0.909404</td>\n",
       "    </tr>\n",
       "  </tbody>\n",
       "</table><p>"
      ],
      "text/plain": [
       "<IPython.core.display.HTML object>"
      ]
     },
     "metadata": {},
     "output_type": "display_data"
    },
    {
     "data": {
      "text/plain": [
       "TrainOutput(global_step=8419, training_loss=0.2652225986004499, metrics={'train_runtime': 1010.1819, 'train_samples_per_second': 66.67, 'train_steps_per_second': 8.334, 'total_flos': 517212489917652.0, 'train_loss': 0.2652225986004499, 'epoch': 1.0})"
      ]
     },
     "execution_count": 30,
     "metadata": {},
     "output_type": "execute_result"
    }
   ],
   "source": [
    "trainer.train()"
   ]
  },
  {
   "cell_type": "code",
   "execution_count": 31,
   "id": "59269bb2-7927-472d-b875-7bfcc4da920e",
   "metadata": {},
   "outputs": [],
   "source": [
    "trainer.save_model('my_first_finetuned_model')"
   ]
  },
  {
   "cell_type": "markdown",
   "id": "4d323a32-4fa7-4c34-96e5-511d011a288f",
   "metadata": {},
   "source": [
    "### Test out the new fine tuned model"
   ]
  },
  {
   "cell_type": "code",
   "execution_count": 33,
   "id": "039a55b9-8078-44b9-848d-9adb8ddb71cd",
   "metadata": {},
   "outputs": [],
   "source": [
    "from transformers import pipeline\n",
    "\n",
    "new_model = pipeline('text-classification', model='my_first_finetuned_model', framework='pt')"
   ]
  },
  {
   "cell_type": "code",
   "execution_count": 34,
   "id": "0db70c03-953f-4776-b26d-a77834184486",
   "metadata": {},
   "outputs": [
    {
     "data": {
      "text/plain": [
       "[{'label': 'LABEL_1', 'score': 0.9994922876358032}]"
      ]
     },
     "execution_count": 34,
     "metadata": {},
     "output_type": "execute_result"
    }
   ],
   "source": [
    "new_model('This movie is great!')"
   ]
  },
  {
   "cell_type": "code",
   "execution_count": 35,
   "id": "88958dbc-168d-4dcc-9506-aa1bdd19186d",
   "metadata": {},
   "outputs": [
    {
     "data": {
      "text/plain": [
       "[{'label': 'LABEL_0', 'score': 0.9982945322990417}]"
      ]
     },
     "execution_count": 35,
     "metadata": {},
     "output_type": "execute_result"
    }
   ],
   "source": [
    "new_model('This movie sucks')"
   ]
  },
  {
   "cell_type": "markdown",
   "id": "f3b4ff12-8e1c-4f7f-9521-da9f32cdb9c6",
   "metadata": {},
   "source": [
    "#### Handle generic labels by altering the config json file"
   ]
  },
  {
   "cell_type": "code",
   "execution_count": 36,
   "id": "7c993696-6d05-439c-81bc-c47a2f8f42c4",
   "metadata": {},
   "outputs": [],
   "source": [
    "import json\n",
    "config_path = 'my_first_finetuned_model/config.json'\n",
    "with open(config_path) as f:\n",
    "    j = json.load(f)\n",
    "\n",
    "j['id2label'] = {0: 'negative', 1: 'positive'}\n",
    "\n",
    "with open(config_path, 'w') as f:\n",
    "    json.dump(j, f, indent=2)"
   ]
  },
  {
   "cell_type": "code",
   "execution_count": 37,
   "id": "10440e64-843d-4c11-b356-24ddaa14a767",
   "metadata": {},
   "outputs": [],
   "source": [
    "new_model = pipeline('text-classification', model='my_first_finetuned_model', framework='pt')"
   ]
  },
  {
   "cell_type": "code",
   "execution_count": 38,
   "id": "73165a6b-1f03-4607-bbc2-048d22b680a4",
   "metadata": {},
   "outputs": [
    {
     "data": {
      "text/plain": [
       "[{'label': 'positive', 'score': 0.9994922876358032}]"
      ]
     },
     "execution_count": 38,
     "metadata": {},
     "output_type": "execute_result"
    }
   ],
   "source": [
    "new_model('This movie is great!')"
   ]
  },
  {
   "cell_type": "markdown",
   "id": "f42eed77-118a-4531-96d8-89dcbe8dc767",
   "metadata": {},
   "source": [
    "## ✍️ Fine-Tuning on Custom Dataset"
   ]
  },
  {
   "cell_type": "code",
   "execution_count": 1,
   "id": "7f0f65ed-2b12-4a34-9982-757fd700e0e6",
   "metadata": {},
   "outputs": [],
   "source": [
    "import numpy as np\n",
    "import pandas as pd\n",
    "import seaborn as sns\n",
    "import matplotlib.pyplot as plt\n",
    "\n",
    "import torch\n",
    "\n",
    "from sklearn.metrics import classification_report, accuracy_score, confusion_matrix\n",
    "from sklearn.model_selection import train_test_split"
   ]
  },
  {
   "cell_type": "markdown",
   "id": "ad06970b-25c4-4668-9760-1d89564afa16",
   "metadata": {},
   "source": [
    "### Import the Data"
   ]
  },
  {
   "cell_type": "code",
   "execution_count": 2,
   "id": "ce65b5ae-6f94-48a8-8daf-20ab2e77e6f2",
   "metadata": {},
   "outputs": [
    {
     "data": {
      "text/html": [
       "<div>\n",
       "<style scoped>\n",
       "    .dataframe tbody tr th:only-of-type {\n",
       "        vertical-align: middle;\n",
       "    }\n",
       "\n",
       "    .dataframe tbody tr th {\n",
       "        vertical-align: top;\n",
       "    }\n",
       "\n",
       "    .dataframe thead th {\n",
       "        text-align: right;\n",
       "    }\n",
       "</style>\n",
       "<table border=\"1\" class=\"dataframe\">\n",
       "  <thead>\n",
       "    <tr style=\"text-align: right;\">\n",
       "      <th></th>\n",
       "      <th>tweet_id</th>\n",
       "      <th>airline_sentiment</th>\n",
       "      <th>airline_sentiment_confidence</th>\n",
       "      <th>negativereason</th>\n",
       "      <th>negativereason_confidence</th>\n",
       "      <th>airline</th>\n",
       "      <th>airline_sentiment_gold</th>\n",
       "      <th>name</th>\n",
       "      <th>negativereason_gold</th>\n",
       "      <th>retweet_count</th>\n",
       "      <th>text</th>\n",
       "      <th>tweet_coord</th>\n",
       "      <th>tweet_created</th>\n",
       "      <th>tweet_location</th>\n",
       "      <th>user_timezone</th>\n",
       "    </tr>\n",
       "  </thead>\n",
       "  <tbody>\n",
       "    <tr>\n",
       "      <th>0</th>\n",
       "      <td>570306133677760513</td>\n",
       "      <td>neutral</td>\n",
       "      <td>1.0000</td>\n",
       "      <td>NaN</td>\n",
       "      <td>NaN</td>\n",
       "      <td>Virgin America</td>\n",
       "      <td>NaN</td>\n",
       "      <td>cairdin</td>\n",
       "      <td>NaN</td>\n",
       "      <td>0</td>\n",
       "      <td>@VirginAmerica What @dhepburn said.</td>\n",
       "      <td>NaN</td>\n",
       "      <td>2015-02-24 11:35:52 -0800</td>\n",
       "      <td>NaN</td>\n",
       "      <td>Eastern Time (US &amp; Canada)</td>\n",
       "    </tr>\n",
       "    <tr>\n",
       "      <th>1</th>\n",
       "      <td>570301130888122368</td>\n",
       "      <td>positive</td>\n",
       "      <td>0.3486</td>\n",
       "      <td>NaN</td>\n",
       "      <td>0.0000</td>\n",
       "      <td>Virgin America</td>\n",
       "      <td>NaN</td>\n",
       "      <td>jnardino</td>\n",
       "      <td>NaN</td>\n",
       "      <td>0</td>\n",
       "      <td>@VirginAmerica plus you've added commercials t...</td>\n",
       "      <td>NaN</td>\n",
       "      <td>2015-02-24 11:15:59 -0800</td>\n",
       "      <td>NaN</td>\n",
       "      <td>Pacific Time (US &amp; Canada)</td>\n",
       "    </tr>\n",
       "    <tr>\n",
       "      <th>2</th>\n",
       "      <td>570301083672813571</td>\n",
       "      <td>neutral</td>\n",
       "      <td>0.6837</td>\n",
       "      <td>NaN</td>\n",
       "      <td>NaN</td>\n",
       "      <td>Virgin America</td>\n",
       "      <td>NaN</td>\n",
       "      <td>yvonnalynn</td>\n",
       "      <td>NaN</td>\n",
       "      <td>0</td>\n",
       "      <td>@VirginAmerica I didn't today... Must mean I n...</td>\n",
       "      <td>NaN</td>\n",
       "      <td>2015-02-24 11:15:48 -0800</td>\n",
       "      <td>Lets Play</td>\n",
       "      <td>Central Time (US &amp; Canada)</td>\n",
       "    </tr>\n",
       "    <tr>\n",
       "      <th>3</th>\n",
       "      <td>570301031407624196</td>\n",
       "      <td>negative</td>\n",
       "      <td>1.0000</td>\n",
       "      <td>Bad Flight</td>\n",
       "      <td>0.7033</td>\n",
       "      <td>Virgin America</td>\n",
       "      <td>NaN</td>\n",
       "      <td>jnardino</td>\n",
       "      <td>NaN</td>\n",
       "      <td>0</td>\n",
       "      <td>@VirginAmerica it's really aggressive to blast...</td>\n",
       "      <td>NaN</td>\n",
       "      <td>2015-02-24 11:15:36 -0800</td>\n",
       "      <td>NaN</td>\n",
       "      <td>Pacific Time (US &amp; Canada)</td>\n",
       "    </tr>\n",
       "    <tr>\n",
       "      <th>4</th>\n",
       "      <td>570300817074462722</td>\n",
       "      <td>negative</td>\n",
       "      <td>1.0000</td>\n",
       "      <td>Can't Tell</td>\n",
       "      <td>1.0000</td>\n",
       "      <td>Virgin America</td>\n",
       "      <td>NaN</td>\n",
       "      <td>jnardino</td>\n",
       "      <td>NaN</td>\n",
       "      <td>0</td>\n",
       "      <td>@VirginAmerica and it's a really big bad thing...</td>\n",
       "      <td>NaN</td>\n",
       "      <td>2015-02-24 11:14:45 -0800</td>\n",
       "      <td>NaN</td>\n",
       "      <td>Pacific Time (US &amp; Canada)</td>\n",
       "    </tr>\n",
       "  </tbody>\n",
       "</table>\n",
       "</div>"
      ],
      "text/plain": [
       "             tweet_id airline_sentiment  airline_sentiment_confidence  \\\n",
       "0  570306133677760513           neutral                        1.0000   \n",
       "1  570301130888122368          positive                        0.3486   \n",
       "2  570301083672813571           neutral                        0.6837   \n",
       "3  570301031407624196          negative                        1.0000   \n",
       "4  570300817074462722          negative                        1.0000   \n",
       "\n",
       "  negativereason  negativereason_confidence         airline  \\\n",
       "0            NaN                        NaN  Virgin America   \n",
       "1            NaN                     0.0000  Virgin America   \n",
       "2            NaN                        NaN  Virgin America   \n",
       "3     Bad Flight                     0.7033  Virgin America   \n",
       "4     Can't Tell                     1.0000  Virgin America   \n",
       "\n",
       "  airline_sentiment_gold        name negativereason_gold  retweet_count  \\\n",
       "0                    NaN     cairdin                 NaN              0   \n",
       "1                    NaN    jnardino                 NaN              0   \n",
       "2                    NaN  yvonnalynn                 NaN              0   \n",
       "3                    NaN    jnardino                 NaN              0   \n",
       "4                    NaN    jnardino                 NaN              0   \n",
       "\n",
       "                                                text tweet_coord  \\\n",
       "0                @VirginAmerica What @dhepburn said.         NaN   \n",
       "1  @VirginAmerica plus you've added commercials t...         NaN   \n",
       "2  @VirginAmerica I didn't today... Must mean I n...         NaN   \n",
       "3  @VirginAmerica it's really aggressive to blast...         NaN   \n",
       "4  @VirginAmerica and it's a really big bad thing...         NaN   \n",
       "\n",
       "               tweet_created tweet_location               user_timezone  \n",
       "0  2015-02-24 11:35:52 -0800            NaN  Eastern Time (US & Canada)  \n",
       "1  2015-02-24 11:15:59 -0800            NaN  Pacific Time (US & Canada)  \n",
       "2  2015-02-24 11:15:48 -0800      Lets Play  Central Time (US & Canada)  \n",
       "3  2015-02-24 11:15:36 -0800            NaN  Pacific Time (US & Canada)  \n",
       "4  2015-02-24 11:14:45 -0800            NaN  Pacific Time (US & Canada)  "
      ]
     },
     "execution_count": 2,
     "metadata": {},
     "output_type": "execute_result"
    }
   ],
   "source": [
    "df = pd.read_csv('data/AirlineTweets.csv')\n",
    "df.head()"
   ]
  },
  {
   "cell_type": "code",
   "execution_count": 3,
   "id": "38c75661-9c4a-457f-b7e7-0d8f28df30d0",
   "metadata": {},
   "outputs": [
    {
     "data": {
      "text/html": [
       "<div>\n",
       "<style scoped>\n",
       "    .dataframe tbody tr th:only-of-type {\n",
       "        vertical-align: middle;\n",
       "    }\n",
       "\n",
       "    .dataframe tbody tr th {\n",
       "        vertical-align: top;\n",
       "    }\n",
       "\n",
       "    .dataframe thead th {\n",
       "        text-align: right;\n",
       "    }\n",
       "</style>\n",
       "<table border=\"1\" class=\"dataframe\">\n",
       "  <thead>\n",
       "    <tr style=\"text-align: right;\">\n",
       "      <th></th>\n",
       "      <th>airline_sentiment</th>\n",
       "      <th>text</th>\n",
       "    </tr>\n",
       "  </thead>\n",
       "  <tbody>\n",
       "    <tr>\n",
       "      <th>0</th>\n",
       "      <td>neutral</td>\n",
       "      <td>@VirginAmerica What @dhepburn said.</td>\n",
       "    </tr>\n",
       "    <tr>\n",
       "      <th>1</th>\n",
       "      <td>positive</td>\n",
       "      <td>@VirginAmerica plus you've added commercials t...</td>\n",
       "    </tr>\n",
       "    <tr>\n",
       "      <th>2</th>\n",
       "      <td>neutral</td>\n",
       "      <td>@VirginAmerica I didn't today... Must mean I n...</td>\n",
       "    </tr>\n",
       "    <tr>\n",
       "      <th>3</th>\n",
       "      <td>negative</td>\n",
       "      <td>@VirginAmerica it's really aggressive to blast...</td>\n",
       "    </tr>\n",
       "    <tr>\n",
       "      <th>4</th>\n",
       "      <td>negative</td>\n",
       "      <td>@VirginAmerica and it's a really big bad thing...</td>\n",
       "    </tr>\n",
       "  </tbody>\n",
       "</table>\n",
       "</div>"
      ],
      "text/plain": [
       "  airline_sentiment                                               text\n",
       "0           neutral                @VirginAmerica What @dhepburn said.\n",
       "1          positive  @VirginAmerica plus you've added commercials t...\n",
       "2           neutral  @VirginAmerica I didn't today... Must mean I n...\n",
       "3          negative  @VirginAmerica it's really aggressive to blast...\n",
       "4          negative  @VirginAmerica and it's a really big bad thing..."
      ]
     },
     "execution_count": 3,
     "metadata": {},
     "output_type": "execute_result"
    }
   ],
   "source": [
    "df = df[['airline_sentiment', 'text']]\n",
    "df.head()"
   ]
  },
  {
   "cell_type": "code",
   "execution_count": 4,
   "id": "eaf7e4be-6dc0-4baf-bc04-2e74c796bfed",
   "metadata": {},
   "outputs": [
    {
     "data": {
      "text/plain": [
       "<Axes: >"
      ]
     },
     "execution_count": 4,
     "metadata": {},
     "output_type": "execute_result"
    },
    {
     "data": {
      "image/png": "[encoded data removed]",
      "text/plain": [
       "<Figure size 640x480 with 1 Axes>"
      ]
     },
     "metadata": {},
     "output_type": "display_data"
    }
   ],
   "source": [
    "df['airline_sentiment'].hist()"
   ]
  },
  {
   "cell_type": "code",
   "execution_count": 5,
   "id": "a1e3e8aa-b472-48e6-8b7e-5f47f2b8a85e",
   "metadata": {},
   "outputs": [
    {
     "data": {
      "text/html": [
       "<div>\n",
       "<style scoped>\n",
       "    .dataframe tbody tr th:only-of-type {\n",
       "        vertical-align: middle;\n",
       "    }\n",
       "\n",
       "    .dataframe tbody tr th {\n",
       "        vertical-align: top;\n",
       "    }\n",
       "\n",
       "    .dataframe thead th {\n",
       "        text-align: right;\n",
       "    }\n",
       "</style>\n",
       "<table border=\"1\" class=\"dataframe\">\n",
       "  <thead>\n",
       "    <tr style=\"text-align: right;\">\n",
       "      <th></th>\n",
       "      <th>airline_sentiment</th>\n",
       "      <th>text</th>\n",
       "      <th>target</th>\n",
       "    </tr>\n",
       "  </thead>\n",
       "  <tbody>\n",
       "    <tr>\n",
       "      <th>0</th>\n",
       "      <td>neutral</td>\n",
       "      <td>@VirginAmerica What @dhepburn said.</td>\n",
       "      <td>2</td>\n",
       "    </tr>\n",
       "    <tr>\n",
       "      <th>1</th>\n",
       "      <td>positive</td>\n",
       "      <td>@VirginAmerica plus you've added commercials t...</td>\n",
       "      <td>1</td>\n",
       "    </tr>\n",
       "    <tr>\n",
       "      <th>2</th>\n",
       "      <td>neutral</td>\n",
       "      <td>@VirginAmerica I didn't today... Must mean I n...</td>\n",
       "      <td>2</td>\n",
       "    </tr>\n",
       "    <tr>\n",
       "      <th>3</th>\n",
       "      <td>negative</td>\n",
       "      <td>@VirginAmerica it's really aggressive to blast...</td>\n",
       "      <td>0</td>\n",
       "    </tr>\n",
       "    <tr>\n",
       "      <th>4</th>\n",
       "      <td>negative</td>\n",
       "      <td>@VirginAmerica and it's a really big bad thing...</td>\n",
       "      <td>0</td>\n",
       "    </tr>\n",
       "  </tbody>\n",
       "</table>\n",
       "</div>"
      ],
      "text/plain": [
       "  airline_sentiment                                               text  target\n",
       "0           neutral                @VirginAmerica What @dhepburn said.       2\n",
       "1          positive  @VirginAmerica plus you've added commercials t...       1\n",
       "2           neutral  @VirginAmerica I didn't today... Must mean I n...       2\n",
       "3          negative  @VirginAmerica it's really aggressive to blast...       0\n",
       "4          negative  @VirginAmerica and it's a really big bad thing...       0"
      ]
     },
     "execution_count": 5,
     "metadata": {},
     "output_type": "execute_result"
    }
   ],
   "source": [
    "target_map = {'positive': 1, 'negative': 0, 'neutral': 2}\n",
    "df['target'] = df['airline_sentiment'].map(target_map)\n",
    "df.head()"
   ]
  },
  {
   "cell_type": "markdown",
   "id": "8d462022-0baf-4403-95f8-7985f91be083",
   "metadata": {},
   "source": [
    "### Create a dataset csv so that we can use the load_dataset method\n",
    "- **IMPORTANT**: The new dataset's target column MUST be named 'label' to be read in by the load_dataset function"
   ]
  },
  {
   "cell_type": "code",
   "execution_count": 6,
   "id": "901a14d6-6da9-4876-93e0-b0b17bcdc5fe",
   "metadata": {},
   "outputs": [],
   "source": [
    "df2 = df[['text', 'target']].copy()\n",
    "df2.columns = ['sentence', 'label']\n",
    "df2.to_csv('data/airlinetweetsfixed.csv', index=None)"
   ]
  },
  {
   "cell_type": "code",
   "execution_count": 7,
   "id": "61b731cf-b803-4120-8919-5d56037c10f1",
   "metadata": {},
   "outputs": [
    {
     "data": {
      "application/vnd.jupyter.widget-view+json": {
       "model_id": "ea26dc4644584020a5da5938888d81c6",
       "version_major": 2,
       "version_minor": 0
      },
      "text/plain": [
       "Generating train split: 0 examples [00:00, ? examples/s]"
      ]
     },
     "metadata": {},
     "output_type": "display_data"
    },
    {
     "data": {
      "text/plain": [
       "DatasetDict({\n",
       "    train: Dataset({\n",
       "        features: ['sentence', 'label'],\n",
       "        num_rows: 14640\n",
       "    })\n",
       "})"
      ]
     },
     "execution_count": 7,
     "metadata": {},
     "output_type": "execute_result"
    }
   ],
   "source": [
    "from datasets import load_dataset\n",
    "raw_dataset = load_dataset('csv', data_files='data/airlinetweetsfixed.csv')\n",
    "raw_dataset"
   ]
  },
  {
   "cell_type": "markdown",
   "id": "c0164ad6-fac5-4923-9961-629e0306bc6f",
   "metadata": {},
   "source": [
    "### Split data into train and test sets"
   ]
  },
  {
   "cell_type": "code",
   "execution_count": 8,
   "id": "b68354a0-4331-476c-98cb-bccd70017960",
   "metadata": {},
   "outputs": [
    {
     "data": {
      "text/plain": [
       "DatasetDict({\n",
       "    train: Dataset({\n",
       "        features: ['sentence', 'label'],\n",
       "        num_rows: 10248\n",
       "    })\n",
       "    test: Dataset({\n",
       "        features: ['sentence', 'label'],\n",
       "        num_rows: 4392\n",
       "    })\n",
       "})"
      ]
     },
     "execution_count": 8,
     "metadata": {},
     "output_type": "execute_result"
    }
   ],
   "source": [
    "split = raw_dataset['train'].train_test_split(test_size=0.3, seed=42)\n",
    "split"
   ]
  },
  {
   "cell_type": "markdown",
   "id": "9ecefd80-a7ef-4b90-9d9d-6ea8a445338c",
   "metadata": {},
   "source": [
    "### Tokenize the Data"
   ]
  },
  {
   "cell_type": "code",
   "execution_count": 9,
   "id": "e55d081c-25dc-4980-a077-a5fa02079ef7",
   "metadata": {},
   "outputs": [],
   "source": [
    "from transformers import AutoTokenizer"
   ]
  },
  {
   "cell_type": "code",
   "execution_count": 10,
   "id": "2358431a-cae8-4fe7-a3d2-ba82cd98ec58",
   "metadata": {},
   "outputs": [],
   "source": [
    "checkpoint = 'distilbert-base-cased'\n",
    "\n",
    "tokenizer = AutoTokenizer.from_pretrained(checkpoint)"
   ]
  },
  {
   "cell_type": "code",
   "execution_count": 11,
   "id": "1ecc662a-57ac-4912-9860-46d615e9b29c",
   "metadata": {},
   "outputs": [],
   "source": [
    "def tokenize_fn(batch):\n",
    "    return tokenizer(batch['sentence'], truncation=True)"
   ]
  },
  {
   "cell_type": "code",
   "execution_count": 12,
   "id": "203dd509-77a4-4a61-86b8-7f89164fa5ed",
   "metadata": {},
   "outputs": [
    {
     "data": {
      "application/vnd.jupyter.widget-view+json": {
       "model_id": "a5e4ec8c5f2649f9a88da0431ea3dc63",
       "version_major": 2,
       "version_minor": 0
      },
      "text/plain": [
       "Map:   0%|          | 0/10248 [00:00<?, ? examples/s]"
      ]
     },
     "metadata": {},
     "output_type": "display_data"
    },
    {
     "data": {
      "application/vnd.jupyter.widget-view+json": {
       "model_id": "e51cdbcf597c46839d254dcd7a513102",
       "version_major": 2,
       "version_minor": 0
      },
      "text/plain": [
       "Map:   0%|          | 0/4392 [00:00<?, ? examples/s]"
      ]
     },
     "metadata": {},
     "output_type": "display_data"
    }
   ],
   "source": [
    "tokenized_datasets = split.map(tokenize_fn, batched=True)"
   ]
  },
  {
   "cell_type": "markdown",
   "id": "8c8102a7-da5b-4da0-a176-bdf56cc0161d",
   "metadata": {},
   "source": [
    "### Import the model"
   ]
  },
  {
   "cell_type": "code",
   "execution_count": 13,
   "id": "fd7302c3-c9f5-45b6-8fff-03e9fa4ff244",
   "metadata": {},
   "outputs": [],
   "source": [
    "from transformers import AutoModelForSequenceClassification"
   ]
  },
  {
   "cell_type": "code",
   "execution_count": 14,
   "id": "a5c16188-fdeb-4b0a-b110-fe6081480398",
   "metadata": {},
   "outputs": [
    {
     "name": "stderr",
     "output_type": "stream",
     "text": [
      "Some weights of DistilBertForSequenceClassification were not initialized from the model checkpoint at distilbert-base-cased and are newly initialized: ['classifier.bias', 'classifier.weight', 'pre_classifier.bias', 'pre_classifier.weight']\n",
      "You should probably TRAIN this model on a down-stream task to be able to use it for predictions and inference.\n"
     ]
    },
    {
     "data": {
      "text/plain": [
       "DistilBertForSequenceClassification(\n",
       "  (distilbert): DistilBertModel(\n",
       "    (embeddings): Embeddings(\n",
       "      (word_embeddings): Embedding(28996, 768, padding_idx=0)\n",
       "      (position_embeddings): Embedding(512, 768)\n",
       "      (LayerNorm): LayerNorm((768,), eps=1e-12, elementwise_affine=True)\n",
       "      (dropout): Dropout(p=0.1, inplace=False)\n",
       "    )\n",
       "    (transformer): Transformer(\n",
       "      (layer): ModuleList(\n",
       "        (0-5): 6 x TransformerBlock(\n",
       "          (attention): MultiHeadSelfAttention(\n",
       "            (dropout): Dropout(p=0.1, inplace=False)\n",
       "            (q_lin): Linear(in_features=768, out_features=768, bias=True)\n",
       "            (k_lin): Linear(in_features=768, out_features=768, bias=True)\n",
       "            (v_lin): Linear(in_features=768, out_features=768, bias=True)\n",
       "            (out_lin): Linear(in_features=768, out_features=768, bias=True)\n",
       "          )\n",
       "          (sa_layer_norm): LayerNorm((768,), eps=1e-12, elementwise_affine=True)\n",
       "          (ffn): FFN(\n",
       "            (dropout): Dropout(p=0.1, inplace=False)\n",
       "            (lin1): Linear(in_features=768, out_features=3072, bias=True)\n",
       "            (lin2): Linear(in_features=3072, out_features=768, bias=True)\n",
       "            (activation): GELUActivation()\n",
       "          )\n",
       "          (output_layer_norm): LayerNorm((768,), eps=1e-12, elementwise_affine=True)\n",
       "        )\n",
       "      )\n",
       "    )\n",
       "  )\n",
       "  (pre_classifier): Linear(in_features=768, out_features=768, bias=True)\n",
       "  (classifier): Linear(in_features=768, out_features=3, bias=True)\n",
       "  (dropout): Dropout(p=0.2, inplace=False)\n",
       ")"
      ]
     },
     "execution_count": 14,
     "metadata": {},
     "output_type": "execute_result"
    }
   ],
   "source": [
    "model = AutoModelForSequenceClassification.from_pretrained(checkpoint, num_labels=3)\n",
    "model"
   ]
  },
  {
   "cell_type": "markdown",
   "id": "49a5a9d2-afa7-479f-a6bf-934d91c58746",
   "metadata": {},
   "source": [
    "### Set up the Training Arguments and the Trainer"
   ]
  },
  {
   "cell_type": "code",
   "execution_count": 15,
   "id": "547a5a46-5d32-4877-b2f0-ef43ddbffc54",
   "metadata": {},
   "outputs": [],
   "source": [
    "from transformers import TrainingArguments, Trainer"
   ]
  },
  {
   "cell_type": "code",
   "execution_count": 16,
   "id": "6401eec8-83f9-4901-a3f1-9488f0e7edd4",
   "metadata": {},
   "outputs": [],
   "source": [
    "training_args = TrainingArguments(\n",
    "    output_dir='training_dir',\n",
    "    evaluation_strategy='epoch',\n",
    "    save_strategy='epoch',\n",
    "    num_train_epochs=3,\n",
    "    per_device_train_batch_size=16,\n",
    "    per_device_eval_batch_size=64\n",
    ")"
   ]
  },
  {
   "cell_type": "markdown",
   "id": "7a33ac3e-c04c-4cac-a119-39453b344437",
   "metadata": {},
   "source": [
    "#### We build the compute metrics function because we know what it should return, a dictionary "
   ]
  },
  {
   "cell_type": "code",
   "execution_count": 17,
   "id": "f3e9087a-a567-4e74-ab26-db94887cde29",
   "metadata": {},
   "outputs": [],
   "source": [
    "def compute_metrics(logits_and_labels):\n",
    "    logits, labels = logits_and_labels\n",
    "    predictions = np.argmax(logits, axis=-1)\n",
    "    acc = np.mean(predictions == labels)\n",
    "    return {'accuracy': acc}"
   ]
  },
  {
   "cell_type": "code",
   "execution_count": 18,
   "id": "96c2ace2-b393-47d4-8185-afeaf38f94aa",
   "metadata": {},
   "outputs": [
    {
     "name": "stderr",
     "output_type": "stream",
     "text": [
      "/opt/anaconda3/lib/python3.11/site-packages/accelerate/accelerator.py:432: FutureWarning: Passing the following arguments to `Accelerator` is deprecated and will be removed in version 1.0 of Accelerate: dict_keys(['dispatch_batches', 'split_batches', 'even_batches', 'use_seedable_sampler']). Please pass an `accelerate.DataLoaderConfiguration` instead: \n",
      "dataloader_config = DataLoaderConfiguration(dispatch_batches=None, split_batches=False, even_batches=True, use_seedable_sampler=True)\n",
      "  warnings.warn(\n"
     ]
    }
   ],
   "source": [
    "trainer = Trainer(\n",
    "    model,\n",
    "    training_args,\n",
    "    train_dataset= tokenized_datasets['train'],\n",
    "    eval_dataset= tokenized_datasets['test'],\n",
    "    tokenizer=tokenizer,\n",
    "    compute_metrics=compute_metrics\n",
    ")"
   ]
  },
  {
   "cell_type": "markdown",
   "id": "ee23b938-e657-4921-838e-dfd01b1eaf6a",
   "metadata": {},
   "source": [
    "### Train the model"
   ]
  },
  {
   "cell_type": "code",
   "execution_count": 19,
   "id": "23c5c6e3-82f2-431a-b9c8-f88206e381d9",
   "metadata": {},
   "outputs": [
    {
     "data": {
      "text/html": [
       "\n",
       "    <div>\n",
       "      \n",
       "      <progress value='1923' max='1923' style='width:300px; height:20px; vertical-align: middle;'></progress>\n",
       "      [1923/1923 06:02, Epoch 3/3]\n",
       "    </div>\n",
       "    <table border=\"1\" class=\"dataframe\">\n",
       "  <thead>\n",
       " <tr style=\"text-align: left;\">\n",
       "      <th>Epoch</th>\n",
       "      <th>Training Loss</th>\n",
       "      <th>Validation Loss</th>\n",
       "      <th>Accuracy</th>\n",
       "    </tr>\n",
       "  </thead>\n",
       "  <tbody>\n",
       "    <tr>\n",
       "      <td>1</td>\n",
       "      <td>0.549500</td>\n",
       "      <td>0.469124</td>\n",
       "      <td>0.824909</td>\n",
       "    </tr>\n",
       "    <tr>\n",
       "      <td>2</td>\n",
       "      <td>0.347900</td>\n",
       "      <td>0.502661</td>\n",
       "      <td>0.833789</td>\n",
       "    </tr>\n",
       "    <tr>\n",
       "      <td>3</td>\n",
       "      <td>0.246900</td>\n",
       "      <td>0.614516</td>\n",
       "      <td>0.835155</td>\n",
       "    </tr>\n",
       "  </tbody>\n",
       "</table><p>"
      ],
      "text/plain": [
       "<IPython.core.display.HTML object>"
      ]
     },
     "metadata": {},
     "output_type": "display_data"
    },
    {
     "data": {
      "text/plain": [
       "TrainOutput(global_step=1923, training_loss=0.3324418328295632, metrics={'train_runtime': 363.8584, 'train_samples_per_second': 84.494, 'train_steps_per_second': 5.285, 'total_flos': 388537948763424.0, 'train_loss': 0.3324418328295632, 'epoch': 3.0})"
      ]
     },
     "execution_count": 19,
     "metadata": {},
     "output_type": "execute_result"
    }
   ],
   "source": [
    "trainer.train()"
   ]
  },
  {
   "cell_type": "markdown",
   "id": "64fad268-a998-4a59-ab78-e71cf6f470e3",
   "metadata": {},
   "source": [
    "#### By the 3rd epoch our model was massively overfitting, so we will use the model from epoch 2"
   ]
  },
  {
   "cell_type": "code",
   "execution_count": 21,
   "id": "f913be64-e1f2-4c7f-af42-971b6cb8a3d3",
   "metadata": {},
   "outputs": [
    {
     "name": "stdout",
     "output_type": "stream",
     "text": [
      "\u001b[34mcheckpoint-1282\u001b[m\u001b[m \u001b[34mcheckpoint-1923\u001b[m\u001b[m \u001b[34mcheckpoint-641\u001b[m\u001b[m  \u001b[34mruns\u001b[m\u001b[m\n"
     ]
    },
    {
     "name": "stderr",
     "output_type": "stream",
     "text": [
      "huggingface/tokenizers: The current process just got forked, after parallelism has already been used. Disabling parallelism to avoid deadlocks...\n",
      "To disable this warning, you can either:\n",
      "\t- Avoid using `tokenizers` before the fork if possible\n",
      "\t- Explicitly set the environment variable TOKENIZERS_PARALLELISM=(true | false)\n"
     ]
    }
   ],
   "source": [
    "!ls training_dir"
   ]
  },
  {
   "cell_type": "markdown",
   "id": "9205ed18-bcab-4209-8d75-19310c77c194",
   "metadata": {},
   "source": [
    "checkpoint-1282 is the 2nd hightest training step so that is our 2nd epoch"
   ]
  },
  {
   "cell_type": "markdown",
   "id": "00332176-afa1-4501-8223-f7611087392d",
   "metadata": {},
   "source": [
    "### Test our new model"
   ]
  },
  {
   "cell_type": "code",
   "execution_count": 22,
   "id": "82d7f95f-1367-4261-9478-e667196aeeb4",
   "metadata": {},
   "outputs": [],
   "source": [
    "from transformers import pipeline"
   ]
  },
  {
   "cell_type": "code",
   "execution_count": 23,
   "id": "07dce4c6-cab6-42ad-894f-f35ab0d51dce",
   "metadata": {},
   "outputs": [],
   "source": [
    "new_model = pipeline('text-classification',model='training_dir/checkpoint-1282/', framework='pt')"
   ]
  },
  {
   "cell_type": "code",
   "execution_count": 24,
   "id": "0b57a75d-8014-458f-82ad-a59e3a7d519a",
   "metadata": {
    "scrolled": true
   },
   "outputs": [
    {
     "data": {
      "text/plain": [
       "[{'label': 'LABEL_1', 'score': 0.9024790525436401},\n",
       " {'label': 'LABEL_1', 'score': 0.9323650002479553},\n",
       " {'label': 'LABEL_2', 'score': 0.5682129859924316},\n",
       " {'label': 'LABEL_1', 'score': 0.8090113401412964},\n",
       " {'label': 'LABEL_2', 'score': 0.39973485469818115},\n",
       " {'label': 'LABEL_0', 'score': 0.9969663023948669},\n",
       " {'label': 'LABEL_2', 'score': 0.8045974969863892},\n",
       " {'label': 'LABEL_2', 'score': 0.5792801380157471},\n",
       " {'label': 'LABEL_1', 'score': 0.7784878015518188},\n",
       " {'label': 'LABEL_0', 'score': 0.9974740147590637},\n",
       " {'label': 'LABEL_0', 'score': 0.9697872400283813},\n",
       " {'label': 'LABEL_0', 'score': 0.9961252808570862},\n",
       " {'label': 'LABEL_1', 'score': 0.9665440917015076},\n",
       " {'label': 'LABEL_0', 'score': 0.9943262934684753},\n",
       " {'label': 'LABEL_2', 'score': 0.9701145887374878},\n",
       " {'label': 'LABEL_2', 'score': 0.5021890997886658},\n",
       " {'label': 'LABEL_0', 'score': 0.47092682123184204},\n",
       " {'label': 'LABEL_0', 'score': 0.997565507888794},\n",
       " {'label': 'LABEL_0', 'score': 0.9169389009475708},\n",
       " {'label': 'LABEL_0', 'score': 0.9969082474708557},\n",
       " {'label': 'LABEL_2', 'score': 0.9626913070678711},\n",
       " {'label': 'LABEL_0', 'score': 0.6087151169776917},\n",
       " {'label': 'LABEL_1', 'score': 0.4014089107513428},\n",
       " {'label': 'LABEL_1', 'score': 0.554839015007019},\n",
       " {'label': 'LABEL_0', 'score': 0.9963685274124146},\n",
       " {'label': 'LABEL_0', 'score': 0.42777082324028015},\n",
       " {'label': 'LABEL_0', 'score': 0.9974766373634338},\n",
       " {'label': 'LABEL_0', 'score': 0.9974128603935242},\n",
       " {'label': 'LABEL_0', 'score': 0.9975956082344055},\n",
       " {'label': 'LABEL_0', 'score': 0.997407853603363},\n",
       " {'label': 'LABEL_0', 'score': 0.9970917701721191},\n",
       " {'label': 'LABEL_0', 'score': 0.5671762228012085},\n",
       " {'label': 'LABEL_0', 'score': 0.9978960752487183},\n",
       " {'label': 'LABEL_0', 'score': 0.9972602128982544},\n",
       " {'label': 'LABEL_1', 'score': 0.9158735871315002},\n",
       " {'label': 'LABEL_0', 'score': 0.9968889355659485},\n",
       " {'label': 'LABEL_1', 'score': 0.49919337034225464},\n",
       " {'label': 'LABEL_0', 'score': 0.9963647723197937},\n",
       " {'label': 'LABEL_0', 'score': 0.9958015084266663},\n",
       " {'label': 'LABEL_2', 'score': 0.5666883587837219},\n",
       " {'label': 'LABEL_0', 'score': 0.9969215989112854},\n",
       " {'label': 'LABEL_0', 'score': 0.9933037161827087},\n",
       " {'label': 'LABEL_0', 'score': 0.9967441558837891},\n",
       " {'label': 'LABEL_0', 'score': 0.9879328608512878},\n",
       " {'label': 'LABEL_1', 'score': 0.8555749654769897},\n",
       " {'label': 'LABEL_0', 'score': 0.6643558144569397},\n",
       " {'label': 'LABEL_0', 'score': 0.9935001730918884},\n",
       " {'label': 'LABEL_1', 'score': 0.9362145662307739},\n",
       " {'label': 'LABEL_0', 'score': 0.9973052740097046},\n",
       " {'label': 'LABEL_0', 'score': 0.9974242448806763},\n",
       " {'label': 'LABEL_0', 'score': 0.9968407154083252},\n",
       " {'label': 'LABEL_0', 'score': 0.9887101054191589},\n",
       " {'label': 'LABEL_0', 'score': 0.9738062024116516},\n",
       " {'label': 'LABEL_0', 'score': 0.9974365830421448},\n",
       " {'label': 'LABEL_0', 'score': 0.9965156316757202},\n",
       " {'label': 'LABEL_0', 'score': 0.9969909191131592},\n",
       " {'label': 'LABEL_0', 'score': 0.9724698066711426},\n",
       " {'label': 'LABEL_2', 'score': 0.9118630290031433},\n",
       " {'label': 'LABEL_0', 'score': 0.9962800145149231},\n",
       " {'label': 'LABEL_1', 'score': 0.7674198150634766},\n",
       " {'label': 'LABEL_0', 'score': 0.9953729510307312},\n",
       " {'label': 'LABEL_0', 'score': 0.9965468049049377},\n",
       " {'label': 'LABEL_0', 'score': 0.9969883561134338},\n",
       " {'label': 'LABEL_0', 'score': 0.9958828687667847},\n",
       " {'label': 'LABEL_0', 'score': 0.5845121741294861},\n",
       " {'label': 'LABEL_2', 'score': 0.8725799918174744},\n",
       " {'label': 'LABEL_0', 'score': 0.9958735108375549},\n",
       " {'label': 'LABEL_0', 'score': 0.9974410533905029},\n",
       " {'label': 'LABEL_0', 'score': 0.9973908066749573},\n",
       " {'label': 'LABEL_0', 'score': 0.9829593896865845},\n",
       " {'label': 'LABEL_0', 'score': 0.9925013780593872},\n",
       " {'label': 'LABEL_0', 'score': 0.9899761080741882},\n",
       " {'label': 'LABEL_0', 'score': 0.9893331527709961},\n",
       " {'label': 'LABEL_0', 'score': 0.9907670021057129},\n",
       " {'label': 'LABEL_2', 'score': 0.7592834830284119},\n",
       " {'label': 'LABEL_0', 'score': 0.9954598546028137},\n",
       " {'label': 'LABEL_0', 'score': 0.9976449608802795},\n",
       " {'label': 'LABEL_0', 'score': 0.9947964549064636},\n",
       " {'label': 'LABEL_0', 'score': 0.9961650371551514},\n",
       " {'label': 'LABEL_0', 'score': 0.9922404289245605},\n",
       " {'label': 'LABEL_0', 'score': 0.9977506995201111},\n",
       " {'label': 'LABEL_0', 'score': 0.7384904026985168},\n",
       " {'label': 'LABEL_1', 'score': 0.9658257365226746},\n",
       " {'label': 'LABEL_0', 'score': 0.96748948097229},\n",
       " {'label': 'LABEL_1', 'score': 0.8735924959182739},\n",
       " {'label': 'LABEL_2', 'score': 0.9574858546257019},\n",
       " {'label': 'LABEL_0', 'score': 0.9978139400482178},\n",
       " {'label': 'LABEL_0', 'score': 0.9929499626159668},\n",
       " {'label': 'LABEL_0', 'score': 0.9946698546409607},\n",
       " {'label': 'LABEL_2', 'score': 0.5728291273117065},\n",
       " {'label': 'LABEL_0', 'score': 0.951032280921936},\n",
       " {'label': 'LABEL_0', 'score': 0.981936514377594},\n",
       " {'label': 'LABEL_0', 'score': 0.9954505562782288},\n",
       " {'label': 'LABEL_1', 'score': 0.9564743638038635},\n",
       " {'label': 'LABEL_0', 'score': 0.9929463267326355},\n",
       " {'label': 'LABEL_0', 'score': 0.9947981834411621},\n",
       " {'label': 'LABEL_0', 'score': 0.9973899722099304},\n",
       " {'label': 'LABEL_0', 'score': 0.9974052309989929},\n",
       " {'label': 'LABEL_0', 'score': 0.9939815402030945},\n",
       " {'label': 'LABEL_0', 'score': 0.9966928958892822},\n",
       " {'label': 'LABEL_0', 'score': 0.9974510073661804},\n",
       " {'label': 'LABEL_2', 'score': 0.9809062480926514},\n",
       " {'label': 'LABEL_2', 'score': 0.8353919982910156},\n",
       " {'label': 'LABEL_2', 'score': 0.8660487532615662},\n",
       " {'label': 'LABEL_2', 'score': 0.5817269086837769},\n",
       " {'label': 'LABEL_0', 'score': 0.9971154928207397},\n",
       " {'label': 'LABEL_0', 'score': 0.9466924667358398},\n",
       " {'label': 'LABEL_0', 'score': 0.9927955269813538},\n",
       " {'label': 'LABEL_0', 'score': 0.9958822727203369},\n",
       " {'label': 'LABEL_0', 'score': 0.996914267539978},\n",
       " {'label': 'LABEL_0', 'score': 0.9971262812614441},\n",
       " {'label': 'LABEL_0', 'score': 0.9970678687095642},\n",
       " {'label': 'LABEL_0', 'score': 0.9895273447036743},\n",
       " {'label': 'LABEL_2', 'score': 0.8133784532546997},\n",
       " {'label': 'LABEL_0', 'score': 0.9909433722496033},\n",
       " {'label': 'LABEL_2', 'score': 0.8318547606468201},\n",
       " {'label': 'LABEL_0', 'score': 0.9973326921463013},\n",
       " {'label': 'LABEL_2', 'score': 0.46842384338378906},\n",
       " {'label': 'LABEL_0', 'score': 0.997032642364502},\n",
       " {'label': 'LABEL_2', 'score': 0.9096745252609253},\n",
       " {'label': 'LABEL_2', 'score': 0.9660208225250244},\n",
       " {'label': 'LABEL_0', 'score': 0.4630013108253479},\n",
       " {'label': 'LABEL_2', 'score': 0.9095852375030518},\n",
       " {'label': 'LABEL_2', 'score': 0.9486660361289978},\n",
       " {'label': 'LABEL_0', 'score': 0.9959469437599182},\n",
       " {'label': 'LABEL_0', 'score': 0.9974240064620972},\n",
       " {'label': 'LABEL_0', 'score': 0.9953578114509583},\n",
       " {'label': 'LABEL_0', 'score': 0.9967880249023438},\n",
       " {'label': 'LABEL_0', 'score': 0.8511807322502136},\n",
       " {'label': 'LABEL_0', 'score': 0.9971063733100891},\n",
       " {'label': 'LABEL_1', 'score': 0.9135255217552185},\n",
       " {'label': 'LABEL_0', 'score': 0.9976542592048645},\n",
       " {'label': 'LABEL_0', 'score': 0.9957142472267151},\n",
       " {'label': 'LABEL_1', 'score': 0.9725792407989502},\n",
       " {'label': 'LABEL_2', 'score': 0.9708408713340759},\n",
       " {'label': 'LABEL_0', 'score': 0.9806504845619202},\n",
       " {'label': 'LABEL_0', 'score': 0.9969314336776733},\n",
       " {'label': 'LABEL_0', 'score': 0.9831043481826782},\n",
       " {'label': 'LABEL_0', 'score': 0.9977350234985352},\n",
       " {'label': 'LABEL_0', 'score': 0.9974852800369263},\n",
       " {'label': 'LABEL_0', 'score': 0.9968388080596924},\n",
       " {'label': 'LABEL_0', 'score': 0.9955040812492371},\n",
       " {'label': 'LABEL_0', 'score': 0.9963808655738831},\n",
       " {'label': 'LABEL_0', 'score': 0.9958983063697815},\n",
       " {'label': 'LABEL_2', 'score': 0.9242773056030273},\n",
       " {'label': 'LABEL_0', 'score': 0.6841954588890076},\n",
       " {'label': 'LABEL_0', 'score': 0.7014709711074829},\n",
       " {'label': 'LABEL_0', 'score': 0.9975589513778687},\n",
       " {'label': 'LABEL_0', 'score': 0.997485876083374},\n",
       " {'label': 'LABEL_0', 'score': 0.997748076915741},\n",
       " {'label': 'LABEL_0', 'score': 0.9974890947341919},\n",
       " {'label': 'LABEL_2', 'score': 0.5652201771736145},\n",
       " {'label': 'LABEL_2', 'score': 0.9727161526679993},\n",
       " {'label': 'LABEL_2', 'score': 0.8216137886047363},\n",
       " {'label': 'LABEL_1', 'score': 0.8855997323989868},\n",
       " {'label': 'LABEL_2', 'score': 0.7317123413085938},\n",
       " {'label': 'LABEL_0', 'score': 0.9946269392967224},\n",
       " {'label': 'LABEL_0', 'score': 0.9957190155982971},\n",
       " {'label': 'LABEL_0', 'score': 0.9972752928733826},\n",
       " {'label': 'LABEL_0', 'score': 0.9973205924034119},\n",
       " {'label': 'LABEL_0', 'score': 0.5153470635414124},\n",
       " {'label': 'LABEL_0', 'score': 0.9974708557128906},\n",
       " {'label': 'LABEL_0', 'score': 0.5833542346954346},\n",
       " {'label': 'LABEL_0', 'score': 0.9976061582565308},\n",
       " {'label': 'LABEL_0', 'score': 0.8994014859199524},\n",
       " {'label': 'LABEL_0', 'score': 0.9087721705436707},\n",
       " {'label': 'LABEL_0', 'score': 0.9972655773162842},\n",
       " {'label': 'LABEL_0', 'score': 0.9962789416313171},\n",
       " {'label': 'LABEL_2', 'score': 0.5787463784217834},\n",
       " {'label': 'LABEL_2', 'score': 0.9752240180969238},\n",
       " {'label': 'LABEL_0', 'score': 0.9963846206665039},\n",
       " {'label': 'LABEL_0', 'score': 0.992676317691803},\n",
       " {'label': 'LABEL_0', 'score': 0.8395816087722778},\n",
       " {'label': 'LABEL_2', 'score': 0.8410597443580627},\n",
       " {'label': 'LABEL_1', 'score': 0.8154876232147217},\n",
       " {'label': 'LABEL_1', 'score': 0.9284704327583313},\n",
       " {'label': 'LABEL_0', 'score': 0.9853488802909851},\n",
       " {'label': 'LABEL_0', 'score': 0.9974911212921143},\n",
       " {'label': 'LABEL_0', 'score': 0.9942313432693481},\n",
       " {'label': 'LABEL_0', 'score': 0.9886151552200317},\n",
       " {'label': 'LABEL_0', 'score': 0.9933297038078308},\n",
       " {'label': 'LABEL_0', 'score': 0.9900051951408386},\n",
       " {'label': 'LABEL_0', 'score': 0.9974266886711121},\n",
       " {'label': 'LABEL_0', 'score': 0.9971626400947571},\n",
       " {'label': 'LABEL_0', 'score': 0.997794508934021},\n",
       " {'label': 'LABEL_2', 'score': 0.7061755061149597},\n",
       " {'label': 'LABEL_0', 'score': 0.7759098410606384},\n",
       " {'label': 'LABEL_0', 'score': 0.9970149993896484},\n",
       " {'label': 'LABEL_1', 'score': 0.9361116886138916},\n",
       " {'label': 'LABEL_0', 'score': 0.9449584484100342},\n",
       " {'label': 'LABEL_0', 'score': 0.9855917692184448},\n",
       " {'label': 'LABEL_0', 'score': 0.9963539838790894},\n",
       " {'label': 'LABEL_0', 'score': 0.99122554063797},\n",
       " {'label': 'LABEL_0', 'score': 0.9805784225463867},\n",
       " {'label': 'LABEL_0', 'score': 0.9648731350898743},\n",
       " {'label': 'LABEL_2', 'score': 0.9429644346237183},\n",
       " {'label': 'LABEL_1', 'score': 0.9562264084815979},\n",
       " {'label': 'LABEL_0', 'score': 0.9898403286933899},\n",
       " {'label': 'LABEL_0', 'score': 0.996580183506012},\n",
       " {'label': 'LABEL_0', 'score': 0.9967018961906433},\n",
       " {'label': 'LABEL_2', 'score': 0.7338719367980957},\n",
       " {'label': 'LABEL_0', 'score': 0.9678497314453125},\n",
       " {'label': 'LABEL_2', 'score': 0.9230331182479858},\n",
       " {'label': 'LABEL_0', 'score': 0.9975141286849976},\n",
       " {'label': 'LABEL_0', 'score': 0.9910009503364563},\n",
       " {'label': 'LABEL_1', 'score': 0.8654648661613464},\n",
       " {'label': 'LABEL_2', 'score': 0.9761747121810913},\n",
       " {'label': 'LABEL_0', 'score': 0.9975831508636475},\n",
       " {'label': 'LABEL_0', 'score': 0.997398853302002},\n",
       " {'label': 'LABEL_0', 'score': 0.9920681715011597},\n",
       " {'label': 'LABEL_0', 'score': 0.4845605790615082},\n",
       " {'label': 'LABEL_2', 'score': 0.9646236300468445},\n",
       " {'label': 'LABEL_1', 'score': 0.9628587961196899},\n",
       " {'label': 'LABEL_0', 'score': 0.6664404273033142},\n",
       " {'label': 'LABEL_0', 'score': 0.9965632557868958},\n",
       " {'label': 'LABEL_2', 'score': 0.9833993911743164},\n",
       " {'label': 'LABEL_2', 'score': 0.9839432239532471},\n",
       " {'label': 'LABEL_0', 'score': 0.9975270628929138},\n",
       " {'label': 'LABEL_2', 'score': 0.882193922996521},\n",
       " {'label': 'LABEL_2', 'score': 0.8014057278633118},\n",
       " {'label': 'LABEL_0', 'score': 0.9836744070053101},\n",
       " {'label': 'LABEL_0', 'score': 0.9970679879188538},\n",
       " {'label': 'LABEL_0', 'score': 0.9958637952804565},\n",
       " {'label': 'LABEL_2', 'score': 0.8924894332885742},\n",
       " {'label': 'LABEL_1', 'score': 0.8519972562789917},\n",
       " {'label': 'LABEL_0', 'score': 0.9664916396141052},\n",
       " {'label': 'LABEL_0', 'score': 0.8749110698699951},\n",
       " {'label': 'LABEL_0', 'score': 0.9954494833946228},\n",
       " {'label': 'LABEL_0', 'score': 0.9957016110420227},\n",
       " {'label': 'LABEL_0', 'score': 0.9579296112060547},\n",
       " {'label': 'LABEL_0', 'score': 0.7852655649185181},\n",
       " {'label': 'LABEL_0', 'score': 0.9904348850250244},\n",
       " {'label': 'LABEL_0', 'score': 0.996605634689331},\n",
       " {'label': 'LABEL_0', 'score': 0.997657299041748},\n",
       " {'label': 'LABEL_0', 'score': 0.9961265921592712},\n",
       " {'label': 'LABEL_1', 'score': 0.8464561104774475},\n",
       " {'label': 'LABEL_0', 'score': 0.9919082522392273},\n",
       " {'label': 'LABEL_0', 'score': 0.9828196167945862},\n",
       " {'label': 'LABEL_0', 'score': 0.9976974129676819},\n",
       " {'label': 'LABEL_0', 'score': 0.9881658554077148},\n",
       " {'label': 'LABEL_0', 'score': 0.9934220910072327},\n",
       " {'label': 'LABEL_2', 'score': 0.7994170784950256},\n",
       " {'label': 'LABEL_0', 'score': 0.6867767572402954},\n",
       " {'label': 'LABEL_1', 'score': 0.8193337917327881},\n",
       " {'label': 'LABEL_0', 'score': 0.9976080656051636},\n",
       " {'label': 'LABEL_0', 'score': 0.9862200021743774},\n",
       " {'label': 'LABEL_0', 'score': 0.9761682152748108},\n",
       " {'label': 'LABEL_1', 'score': 0.5719889998435974},\n",
       " {'label': 'LABEL_0', 'score': 0.9948857426643372},\n",
       " {'label': 'LABEL_2', 'score': 0.890541136264801},\n",
       " {'label': 'LABEL_0', 'score': 0.9974052309989929},\n",
       " {'label': 'LABEL_0', 'score': 0.9970495700836182},\n",
       " {'label': 'LABEL_0', 'score': 0.9977978467941284},\n",
       " {'label': 'LABEL_0', 'score': 0.9970083832740784},\n",
       " {'label': 'LABEL_0', 'score': 0.9974199533462524},\n",
       " {'label': 'LABEL_0', 'score': 0.9862549304962158},\n",
       " {'label': 'LABEL_0', 'score': 0.9733850359916687},\n",
       " {'label': 'LABEL_0', 'score': 0.9974901676177979},\n",
       " {'label': 'LABEL_0', 'score': 0.6358643174171448},\n",
       " {'label': 'LABEL_0', 'score': 0.9526330232620239},\n",
       " {'label': 'LABEL_1', 'score': 0.9815592169761658},\n",
       " {'label': 'LABEL_0', 'score': 0.9954501986503601},\n",
       " {'label': 'LABEL_0', 'score': 0.9966290593147278},\n",
       " {'label': 'LABEL_1', 'score': 0.9725262522697449},\n",
       " {'label': 'LABEL_1', 'score': 0.805086076259613},\n",
       " {'label': 'LABEL_0', 'score': 0.9855378866195679},\n",
       " {'label': 'LABEL_0', 'score': 0.9976456761360168},\n",
       " {'label': 'LABEL_0', 'score': 0.9915637969970703},\n",
       " {'label': 'LABEL_0', 'score': 0.8090224266052246},\n",
       " {'label': 'LABEL_1', 'score': 0.96204674243927},\n",
       " {'label': 'LABEL_0', 'score': 0.9976843595504761},\n",
       " {'label': 'LABEL_0', 'score': 0.9290732741355896},\n",
       " {'label': 'LABEL_0', 'score': 0.9079357385635376},\n",
       " {'label': 'LABEL_0', 'score': 0.9816840291023254},\n",
       " {'label': 'LABEL_0', 'score': 0.9938957095146179},\n",
       " {'label': 'LABEL_1', 'score': 0.8418454527854919},\n",
       " {'label': 'LABEL_0', 'score': 0.9975192546844482},\n",
       " {'label': 'LABEL_2', 'score': 0.6474434733390808},\n",
       " {'label': 'LABEL_2', 'score': 0.9310702681541443},\n",
       " {'label': 'LABEL_0', 'score': 0.9555582404136658},\n",
       " {'label': 'LABEL_0', 'score': 0.9970386028289795},\n",
       " {'label': 'LABEL_0', 'score': 0.9949606657028198},\n",
       " {'label': 'LABEL_2', 'score': 0.7148202657699585},\n",
       " {'label': 'LABEL_0', 'score': 0.9942145943641663},\n",
       " {'label': 'LABEL_1', 'score': 0.9558730721473694},\n",
       " {'label': 'LABEL_0', 'score': 0.9535550475120544},\n",
       " {'label': 'LABEL_0', 'score': 0.9954107403755188},\n",
       " {'label': 'LABEL_0', 'score': 0.9969916343688965},\n",
       " {'label': 'LABEL_0', 'score': 0.9971209168434143},\n",
       " {'label': 'LABEL_0', 'score': 0.9976819753646851},\n",
       " {'label': 'LABEL_0', 'score': 0.9836010336875916},\n",
       " {'label': 'LABEL_0', 'score': 0.9976701140403748},\n",
       " {'label': 'LABEL_2', 'score': 0.8763800263404846},\n",
       " {'label': 'LABEL_2', 'score': 0.5349857211112976},\n",
       " {'label': 'LABEL_0', 'score': 0.9841012358665466},\n",
       " {'label': 'LABEL_0', 'score': 0.9954865574836731},\n",
       " {'label': 'LABEL_0', 'score': 0.9242788553237915},\n",
       " {'label': 'LABEL_2', 'score': 0.9765071868896484},\n",
       " {'label': 'LABEL_0', 'score': 0.9969838261604309},\n",
       " {'label': 'LABEL_0', 'score': 0.9887561202049255},\n",
       " {'label': 'LABEL_0', 'score': 0.9952208399772644},\n",
       " {'label': 'LABEL_2', 'score': 0.849420428276062},\n",
       " {'label': 'LABEL_2', 'score': 0.7927961945533752},\n",
       " {'label': 'LABEL_0', 'score': 0.9972922205924988},\n",
       " {'label': 'LABEL_2', 'score': 0.6062020063400269},\n",
       " {'label': 'LABEL_0', 'score': 0.9883665442466736},\n",
       " {'label': 'LABEL_1', 'score': 0.969720184803009},\n",
       " {'label': 'LABEL_0', 'score': 0.818218469619751},\n",
       " {'label': 'LABEL_2', 'score': 0.8799524903297424},\n",
       " {'label': 'LABEL_0', 'score': 0.9968857169151306},\n",
       " {'label': 'LABEL_0', 'score': 0.9958891272544861},\n",
       " {'label': 'LABEL_0', 'score': 0.9971855282783508},\n",
       " {'label': 'LABEL_0', 'score': 0.9978185892105103},\n",
       " {'label': 'LABEL_1', 'score': 0.6161763072013855},\n",
       " {'label': 'LABEL_0', 'score': 0.9926953315734863},\n",
       " {'label': 'LABEL_1', 'score': 0.7926318645477295},\n",
       " {'label': 'LABEL_0', 'score': 0.960013747215271},\n",
       " {'label': 'LABEL_0', 'score': 0.9791154861450195},\n",
       " {'label': 'LABEL_0', 'score': 0.9933892488479614},\n",
       " {'label': 'LABEL_0', 'score': 0.9960098266601562},\n",
       " {'label': 'LABEL_0', 'score': 0.9969488978385925},\n",
       " {'label': 'LABEL_0', 'score': 0.9811843633651733},\n",
       " {'label': 'LABEL_0', 'score': 0.9698216319084167},\n",
       " {'label': 'LABEL_0', 'score': 0.9054803252220154},\n",
       " {'label': 'LABEL_0', 'score': 0.9965289235115051},\n",
       " {'label': 'LABEL_0', 'score': 0.9923294186592102},\n",
       " {'label': 'LABEL_1', 'score': 0.9604529738426208},\n",
       " {'label': 'LABEL_0', 'score': 0.9905717372894287},\n",
       " {'label': 'LABEL_0', 'score': 0.7701738476753235},\n",
       " {'label': 'LABEL_0', 'score': 0.9926948547363281},\n",
       " {'label': 'LABEL_2', 'score': 0.9674561619758606},\n",
       " {'label': 'LABEL_0', 'score': 0.9963486194610596},\n",
       " {'label': 'LABEL_0', 'score': 0.9956423044204712},\n",
       " {'label': 'LABEL_1', 'score': 0.652411937713623},\n",
       " {'label': 'LABEL_0', 'score': 0.9967359900474548},\n",
       " {'label': 'LABEL_0', 'score': 0.9972793459892273},\n",
       " {'label': 'LABEL_0', 'score': 0.7933483123779297},\n",
       " {'label': 'LABEL_0', 'score': 0.9947010278701782},\n",
       " {'label': 'LABEL_2', 'score': 0.6178900599479675},\n",
       " {'label': 'LABEL_0', 'score': 0.6501520276069641},\n",
       " {'label': 'LABEL_2', 'score': 0.5265370011329651},\n",
       " {'label': 'LABEL_0', 'score': 0.9965915679931641},\n",
       " {'label': 'LABEL_0', 'score': 0.9964512586593628},\n",
       " {'label': 'LABEL_0', 'score': 0.9927805066108704},\n",
       " {'label': 'LABEL_0', 'score': 0.9941596984863281},\n",
       " {'label': 'LABEL_2', 'score': 0.5043947696685791},\n",
       " {'label': 'LABEL_0', 'score': 0.995487630367279},\n",
       " {'label': 'LABEL_0', 'score': 0.9924076795578003},\n",
       " {'label': 'LABEL_0', 'score': 0.9948784112930298},\n",
       " {'label': 'LABEL_1', 'score': 0.8941918015480042},\n",
       " {'label': 'LABEL_0', 'score': 0.7983574867248535},\n",
       " {'label': 'LABEL_1', 'score': 0.9628056883811951},\n",
       " {'label': 'LABEL_1', 'score': 0.9007387757301331},\n",
       " {'label': 'LABEL_0', 'score': 0.9977837204933167},\n",
       " {'label': 'LABEL_2', 'score': 0.9733600616455078},\n",
       " {'label': 'LABEL_1', 'score': 0.6144577860832214},\n",
       " {'label': 'LABEL_0', 'score': 0.9484577775001526},\n",
       " {'label': 'LABEL_1', 'score': 0.7849692702293396},\n",
       " {'label': 'LABEL_0', 'score': 0.3958171010017395},\n",
       " {'label': 'LABEL_0', 'score': 0.9959501028060913},\n",
       " {'label': 'LABEL_0', 'score': 0.9265782237052917},\n",
       " {'label': 'LABEL_0', 'score': 0.9930833578109741},\n",
       " {'label': 'LABEL_0', 'score': 0.9934276938438416},\n",
       " {'label': 'LABEL_0', 'score': 0.9750936627388},\n",
       " {'label': 'LABEL_2', 'score': 0.4914555847644806},\n",
       " {'label': 'LABEL_0', 'score': 0.9975571632385254},\n",
       " {'label': 'LABEL_0', 'score': 0.9976904392242432},\n",
       " {'label': 'LABEL_1', 'score': 0.9220573902130127},\n",
       " {'label': 'LABEL_0', 'score': 0.9929413795471191},\n",
       " {'label': 'LABEL_0', 'score': 0.991921067237854},\n",
       " {'label': 'LABEL_2', 'score': 0.8631492257118225},\n",
       " {'label': 'LABEL_0', 'score': 0.9970282912254333},\n",
       " {'label': 'LABEL_1', 'score': 0.9576840996742249},\n",
       " {'label': 'LABEL_0', 'score': 0.996669352054596},\n",
       " {'label': 'LABEL_1', 'score': 0.6884972453117371},\n",
       " {'label': 'LABEL_0', 'score': 0.9975910186767578},\n",
       " {'label': 'LABEL_0', 'score': 0.80714350938797},\n",
       " {'label': 'LABEL_0', 'score': 0.9016498923301697},\n",
       " {'label': 'LABEL_1', 'score': 0.9679783582687378},\n",
       " {'label': 'LABEL_2', 'score': 0.9735656976699829},\n",
       " {'label': 'LABEL_0', 'score': 0.9978702068328857},\n",
       " {'label': 'LABEL_0', 'score': 0.9962647557258606},\n",
       " {'label': 'LABEL_0', 'score': 0.47935134172439575},\n",
       " {'label': 'LABEL_0', 'score': 0.9968679547309875},\n",
       " {'label': 'LABEL_1', 'score': 0.9728384613990784},\n",
       " {'label': 'LABEL_0', 'score': 0.9857628345489502},\n",
       " {'label': 'LABEL_0', 'score': 0.9976189732551575},\n",
       " {'label': 'LABEL_1', 'score': 0.953682005405426},\n",
       " {'label': 'LABEL_1', 'score': 0.9690426588058472},\n",
       " {'label': 'LABEL_0', 'score': 0.8890270590782166},\n",
       " {'label': 'LABEL_0', 'score': 0.9974767565727234},\n",
       " {'label': 'LABEL_0', 'score': 0.9975970387458801},\n",
       " {'label': 'LABEL_0', 'score': 0.9893916845321655},\n",
       " {'label': 'LABEL_0', 'score': 0.9966667294502258},\n",
       " {'label': 'LABEL_1', 'score': 0.9627044200897217},\n",
       " {'label': 'LABEL_0', 'score': 0.9784139394760132},\n",
       " {'label': 'LABEL_0', 'score': 0.9963470101356506},\n",
       " {'label': 'LABEL_1', 'score': 0.933509111404419},\n",
       " {'label': 'LABEL_0', 'score': 0.9974678754806519},\n",
       " {'label': 'LABEL_0', 'score': 0.9142418503761292},\n",
       " {'label': 'LABEL_1', 'score': 0.7141866087913513},\n",
       " {'label': 'LABEL_1', 'score': 0.7478747963905334},\n",
       " {'label': 'LABEL_0', 'score': 0.9966855645179749},\n",
       " {'label': 'LABEL_0', 'score': 0.9958099126815796},\n",
       " {'label': 'LABEL_0', 'score': 0.9962073564529419},\n",
       " {'label': 'LABEL_0', 'score': 0.997704803943634},\n",
       " {'label': 'LABEL_1', 'score': 0.9574728012084961},\n",
       " {'label': 'LABEL_0', 'score': 0.9921504259109497},\n",
       " {'label': 'LABEL_2', 'score': 0.9656375050544739},\n",
       " {'label': 'LABEL_0', 'score': 0.9971428513526917},\n",
       " {'label': 'LABEL_0', 'score': 0.9943899512290955},\n",
       " {'label': 'LABEL_2', 'score': 0.5934650301933289},\n",
       " {'label': 'LABEL_0', 'score': 0.9836305379867554},\n",
       " {'label': 'LABEL_0', 'score': 0.9947511553764343},\n",
       " {'label': 'LABEL_0', 'score': 0.5670865774154663},\n",
       " {'label': 'LABEL_1', 'score': 0.5509074926376343},\n",
       " {'label': 'LABEL_2', 'score': 0.904259979724884},\n",
       " {'label': 'LABEL_2', 'score': 0.7427731156349182},\n",
       " {'label': 'LABEL_2', 'score': 0.9762091040611267},\n",
       " {'label': 'LABEL_0', 'score': 0.9967356324195862},\n",
       " {'label': 'LABEL_2', 'score': 0.9768689274787903},\n",
       " {'label': 'LABEL_0', 'score': 0.6675975918769836},\n",
       " {'label': 'LABEL_0', 'score': 0.9905967712402344},\n",
       " {'label': 'LABEL_1', 'score': 0.9246092438697815},\n",
       " {'label': 'LABEL_0', 'score': 0.9946459531784058},\n",
       " {'label': 'LABEL_0', 'score': 0.8963680267333984},\n",
       " {'label': 'LABEL_2', 'score': 0.7656375765800476},\n",
       " {'label': 'LABEL_0', 'score': 0.9917671084403992},\n",
       " {'label': 'LABEL_0', 'score': 0.9967886209487915},\n",
       " {'label': 'LABEL_0', 'score': 0.965505838394165},\n",
       " {'label': 'LABEL_2', 'score': 0.863092839717865},\n",
       " {'label': 'LABEL_0', 'score': 0.9921383261680603},\n",
       " {'label': 'LABEL_1', 'score': 0.9208729267120361},\n",
       " {'label': 'LABEL_0', 'score': 0.6279520392417908},\n",
       " {'label': 'LABEL_2', 'score': 0.818899929523468},\n",
       " {'label': 'LABEL_0', 'score': 0.833554744720459},\n",
       " {'label': 'LABEL_0', 'score': 0.940116822719574},\n",
       " {'label': 'LABEL_0', 'score': 0.9970093965530396},\n",
       " {'label': 'LABEL_0', 'score': 0.8485442399978638},\n",
       " {'label': 'LABEL_0', 'score': 0.9967337846755981},\n",
       " {'label': 'LABEL_0', 'score': 0.9976592063903809},\n",
       " {'label': 'LABEL_1', 'score': 0.9381247162818909},\n",
       " {'label': 'LABEL_0', 'score': 0.9969195127487183},\n",
       " {'label': 'LABEL_0', 'score': 0.9619483351707458},\n",
       " {'label': 'LABEL_0', 'score': 0.997342050075531},\n",
       " {'label': 'LABEL_1', 'score': 0.7853773832321167},\n",
       " {'label': 'LABEL_0', 'score': 0.9850463271141052},\n",
       " {'label': 'LABEL_0', 'score': 0.9975772500038147},\n",
       " {'label': 'LABEL_0', 'score': 0.9456636905670166},\n",
       " {'label': 'LABEL_0', 'score': 0.9969936609268188},\n",
       " {'label': 'LABEL_0', 'score': 0.9975600242614746},\n",
       " {'label': 'LABEL_2', 'score': 0.5699260830879211},\n",
       " {'label': 'LABEL_2', 'score': 0.9494179487228394},\n",
       " {'label': 'LABEL_0', 'score': 0.9966726303100586},\n",
       " {'label': 'LABEL_0', 'score': 0.9868109822273254},\n",
       " {'label': 'LABEL_2', 'score': 0.5744976997375488},\n",
       " {'label': 'LABEL_0', 'score': 0.9969513416290283},\n",
       " {'label': 'LABEL_1', 'score': 0.9763760566711426},\n",
       " {'label': 'LABEL_0', 'score': 0.9952000379562378},\n",
       " {'label': 'LABEL_2', 'score': 0.5490046143531799},\n",
       " {'label': 'LABEL_0', 'score': 0.9966244697570801},\n",
       " {'label': 'LABEL_0', 'score': 0.9942702054977417},\n",
       " {'label': 'LABEL_0', 'score': 0.9450456500053406},\n",
       " {'label': 'LABEL_0', 'score': 0.997469425201416},\n",
       " {'label': 'LABEL_0', 'score': 0.9058997631072998},\n",
       " {'label': 'LABEL_2', 'score': 0.9368724822998047},\n",
       " {'label': 'LABEL_1', 'score': 0.9691117405891418},\n",
       " {'label': 'LABEL_0', 'score': 0.9973523616790771},\n",
       " {'label': 'LABEL_1', 'score': 0.9567868709564209},\n",
       " {'label': 'LABEL_0', 'score': 0.5317897796630859},\n",
       " {'label': 'LABEL_2', 'score': 0.8993471264839172},\n",
       " {'label': 'LABEL_0', 'score': 0.9939362406730652},\n",
       " {'label': 'LABEL_0', 'score': 0.9973459243774414},\n",
       " {'label': 'LABEL_0', 'score': 0.9949930310249329},\n",
       " {'label': 'LABEL_2', 'score': 0.968329131603241},\n",
       " {'label': 'LABEL_0', 'score': 0.9856414198875427},\n",
       " {'label': 'LABEL_0', 'score': 0.9830779433250427},\n",
       " {'label': 'LABEL_0', 'score': 0.9917538166046143},\n",
       " {'label': 'LABEL_1', 'score': 0.9415000081062317},\n",
       " {'label': 'LABEL_2', 'score': 0.6894954442977905},\n",
       " {'label': 'LABEL_0', 'score': 0.5482799410820007},\n",
       " {'label': 'LABEL_0', 'score': 0.9933179616928101},\n",
       " {'label': 'LABEL_0', 'score': 0.9968903660774231},\n",
       " {'label': 'LABEL_0', 'score': 0.9517449736595154},\n",
       " {'label': 'LABEL_0', 'score': 0.9971523284912109},\n",
       " {'label': 'LABEL_2', 'score': 0.7677561640739441},\n",
       " {'label': 'LABEL_2', 'score': 0.5363091230392456},\n",
       " {'label': 'LABEL_2', 'score': 0.846859872341156},\n",
       " {'label': 'LABEL_0', 'score': 0.9961605072021484},\n",
       " {'label': 'LABEL_0', 'score': 0.9976715445518494},\n",
       " {'label': 'LABEL_0', 'score': 0.9963524341583252},\n",
       " {'label': 'LABEL_0', 'score': 0.5739156603813171},\n",
       " {'label': 'LABEL_2', 'score': 0.9677583575248718},\n",
       " {'label': 'LABEL_0', 'score': 0.9973505735397339},\n",
       " {'label': 'LABEL_0', 'score': 0.9963879585266113},\n",
       " {'label': 'LABEL_0', 'score': 0.8939914703369141},\n",
       " {'label': 'LABEL_2', 'score': 0.9068787097930908},\n",
       " {'label': 'LABEL_0', 'score': 0.9967412352561951},\n",
       " {'label': 'LABEL_0', 'score': 0.9878582954406738},\n",
       " {'label': 'LABEL_1', 'score': 0.5816123485565186},\n",
       " {'label': 'LABEL_1', 'score': 0.8982014656066895},\n",
       " {'label': 'LABEL_0', 'score': 0.9955040812492371},\n",
       " {'label': 'LABEL_0', 'score': 0.9968935251235962},\n",
       " {'label': 'LABEL_0', 'score': 0.9212568402290344},\n",
       " {'label': 'LABEL_0', 'score': 0.9961581826210022},\n",
       " {'label': 'LABEL_1', 'score': 0.9427993297576904},\n",
       " {'label': 'LABEL_0', 'score': 0.9705979228019714},\n",
       " {'label': 'LABEL_0', 'score': 0.9959074258804321},\n",
       " {'label': 'LABEL_0', 'score': 0.9961649179458618},\n",
       " {'label': 'LABEL_0', 'score': 0.9873470067977905},\n",
       " {'label': 'LABEL_0', 'score': 0.9971203804016113},\n",
       " {'label': 'LABEL_0', 'score': 0.99444180727005},\n",
       " {'label': 'LABEL_0', 'score': 0.9893900752067566},\n",
       " {'label': 'LABEL_2', 'score': 0.9831435084342957},\n",
       " {'label': 'LABEL_0', 'score': 0.991980791091919},\n",
       " {'label': 'LABEL_0', 'score': 0.9967319965362549},\n",
       " {'label': 'LABEL_0', 'score': 0.9899806380271912},\n",
       " {'label': 'LABEL_0', 'score': 0.9968562126159668},\n",
       " {'label': 'LABEL_2', 'score': 0.9096688628196716},\n",
       " {'label': 'LABEL_0', 'score': 0.997639536857605},\n",
       " {'label': 'LABEL_0', 'score': 0.9941123127937317},\n",
       " {'label': 'LABEL_0', 'score': 0.997772753238678},\n",
       " {'label': 'LABEL_2', 'score': 0.9029992818832397},\n",
       " {'label': 'LABEL_2', 'score': 0.9394638538360596},\n",
       " {'label': 'LABEL_2', 'score': 0.945235013961792},\n",
       " {'label': 'LABEL_0', 'score': 0.9970250725746155},\n",
       " {'label': 'LABEL_0', 'score': 0.9959909319877625},\n",
       " {'label': 'LABEL_1', 'score': 0.9568806290626526},\n",
       " {'label': 'LABEL_0', 'score': 0.9783627986907959},\n",
       " {'label': 'LABEL_0', 'score': 0.9976625442504883},\n",
       " {'label': 'LABEL_0', 'score': 0.9723101854324341},\n",
       " {'label': 'LABEL_2', 'score': 0.9811161756515503},\n",
       " {'label': 'LABEL_0', 'score': 0.9971694350242615},\n",
       " {'label': 'LABEL_0', 'score': 0.9973024129867554},\n",
       " {'label': 'LABEL_0', 'score': 0.4869970381259918},\n",
       " {'label': 'LABEL_0', 'score': 0.5282421708106995},\n",
       " {'label': 'LABEL_2', 'score': 0.9418442249298096},\n",
       " {'label': 'LABEL_0', 'score': 0.8904302716255188},\n",
       " {'label': 'LABEL_0', 'score': 0.8817083835601807},\n",
       " {'label': 'LABEL_0', 'score': 0.946022629737854},\n",
       " {'label': 'LABEL_0', 'score': 0.6020093560218811},\n",
       " {'label': 'LABEL_0', 'score': 0.9973424077033997},\n",
       " {'label': 'LABEL_2', 'score': 0.9759534597396851},\n",
       " {'label': 'LABEL_0', 'score': 0.9969242215156555},\n",
       " {'label': 'LABEL_0', 'score': 0.9953736662864685},\n",
       " {'label': 'LABEL_1', 'score': 0.9699137806892395},\n",
       " {'label': 'LABEL_0', 'score': 0.9943029880523682},\n",
       " {'label': 'LABEL_1', 'score': 0.9745249152183533},\n",
       " {'label': 'LABEL_2', 'score': 0.9285695552825928},\n",
       " {'label': 'LABEL_1', 'score': 0.949364960193634},\n",
       " {'label': 'LABEL_2', 'score': 0.9214236736297607},\n",
       " {'label': 'LABEL_0', 'score': 0.9966260194778442},\n",
       " {'label': 'LABEL_0', 'score': 0.985653817653656},\n",
       " {'label': 'LABEL_2', 'score': 0.7717134952545166},\n",
       " {'label': 'LABEL_1', 'score': 0.9258382320404053},\n",
       " {'label': 'LABEL_0', 'score': 0.9448630809783936},\n",
       " {'label': 'LABEL_0', 'score': 0.9972583055496216},\n",
       " {'label': 'LABEL_0', 'score': 0.985390305519104},\n",
       " {'label': 'LABEL_1', 'score': 0.9550307393074036},\n",
       " {'label': 'LABEL_2', 'score': 0.979607343673706},\n",
       " {'label': 'LABEL_0', 'score': 0.9964498281478882},\n",
       " {'label': 'LABEL_2', 'score': 0.9824398756027222},\n",
       " {'label': 'LABEL_2', 'score': 0.6389682292938232},\n",
       " {'label': 'LABEL_1', 'score': 0.8945730328559875},\n",
       " {'label': 'LABEL_0', 'score': 0.9968202114105225},\n",
       " {'label': 'LABEL_0', 'score': 0.9976546764373779},\n",
       " {'label': 'LABEL_0', 'score': 0.9955847859382629},\n",
       " {'label': 'LABEL_0', 'score': 0.9884295463562012},\n",
       " {'label': 'LABEL_1', 'score': 0.9532458186149597},\n",
       " {'label': 'LABEL_0', 'score': 0.9970071911811829},\n",
       " {'label': 'LABEL_1', 'score': 0.8889239430427551},\n",
       " {'label': 'LABEL_0', 'score': 0.9976091384887695},\n",
       " {'label': 'LABEL_0', 'score': 0.9976881742477417},\n",
       " {'label': 'LABEL_1', 'score': 0.934876024723053},\n",
       " {'label': 'LABEL_0', 'score': 0.9785236120223999},\n",
       " {'label': 'LABEL_2', 'score': 0.9761571884155273},\n",
       " {'label': 'LABEL_0', 'score': 0.997322142124176},\n",
       " {'label': 'LABEL_1', 'score': 0.39188048243522644},\n",
       " {'label': 'LABEL_2', 'score': 0.9591061472892761},\n",
       " {'label': 'LABEL_2', 'score': 0.8254995346069336},\n",
       " {'label': 'LABEL_0', 'score': 0.9964776635169983},\n",
       " {'label': 'LABEL_0', 'score': 0.9848008155822754},\n",
       " {'label': 'LABEL_2', 'score': 0.781152069568634},\n",
       " {'label': 'LABEL_0', 'score': 0.9965881109237671},\n",
       " {'label': 'LABEL_0', 'score': 0.9968488812446594},\n",
       " {'label': 'LABEL_1', 'score': 0.9316044449806213},\n",
       " {'label': 'LABEL_0', 'score': 0.9865036010742188},\n",
       " {'label': 'LABEL_0', 'score': 0.9476245045661926},\n",
       " {'label': 'LABEL_0', 'score': 0.9950240254402161},\n",
       " {'label': 'LABEL_1', 'score': 0.9007564783096313},\n",
       " {'label': 'LABEL_0', 'score': 0.9977176189422607},\n",
       " {'label': 'LABEL_0', 'score': 0.9977446794509888},\n",
       " {'label': 'LABEL_0', 'score': 0.997718870639801},\n",
       " {'label': 'LABEL_0', 'score': 0.9913442134857178},\n",
       " {'label': 'LABEL_0', 'score': 0.99614417552948},\n",
       " {'label': 'LABEL_0', 'score': 0.9972276091575623},\n",
       " {'label': 'LABEL_0', 'score': 0.9978679418563843},\n",
       " {'label': 'LABEL_0', 'score': 0.9968621730804443},\n",
       " {'label': 'LABEL_0', 'score': 0.9977126121520996},\n",
       " {'label': 'LABEL_0', 'score': 0.9974468946456909},\n",
       " {'label': 'LABEL_2', 'score': 0.9694089889526367},\n",
       " {'label': 'LABEL_0', 'score': 0.9970951080322266},\n",
       " {'label': 'LABEL_0', 'score': 0.9947296380996704},\n",
       " {'label': 'LABEL_0', 'score': 0.9911126494407654},\n",
       " {'label': 'LABEL_2', 'score': 0.5377873182296753},\n",
       " {'label': 'LABEL_1', 'score': 0.546759843826294},\n",
       " {'label': 'LABEL_0', 'score': 0.9923956394195557},\n",
       " {'label': 'LABEL_1', 'score': 0.48520800471305847},\n",
       " {'label': 'LABEL_0', 'score': 0.994479775428772},\n",
       " {'label': 'LABEL_0', 'score': 0.9967712759971619},\n",
       " {'label': 'LABEL_2', 'score': 0.8458384871482849},\n",
       " {'label': 'LABEL_0', 'score': 0.9950803518295288},\n",
       " {'label': 'LABEL_2', 'score': 0.7405471205711365},\n",
       " {'label': 'LABEL_1', 'score': 0.9697856307029724},\n",
       " {'label': 'LABEL_0', 'score': 0.9859508872032166},\n",
       " {'label': 'LABEL_1', 'score': 0.9598891139030457},\n",
       " {'label': 'LABEL_1', 'score': 0.3760042190551758},\n",
       " {'label': 'LABEL_1', 'score': 0.8839540481567383},\n",
       " {'label': 'LABEL_0', 'score': 0.9969533681869507},\n",
       " {'label': 'LABEL_0', 'score': 0.9930665493011475},\n",
       " {'label': 'LABEL_0', 'score': 0.997548520565033},\n",
       " {'label': 'LABEL_1', 'score': 0.9314515590667725},\n",
       " {'label': 'LABEL_0', 'score': 0.9968492388725281},\n",
       " {'label': 'LABEL_1', 'score': 0.4997686743736267},\n",
       " {'label': 'LABEL_0', 'score': 0.9967251420021057},\n",
       " {'label': 'LABEL_1', 'score': 0.6396897435188293},\n",
       " {'label': 'LABEL_0', 'score': 0.9972463846206665},\n",
       " {'label': 'LABEL_0', 'score': 0.9972150325775146},\n",
       " {'label': 'LABEL_1', 'score': 0.915454089641571},\n",
       " {'label': 'LABEL_0', 'score': 0.9972848892211914},\n",
       " {'label': 'LABEL_2', 'score': 0.6994078755378723},\n",
       " {'label': 'LABEL_2', 'score': 0.8312214016914368},\n",
       " {'label': 'LABEL_0', 'score': 0.9974779486656189},\n",
       " {'label': 'LABEL_0', 'score': 0.9975433945655823},\n",
       " {'label': 'LABEL_0', 'score': 0.9948837161064148},\n",
       " {'label': 'LABEL_0', 'score': 0.9974257349967957},\n",
       " {'label': 'LABEL_0', 'score': 0.9971809387207031},\n",
       " {'label': 'LABEL_0', 'score': 0.9975912570953369},\n",
       " {'label': 'LABEL_1', 'score': 0.9607603549957275},\n",
       " {'label': 'LABEL_1', 'score': 0.57996666431427},\n",
       " {'label': 'LABEL_0', 'score': 0.9902940988540649},\n",
       " {'label': 'LABEL_0', 'score': 0.983489990234375},\n",
       " {'label': 'LABEL_0', 'score': 0.9947015047073364},\n",
       " {'label': 'LABEL_0', 'score': 0.9967740178108215},\n",
       " {'label': 'LABEL_0', 'score': 0.9946617484092712},\n",
       " {'label': 'LABEL_0', 'score': 0.9967870712280273},\n",
       " {'label': 'LABEL_1', 'score': 0.9733566045761108},\n",
       " {'label': 'LABEL_0', 'score': 0.989512026309967},\n",
       " {'label': 'LABEL_0', 'score': 0.9950321912765503},\n",
       " {'label': 'LABEL_1', 'score': 0.9494194388389587},\n",
       " {'label': 'LABEL_0', 'score': 0.9863973259925842},\n",
       " {'label': 'LABEL_0', 'score': 0.971778392791748},\n",
       " {'label': 'LABEL_0', 'score': 0.9973560571670532},\n",
       " {'label': 'LABEL_0', 'score': 0.7823048233985901},\n",
       " {'label': 'LABEL_1', 'score': 0.7963616251945496},\n",
       " {'label': 'LABEL_0', 'score': 0.9956017732620239},\n",
       " {'label': 'LABEL_2', 'score': 0.8541728854179382},\n",
       " {'label': 'LABEL_0', 'score': 0.9859689474105835},\n",
       " {'label': 'LABEL_0', 'score': 0.9968302845954895},\n",
       " {'label': 'LABEL_1', 'score': 0.9514665603637695},\n",
       " {'label': 'LABEL_1', 'score': 0.9560377597808838},\n",
       " {'label': 'LABEL_0', 'score': 0.9903339743614197},\n",
       " {'label': 'LABEL_0', 'score': 0.9971189498901367},\n",
       " {'label': 'LABEL_0', 'score': 0.9969426989555359},\n",
       " {'label': 'LABEL_2', 'score': 0.9709786772727966},\n",
       " {'label': 'LABEL_1', 'score': 0.6972398161888123},\n",
       " {'label': 'LABEL_2', 'score': 0.9710237383842468},\n",
       " {'label': 'LABEL_0', 'score': 0.9972203969955444},\n",
       " {'label': 'LABEL_2', 'score': 0.9614855051040649},\n",
       " {'label': 'LABEL_0', 'score': 0.9733260869979858},\n",
       " {'label': 'LABEL_2', 'score': 0.7781105637550354},\n",
       " {'label': 'LABEL_0', 'score': 0.9877133369445801},\n",
       " {'label': 'LABEL_0', 'score': 0.995707631111145},\n",
       " {'label': 'LABEL_0', 'score': 0.9957897067070007},\n",
       " {'label': 'LABEL_0', 'score': 0.9968785047531128},\n",
       " {'label': 'LABEL_0', 'score': 0.9970874190330505},\n",
       " {'label': 'LABEL_0', 'score': 0.9952967762947083},\n",
       " {'label': 'LABEL_0', 'score': 0.9720483422279358},\n",
       " {'label': 'LABEL_0', 'score': 0.9972033500671387},\n",
       " {'label': 'LABEL_0', 'score': 0.9951351284980774},\n",
       " {'label': 'LABEL_1', 'score': 0.5030651092529297},\n",
       " {'label': 'LABEL_0', 'score': 0.9953804016113281},\n",
       " {'label': 'LABEL_0', 'score': 0.9970139265060425},\n",
       " {'label': 'LABEL_1', 'score': 0.9011009335517883},\n",
       " {'label': 'LABEL_0', 'score': 0.9887046217918396},\n",
       " {'label': 'LABEL_0', 'score': 0.9929500818252563},\n",
       " {'label': 'LABEL_2', 'score': 0.9519413113594055},\n",
       " {'label': 'LABEL_1', 'score': 0.7064090371131897},\n",
       " {'label': 'LABEL_0', 'score': 0.9975537657737732},\n",
       " {'label': 'LABEL_1', 'score': 0.6210969686508179},\n",
       " {'label': 'LABEL_0', 'score': 0.9974178075790405},\n",
       " {'label': 'LABEL_0', 'score': 0.9954245686531067},\n",
       " {'label': 'LABEL_0', 'score': 0.9976621866226196},\n",
       " {'label': 'LABEL_0', 'score': 0.9929100871086121},\n",
       " {'label': 'LABEL_0', 'score': 0.9668143391609192},\n",
       " {'label': 'LABEL_2', 'score': 0.9831690788269043},\n",
       " {'label': 'LABEL_1', 'score': 0.9706701636314392},\n",
       " {'label': 'LABEL_1', 'score': 0.9545714855194092},\n",
       " {'label': 'LABEL_0', 'score': 0.9947541952133179},\n",
       " {'label': 'LABEL_0', 'score': 0.9951732754707336},\n",
       " {'label': 'LABEL_1', 'score': 0.5620163083076477},\n",
       " {'label': 'LABEL_2', 'score': 0.9698174595832825},\n",
       " {'label': 'LABEL_0', 'score': 0.9809600114822388},\n",
       " {'label': 'LABEL_2', 'score': 0.931259036064148},\n",
       " {'label': 'LABEL_1', 'score': 0.7653447389602661},\n",
       " {'label': 'LABEL_2', 'score': 0.9330657124519348},\n",
       " {'label': 'LABEL_0', 'score': 0.997267484664917},\n",
       " {'label': 'LABEL_0', 'score': 0.9917225241661072},\n",
       " {'label': 'LABEL_0', 'score': 0.9963725805282593},\n",
       " {'label': 'LABEL_0', 'score': 0.9969350099563599},\n",
       " {'label': 'LABEL_2', 'score': 0.8578882217407227},\n",
       " {'label': 'LABEL_0', 'score': 0.9954321384429932},\n",
       " {'label': 'LABEL_2', 'score': 0.6604626178741455},\n",
       " {'label': 'LABEL_1', 'score': 0.7921368479728699},\n",
       " {'label': 'LABEL_1', 'score': 0.8689720034599304},\n",
       " {'label': 'LABEL_0', 'score': 0.9969393014907837},\n",
       " {'label': 'LABEL_0', 'score': 0.9962051510810852},\n",
       " {'label': 'LABEL_2', 'score': 0.697884202003479},\n",
       " {'label': 'LABEL_0', 'score': 0.9041541218757629},\n",
       " {'label': 'LABEL_2', 'score': 0.983385443687439},\n",
       " {'label': 'LABEL_0', 'score': 0.9963393211364746},\n",
       " {'label': 'LABEL_0', 'score': 0.9940975904464722},\n",
       " {'label': 'LABEL_0', 'score': 0.9957950115203857},\n",
       " {'label': 'LABEL_0', 'score': 0.9971645474433899},\n",
       " {'label': 'LABEL_0', 'score': 0.9972249269485474},\n",
       " {'label': 'LABEL_2', 'score': 0.6893476247787476},\n",
       " {'label': 'LABEL_0', 'score': 0.9934305548667908},\n",
       " {'label': 'LABEL_0', 'score': 0.8600963354110718},\n",
       " {'label': 'LABEL_1', 'score': 0.9645296335220337},\n",
       " {'label': 'LABEL_0', 'score': 0.9932017922401428},\n",
       " {'label': 'LABEL_0', 'score': 0.9756578803062439},\n",
       " {'label': 'LABEL_0', 'score': 0.9943215847015381},\n",
       " {'label': 'LABEL_0', 'score': 0.9972846508026123},\n",
       " {'label': 'LABEL_2', 'score': 0.7058712840080261},\n",
       " {'label': 'LABEL_1', 'score': 0.9539252519607544},\n",
       " {'label': 'LABEL_2', 'score': 0.7585629820823669},\n",
       " {'label': 'LABEL_1', 'score': 0.9346820712089539},\n",
       " {'label': 'LABEL_0', 'score': 0.9959967136383057},\n",
       " {'label': 'LABEL_0', 'score': 0.9975908994674683},\n",
       " {'label': 'LABEL_1', 'score': 0.533755362033844},\n",
       " {'label': 'LABEL_0', 'score': 0.9930798411369324},\n",
       " {'label': 'LABEL_0', 'score': 0.997799813747406},\n",
       " {'label': 'LABEL_1', 'score': 0.9745597839355469},\n",
       " {'label': 'LABEL_0', 'score': 0.9928479194641113},\n",
       " {'label': 'LABEL_0', 'score': 0.9969172477722168},\n",
       " {'label': 'LABEL_0', 'score': 0.9751142859458923},\n",
       " {'label': 'LABEL_1', 'score': 0.9792683124542236},\n",
       " {'label': 'LABEL_0', 'score': 0.9960615038871765},\n",
       " {'label': 'LABEL_0', 'score': 0.9973393082618713},\n",
       " {'label': 'LABEL_2', 'score': 0.5329970121383667},\n",
       " {'label': 'LABEL_1', 'score': 0.9685419797897339},\n",
       " {'label': 'LABEL_0', 'score': 0.9971598386764526},\n",
       " {'label': 'LABEL_0', 'score': 0.9913068413734436},\n",
       " {'label': 'LABEL_0', 'score': 0.9891762137413025},\n",
       " {'label': 'LABEL_2', 'score': 0.9481317400932312},\n",
       " {'label': 'LABEL_0', 'score': 0.9903444647789001},\n",
       " {'label': 'LABEL_0', 'score': 0.9181247353553772},\n",
       " {'label': 'LABEL_0', 'score': 0.9750858545303345},\n",
       " {'label': 'LABEL_0', 'score': 0.997497022151947},\n",
       " {'label': 'LABEL_2', 'score': 0.7709757685661316},\n",
       " {'label': 'LABEL_1', 'score': 0.9481384754180908},\n",
       " {'label': 'LABEL_2', 'score': 0.9553397297859192},\n",
       " {'label': 'LABEL_0', 'score': 0.9859877228736877},\n",
       " {'label': 'LABEL_0', 'score': 0.9973479509353638},\n",
       " {'label': 'LABEL_2', 'score': 0.9110474586486816},\n",
       " {'label': 'LABEL_0', 'score': 0.9972993731498718},\n",
       " {'label': 'LABEL_0', 'score': 0.9972909092903137},\n",
       " {'label': 'LABEL_0', 'score': 0.9961596727371216},\n",
       " {'label': 'LABEL_1', 'score': 0.9112869501113892},\n",
       " {'label': 'LABEL_2', 'score': 0.62465500831604},\n",
       " {'label': 'LABEL_2', 'score': 0.7197622060775757},\n",
       " {'label': 'LABEL_0', 'score': 0.9959099292755127},\n",
       " {'label': 'LABEL_2', 'score': 0.8616249561309814},\n",
       " {'label': 'LABEL_1', 'score': 0.5663968920707703},\n",
       " {'label': 'LABEL_0', 'score': 0.9964877367019653},\n",
       " {'label': 'LABEL_0', 'score': 0.9972725510597229},\n",
       " {'label': 'LABEL_0', 'score': 0.9978029131889343},\n",
       " {'label': 'LABEL_0', 'score': 0.9976844787597656},\n",
       " {'label': 'LABEL_0', 'score': 0.9519485831260681},\n",
       " {'label': 'LABEL_2', 'score': 0.5425894856452942},\n",
       " {'label': 'LABEL_0', 'score': 0.9957892298698425},\n",
       " {'label': 'LABEL_0', 'score': 0.9939868450164795},\n",
       " {'label': 'LABEL_0', 'score': 0.9862329959869385},\n",
       " {'label': 'LABEL_2', 'score': 0.7250826358795166},\n",
       " {'label': 'LABEL_0', 'score': 0.995855987071991},\n",
       " {'label': 'LABEL_0', 'score': 0.5721304416656494},\n",
       " {'label': 'LABEL_0', 'score': 0.9974811673164368},\n",
       " {'label': 'LABEL_0', 'score': 0.8378952145576477},\n",
       " {'label': 'LABEL_0', 'score': 0.9967201352119446},\n",
       " {'label': 'LABEL_0', 'score': 0.9946908354759216},\n",
       " {'label': 'LABEL_0', 'score': 0.953769862651825},\n",
       " {'label': 'LABEL_1', 'score': 0.9706231951713562},\n",
       " {'label': 'LABEL_0', 'score': 0.8653107285499573},\n",
       " {'label': 'LABEL_0', 'score': 0.9599593877792358},\n",
       " {'label': 'LABEL_1', 'score': 0.9336244463920593},\n",
       " {'label': 'LABEL_2', 'score': 0.9485473036766052},\n",
       " {'label': 'LABEL_0', 'score': 0.9974650144577026},\n",
       " {'label': 'LABEL_0', 'score': 0.9969053864479065},\n",
       " {'label': 'LABEL_0', 'score': 0.8664026856422424},\n",
       " {'label': 'LABEL_0', 'score': 0.9968895316123962},\n",
       " {'label': 'LABEL_0', 'score': 0.9970947504043579},\n",
       " {'label': 'LABEL_0', 'score': 0.9976717829704285},\n",
       " {'label': 'LABEL_0', 'score': 0.9930635094642639},\n",
       " {'label': 'LABEL_0', 'score': 0.9968535304069519},\n",
       " {'label': 'LABEL_0', 'score': 0.9966014623641968},\n",
       " {'label': 'LABEL_2', 'score': 0.48380717635154724},\n",
       " {'label': 'LABEL_0', 'score': 0.9841012358665466},\n",
       " {'label': 'LABEL_2', 'score': 0.955726146697998},\n",
       " {'label': 'LABEL_0', 'score': 0.9969326257705688},\n",
       " {'label': 'LABEL_2', 'score': 0.45349863171577454},\n",
       " {'label': 'LABEL_0', 'score': 0.9962759017944336},\n",
       " {'label': 'LABEL_0', 'score': 0.9921410083770752},\n",
       " {'label': 'LABEL_0', 'score': 0.9971503615379333},\n",
       " {'label': 'LABEL_0', 'score': 0.9968140721321106},\n",
       " {'label': 'LABEL_0', 'score': 0.907774806022644},\n",
       " {'label': 'LABEL_0', 'score': 0.9966889023780823},\n",
       " {'label': 'LABEL_0', 'score': 0.9962134957313538},\n",
       " {'label': 'LABEL_1', 'score': 0.734711766242981},\n",
       " {'label': 'LABEL_2', 'score': 0.8122215867042542},\n",
       " {'label': 'LABEL_2', 'score': 0.9748058319091797},\n",
       " {'label': 'LABEL_1', 'score': 0.8863365054130554},\n",
       " {'label': 'LABEL_0', 'score': 0.976498007774353},\n",
       " {'label': 'LABEL_1', 'score': 0.959633469581604},\n",
       " {'label': 'LABEL_1', 'score': 0.9479097723960876},\n",
       " {'label': 'LABEL_1', 'score': 0.6399674415588379},\n",
       " {'label': 'LABEL_0', 'score': 0.9675556421279907},\n",
       " {'label': 'LABEL_0', 'score': 0.956800639629364},\n",
       " {'label': 'LABEL_0', 'score': 0.9974683523178101},\n",
       " {'label': 'LABEL_0', 'score': 0.9972438812255859},\n",
       " {'label': 'LABEL_0', 'score': 0.9974603652954102},\n",
       " {'label': 'LABEL_1', 'score': 0.9524062871932983},\n",
       " {'label': 'LABEL_1', 'score': 0.9455188512802124},\n",
       " {'label': 'LABEL_0', 'score': 0.9959989786148071},\n",
       " {'label': 'LABEL_0', 'score': 0.8905608654022217},\n",
       " {'label': 'LABEL_0', 'score': 0.9953319430351257},\n",
       " {'label': 'LABEL_0', 'score': 0.9960689544677734},\n",
       " {'label': 'LABEL_2', 'score': 0.6980801820755005},\n",
       " {'label': 'LABEL_1', 'score': 0.9717983603477478},\n",
       " {'label': 'LABEL_0', 'score': 0.99192214012146},\n",
       " {'label': 'LABEL_0', 'score': 0.9379193186759949},\n",
       " {'label': 'LABEL_0', 'score': 0.989991307258606},\n",
       " {'label': 'LABEL_0', 'score': 0.9979974627494812},\n",
       " {'label': 'LABEL_0', 'score': 0.7368059158325195},\n",
       " {'label': 'LABEL_0', 'score': 0.9651303291320801},\n",
       " {'label': 'LABEL_0', 'score': 0.9896894693374634},\n",
       " {'label': 'LABEL_0', 'score': 0.9957583546638489},\n",
       " {'label': 'LABEL_1', 'score': 0.9471008777618408},\n",
       " {'label': 'LABEL_1', 'score': 0.9180594682693481},\n",
       " {'label': 'LABEL_0', 'score': 0.9941205382347107},\n",
       " {'label': 'LABEL_2', 'score': 0.3724028468132019},\n",
       " {'label': 'LABEL_0', 'score': 0.9768255949020386},\n",
       " {'label': 'LABEL_0', 'score': 0.9811897277832031},\n",
       " {'label': 'LABEL_0', 'score': 0.7751224040985107},\n",
       " {'label': 'LABEL_0', 'score': 0.9097577929496765},\n",
       " {'label': 'LABEL_0', 'score': 0.9953882694244385},\n",
       " {'label': 'LABEL_0', 'score': 0.9906285405158997},\n",
       " {'label': 'LABEL_0', 'score': 0.9969466328620911},\n",
       " {'label': 'LABEL_0', 'score': 0.9631426930427551},\n",
       " {'label': 'LABEL_0', 'score': 0.9969800114631653},\n",
       " {'label': 'LABEL_1', 'score': 0.9042636752128601},\n",
       " {'label': 'LABEL_0', 'score': 0.9961510896682739},\n",
       " {'label': 'LABEL_0', 'score': 0.994422972202301},\n",
       " {'label': 'LABEL_0', 'score': 0.9950017333030701},\n",
       " {'label': 'LABEL_1', 'score': 0.7066184282302856},\n",
       " {'label': 'LABEL_0', 'score': 0.9913715124130249},\n",
       " {'label': 'LABEL_0', 'score': 0.9956822395324707},\n",
       " {'label': 'LABEL_0', 'score': 0.4845605790615082},\n",
       " {'label': 'LABEL_0', 'score': 0.9934622049331665},\n",
       " {'label': 'LABEL_0', 'score': 0.9899128675460815},\n",
       " {'label': 'LABEL_2', 'score': 0.9668758511543274},\n",
       " {'label': 'LABEL_2', 'score': 0.9324692487716675},\n",
       " {'label': 'LABEL_0', 'score': 0.9970805048942566},\n",
       " {'label': 'LABEL_0', 'score': 0.9879544973373413},\n",
       " {'label': 'LABEL_0', 'score': 0.916169285774231},\n",
       " {'label': 'LABEL_1', 'score': 0.9794012308120728},\n",
       " {'label': 'LABEL_0', 'score': 0.9886616468429565},\n",
       " {'label': 'LABEL_0', 'score': 0.9155716896057129},\n",
       " {'label': 'LABEL_1', 'score': 0.7916797995567322},\n",
       " {'label': 'LABEL_0', 'score': 0.9962261915206909},\n",
       " {'label': 'LABEL_0', 'score': 0.9979045391082764},\n",
       " {'label': 'LABEL_0', 'score': 0.9955605268478394},\n",
       " {'label': 'LABEL_0', 'score': 0.9972004890441895},\n",
       " {'label': 'LABEL_0', 'score': 0.9298985004425049},\n",
       " {'label': 'LABEL_0', 'score': 0.983941376209259},\n",
       " {'label': 'LABEL_0', 'score': 0.9968673586845398},\n",
       " {'label': 'LABEL_1', 'score': 0.9590182304382324},\n",
       " {'label': 'LABEL_0', 'score': 0.9968857169151306},\n",
       " {'label': 'LABEL_2', 'score': 0.5822475552558899},\n",
       " {'label': 'LABEL_0', 'score': 0.9957247972488403},\n",
       " {'label': 'LABEL_0', 'score': 0.9470223188400269},\n",
       " {'label': 'LABEL_2', 'score': 0.9776099324226379},\n",
       " {'label': 'LABEL_1', 'score': 0.9772061109542847},\n",
       " {'label': 'LABEL_2', 'score': 0.972825825214386},\n",
       " {'label': 'LABEL_1', 'score': 0.6470142006874084},\n",
       " {'label': 'LABEL_2', 'score': 0.7334683537483215},\n",
       " {'label': 'LABEL_0', 'score': 0.5000425577163696},\n",
       " {'label': 'LABEL_1', 'score': 0.7455475926399231},\n",
       " {'label': 'LABEL_0', 'score': 0.9973727464675903},\n",
       " {'label': 'LABEL_2', 'score': 0.8989233374595642},\n",
       " {'label': 'LABEL_2', 'score': 0.9424184560775757},\n",
       " {'label': 'LABEL_0', 'score': 0.9932544827461243},\n",
       " {'label': 'LABEL_2', 'score': 0.8834866881370544},\n",
       " {'label': 'LABEL_0', 'score': 0.9950350522994995},\n",
       " {'label': 'LABEL_0', 'score': 0.7680984139442444},\n",
       " {'label': 'LABEL_0', 'score': 0.9965609908103943},\n",
       " {'label': 'LABEL_2', 'score': 0.9151774644851685},\n",
       " {'label': 'LABEL_1', 'score': 0.744739294052124},\n",
       " {'label': 'LABEL_0', 'score': 0.99615877866745},\n",
       " {'label': 'LABEL_0', 'score': 0.8889932632446289},\n",
       " {'label': 'LABEL_0', 'score': 0.997349739074707},\n",
       " {'label': 'LABEL_0', 'score': 0.9975724816322327},\n",
       " {'label': 'LABEL_2', 'score': 0.9655156135559082},\n",
       " {'label': 'LABEL_0', 'score': 0.8322434425354004},\n",
       " {'label': 'LABEL_0', 'score': 0.9948115348815918},\n",
       " {'label': 'LABEL_0', 'score': 0.9968673586845398},\n",
       " {'label': 'LABEL_0', 'score': 0.9967440366744995},\n",
       " {'label': 'LABEL_0', 'score': 0.9955933690071106},\n",
       " {'label': 'LABEL_1', 'score': 0.9463521242141724},\n",
       " {'label': 'LABEL_1', 'score': 0.9777465462684631},\n",
       " {'label': 'LABEL_0', 'score': 0.9973969459533691},\n",
       " {'label': 'LABEL_1', 'score': 0.8647732138633728},\n",
       " {'label': 'LABEL_2', 'score': 0.9602950215339661},\n",
       " {'label': 'LABEL_0', 'score': 0.9742380976676941},\n",
       " {'label': 'LABEL_0', 'score': 0.9975574016571045},\n",
       " {'label': 'LABEL_0', 'score': 0.9914980530738831},\n",
       " {'label': 'LABEL_0', 'score': 0.46643492579460144},\n",
       " {'label': 'LABEL_1', 'score': 0.9273133277893066},\n",
       " {'label': 'LABEL_0', 'score': 0.9972571730613708},\n",
       " {'label': 'LABEL_0', 'score': 0.9968830347061157},\n",
       " {'label': 'LABEL_0', 'score': 0.9973874688148499},\n",
       " {'label': 'LABEL_1', 'score': 0.9804296493530273},\n",
       " {'label': 'LABEL_2', 'score': 0.858253538608551},\n",
       " {'label': 'LABEL_0', 'score': 0.9975360631942749},\n",
       " {'label': 'LABEL_0', 'score': 0.9945682287216187},\n",
       " {'label': 'LABEL_0', 'score': 0.9973817467689514},\n",
       " {'label': 'LABEL_0', 'score': 0.9895093441009521},\n",
       " {'label': 'LABEL_0', 'score': 0.9947211742401123},\n",
       " {'label': 'LABEL_0', 'score': 0.9926344752311707},\n",
       " {'label': 'LABEL_2', 'score': 0.8861445784568787},\n",
       " {'label': 'LABEL_1', 'score': 0.9771299958229065},\n",
       " {'label': 'LABEL_0', 'score': 0.9512124061584473},\n",
       " {'label': 'LABEL_0', 'score': 0.9925600290298462},\n",
       " {'label': 'LABEL_0', 'score': 0.9973015785217285},\n",
       " {'label': 'LABEL_0', 'score': 0.9939010143280029},\n",
       " {'label': 'LABEL_2', 'score': 0.9827082753181458},\n",
       " {'label': 'LABEL_0', 'score': 0.9961113333702087},\n",
       " {'label': 'LABEL_1', 'score': 0.9694898724555969},\n",
       " {'label': 'LABEL_0', 'score': 0.9971339702606201},\n",
       " {'label': 'LABEL_0', 'score': 0.9018046855926514},\n",
       " {'label': 'LABEL_1', 'score': 0.9075976014137268},\n",
       " {'label': 'LABEL_0', 'score': 0.997309684753418},\n",
       " {'label': 'LABEL_1', 'score': 0.913918137550354},\n",
       " {'label': 'LABEL_0', 'score': 0.9973838925361633},\n",
       " {'label': 'LABEL_0', 'score': 0.9975482821464539},\n",
       " {'label': 'LABEL_0', 'score': 0.9978365302085876},\n",
       " {'label': 'LABEL_0', 'score': 0.9971708655357361},\n",
       " {'label': 'LABEL_0', 'score': 0.9951724410057068},\n",
       " {'label': 'LABEL_1', 'score': 0.9838359951972961},\n",
       " {'label': 'LABEL_2', 'score': 0.9661092758178711},\n",
       " {'label': 'LABEL_0', 'score': 0.9703640341758728},\n",
       " {'label': 'LABEL_0', 'score': 0.9971106052398682},\n",
       " {'label': 'LABEL_0', 'score': 0.9971535205841064},\n",
       " {'label': 'LABEL_0', 'score': 0.9948883652687073},\n",
       " {'label': 'LABEL_0', 'score': 0.9971126317977905},\n",
       " {'label': 'LABEL_0', 'score': 0.9970937967300415},\n",
       " {'label': 'LABEL_0', 'score': 0.9976340532302856},\n",
       " {'label': 'LABEL_0', 'score': 0.9951245188713074},\n",
       " {'label': 'LABEL_0', 'score': 0.9948947429656982},\n",
       " {'label': 'LABEL_2', 'score': 0.9782161116600037},\n",
       " {'label': 'LABEL_1', 'score': 0.512756884098053},\n",
       " {'label': 'LABEL_0', 'score': 0.994255006313324},\n",
       " {'label': 'LABEL_1', 'score': 0.7595636248588562},\n",
       " {'label': 'LABEL_0', 'score': 0.9528056979179382},\n",
       " {'label': 'LABEL_0', 'score': 0.9965739250183105},\n",
       " {'label': 'LABEL_1', 'score': 0.6884351372718811},\n",
       " {'label': 'LABEL_0', 'score': 0.9975640773773193},\n",
       " {'label': 'LABEL_0', 'score': 0.9958546161651611},\n",
       " {'label': 'LABEL_0', 'score': 0.990563154220581},\n",
       " {'label': 'LABEL_1', 'score': 0.9463719725608826},\n",
       " {'label': 'LABEL_0', 'score': 0.9957109689712524},\n",
       " {'label': 'LABEL_0', 'score': 0.9975550770759583},\n",
       " {'label': 'LABEL_0', 'score': 0.996600329875946},\n",
       " {'label': 'LABEL_1', 'score': 0.7237899303436279},\n",
       " {'label': 'LABEL_0', 'score': 0.9933172464370728},\n",
       " {'label': 'LABEL_1', 'score': 0.9696275591850281},\n",
       " {'label': 'LABEL_0', 'score': 0.9975185394287109},\n",
       " {'label': 'LABEL_0', 'score': 0.9878039360046387},\n",
       " {'label': 'LABEL_0', 'score': 0.9970243573188782},\n",
       " {'label': 'LABEL_2', 'score': 0.9762836694717407},\n",
       " {'label': 'LABEL_0', 'score': 0.997468113899231},\n",
       " {'label': 'LABEL_0', 'score': 0.9975649118423462},\n",
       " {'label': 'LABEL_2', 'score': 0.6680760383605957},\n",
       " {'label': 'LABEL_0', 'score': 0.9952759742736816},\n",
       " {'label': 'LABEL_0', 'score': 0.9975270628929138},\n",
       " {'label': 'LABEL_0', 'score': 0.9976765513420105},\n",
       " {'label': 'LABEL_1', 'score': 0.9502326250076294},\n",
       " {'label': 'LABEL_0', 'score': 0.9974356293678284},\n",
       " {'label': 'LABEL_0', 'score': 0.99094557762146},\n",
       " {'label': 'LABEL_0', 'score': 0.9931649565696716},\n",
       " {'label': 'LABEL_0', 'score': 0.9737159013748169},\n",
       " ...]"
      ]
     },
     "execution_count": 24,
     "metadata": {},
     "output_type": "execute_result"
    }
   ],
   "source": [
    "test_pred = new_model(split['test']['sentence'])\n",
    "test_pred"
   ]
  },
  {
   "cell_type": "markdown",
   "id": "4d2c026e-d4ea-4c03-9455-9609581fefd4",
   "metadata": {},
   "source": [
    "#### Set up our labels correctly"
   ]
  },
  {
   "cell_type": "code",
   "execution_count": 25,
   "id": "e04a3553-85ab-45f7-a4cf-4e1880a6157f",
   "metadata": {},
   "outputs": [],
   "source": [
    "def get_label(d):\n",
    "    return int(d['label'].split('_')[1])\n",
    "\n",
    "test_pred = [get_label(d) for d in test_pred]"
   ]
  },
  {
   "cell_type": "code",
   "execution_count": 27,
   "id": "d1d35bc4-eef7-427d-a63d-147ee3f38145",
   "metadata": {},
   "outputs": [
    {
     "name": "stdout",
     "output_type": "stream",
     "text": [
      "Accuracy: 83.38%\n"
     ]
    }
   ],
   "source": [
    "print(f\"Accuracy: {round(accuracy_score(split['test']['label'], test_pred) * 100, 2)}%\")"
   ]
  },
  {
   "cell_type": "code",
   "execution_count": 28,
   "id": "c0ca3fb9-69c2-4283-ab84-1c39c80b945b",
   "metadata": {},
   "outputs": [
    {
     "name": "stdout",
     "output_type": "stream",
     "text": [
      "              precision    recall  f1-score   support\n",
      "\n",
      "           0       0.88      0.93      0.90      2811\n",
      "           1       0.76      0.79      0.77       664\n",
      "           2       0.73      0.58      0.65       917\n",
      "\n",
      "    accuracy                           0.83      4392\n",
      "   macro avg       0.79      0.77      0.77      4392\n",
      "weighted avg       0.83      0.83      0.83      4392\n",
      "\n"
     ]
    }
   ],
   "source": [
    "print(classification_report(split['test']['label'], test_pred))"
   ]
  },
  {
   "cell_type": "markdown",
   "id": "9c168b04-ce68-44d6-9e36-a512a91fe576",
   "metadata": {},
   "source": [
    "## ✌️ Create a Binary Predictor to Compare to our Pretrained Model from our earlier notebook"
   ]
  },
  {
   "cell_type": "markdown",
   "id": "ff1a2d27-c5b1-4507-b0b0-69c10f5d0347",
   "metadata": {},
   "source": [
    "### Load and set up data"
   ]
  },
  {
   "cell_type": "code",
   "execution_count": 29,
   "id": "f168a706-1982-4cf7-b92c-76a725cf7f3f",
   "metadata": {},
   "outputs": [
    {
     "data": {
      "text/html": [
       "<div>\n",
       "<style scoped>\n",
       "    .dataframe tbody tr th:only-of-type {\n",
       "        vertical-align: middle;\n",
       "    }\n",
       "\n",
       "    .dataframe tbody tr th {\n",
       "        vertical-align: top;\n",
       "    }\n",
       "\n",
       "    .dataframe thead th {\n",
       "        text-align: right;\n",
       "    }\n",
       "</style>\n",
       "<table border=\"1\" class=\"dataframe\">\n",
       "  <thead>\n",
       "    <tr style=\"text-align: right;\">\n",
       "      <th></th>\n",
       "      <th>sentence</th>\n",
       "      <th>label</th>\n",
       "    </tr>\n",
       "  </thead>\n",
       "  <tbody>\n",
       "    <tr>\n",
       "      <th>0</th>\n",
       "      <td>@VirginAmerica What @dhepburn said.</td>\n",
       "      <td>2</td>\n",
       "    </tr>\n",
       "    <tr>\n",
       "      <th>1</th>\n",
       "      <td>@VirginAmerica plus you've added commercials t...</td>\n",
       "      <td>1</td>\n",
       "    </tr>\n",
       "    <tr>\n",
       "      <th>2</th>\n",
       "      <td>@VirginAmerica I didn't today... Must mean I n...</td>\n",
       "      <td>2</td>\n",
       "    </tr>\n",
       "    <tr>\n",
       "      <th>3</th>\n",
       "      <td>@VirginAmerica it's really aggressive to blast...</td>\n",
       "      <td>0</td>\n",
       "    </tr>\n",
       "    <tr>\n",
       "      <th>4</th>\n",
       "      <td>@VirginAmerica and it's a really big bad thing...</td>\n",
       "      <td>0</td>\n",
       "    </tr>\n",
       "  </tbody>\n",
       "</table>\n",
       "</div>"
      ],
      "text/plain": [
       "                                            sentence  label\n",
       "0                @VirginAmerica What @dhepburn said.      2\n",
       "1  @VirginAmerica plus you've added commercials t...      1\n",
       "2  @VirginAmerica I didn't today... Must mean I n...      2\n",
       "3  @VirginAmerica it's really aggressive to blast...      0\n",
       "4  @VirginAmerica and it's a really big bad thing...      0"
      ]
     },
     "execution_count": 29,
     "metadata": {},
     "output_type": "execute_result"
    }
   ],
   "source": [
    "df = pd.read_csv('data/airlinetweetsfixed.csv')\n",
    "df.head()"
   ]
  },
  {
   "cell_type": "code",
   "execution_count": 30,
   "id": "9b2ea21e-2288-4202-8839-a626f0f52efe",
   "metadata": {},
   "outputs": [
    {
     "data": {
      "text/html": [
       "<div>\n",
       "<style scoped>\n",
       "    .dataframe tbody tr th:only-of-type {\n",
       "        vertical-align: middle;\n",
       "    }\n",
       "\n",
       "    .dataframe tbody tr th {\n",
       "        vertical-align: top;\n",
       "    }\n",
       "\n",
       "    .dataframe thead th {\n",
       "        text-align: right;\n",
       "    }\n",
       "</style>\n",
       "<table border=\"1\" class=\"dataframe\">\n",
       "  <thead>\n",
       "    <tr style=\"text-align: right;\">\n",
       "      <th></th>\n",
       "      <th>sentence</th>\n",
       "      <th>label</th>\n",
       "    </tr>\n",
       "  </thead>\n",
       "  <tbody>\n",
       "    <tr>\n",
       "      <th>1</th>\n",
       "      <td>@VirginAmerica plus you've added commercials t...</td>\n",
       "      <td>1</td>\n",
       "    </tr>\n",
       "    <tr>\n",
       "      <th>3</th>\n",
       "      <td>@VirginAmerica it's really aggressive to blast...</td>\n",
       "      <td>0</td>\n",
       "    </tr>\n",
       "    <tr>\n",
       "      <th>4</th>\n",
       "      <td>@VirginAmerica and it's a really big bad thing...</td>\n",
       "      <td>0</td>\n",
       "    </tr>\n",
       "    <tr>\n",
       "      <th>5</th>\n",
       "      <td>@VirginAmerica seriously would pay $30 a fligh...</td>\n",
       "      <td>0</td>\n",
       "    </tr>\n",
       "    <tr>\n",
       "      <th>6</th>\n",
       "      <td>@VirginAmerica yes, nearly every time I fly VX...</td>\n",
       "      <td>1</td>\n",
       "    </tr>\n",
       "  </tbody>\n",
       "</table>\n",
       "</div>"
      ],
      "text/plain": [
       "                                            sentence  label\n",
       "1  @VirginAmerica plus you've added commercials t...      1\n",
       "3  @VirginAmerica it's really aggressive to blast...      0\n",
       "4  @VirginAmerica and it's a really big bad thing...      0\n",
       "5  @VirginAmerica seriously would pay $30 a fligh...      0\n",
       "6  @VirginAmerica yes, nearly every time I fly VX...      1"
      ]
     },
     "execution_count": 30,
     "metadata": {},
     "output_type": "execute_result"
    }
   ],
   "source": [
    "df = df[df['label'] != 2]\n",
    "df.head()"
   ]
  },
  {
   "cell_type": "code",
   "execution_count": 33,
   "id": "07cd01d5-835a-41a0-b7d1-49baa62f2077",
   "metadata": {},
   "outputs": [],
   "source": [
    "df.to_csv('data/airlinetweetnoneutral.csv', index=None)"
   ]
  },
  {
   "cell_type": "markdown",
   "id": "106cd00f-1baa-407b-83e9-190c2d5498c2",
   "metadata": {},
   "source": [
    "### Create dataset for transformer"
   ]
  },
  {
   "cell_type": "code",
   "execution_count": 35,
   "id": "1eae76e2-0451-4257-a4d7-fcf837781c76",
   "metadata": {},
   "outputs": [
    {
     "data": {
      "application/vnd.jupyter.widget-view+json": {
       "model_id": "ed802335137b4225b8a3d7c9517fed78",
       "version_major": 2,
       "version_minor": 0
      },
      "text/plain": [
       "Generating train split: 0 examples [00:00, ? examples/s]"
      ]
     },
     "metadata": {},
     "output_type": "display_data"
    },
    {
     "data": {
      "text/plain": [
       "DatasetDict({\n",
       "    train: Dataset({\n",
       "        features: ['sentence', 'label'],\n",
       "        num_rows: 11541\n",
       "    })\n",
       "})"
      ]
     },
     "execution_count": 35,
     "metadata": {},
     "output_type": "execute_result"
    }
   ],
   "source": [
    "raw_dataset = load_dataset('csv', data_files='data/airlinetweetnoneutral.csv')\n",
    "raw_dataset"
   ]
  },
  {
   "cell_type": "code",
   "execution_count": 36,
   "id": "c4368c77-85c2-4e87-b5b7-7ca73e32d5ed",
   "metadata": {},
   "outputs": [
    {
     "data": {
      "text/plain": [
       "DatasetDict({\n",
       "    train: Dataset({\n",
       "        features: ['sentence', 'label'],\n",
       "        num_rows: 8078\n",
       "    })\n",
       "    test: Dataset({\n",
       "        features: ['sentence', 'label'],\n",
       "        num_rows: 3463\n",
       "    })\n",
       "})"
      ]
     },
     "execution_count": 36,
     "metadata": {},
     "output_type": "execute_result"
    }
   ],
   "source": [
    "split = raw_dataset['train'].train_test_split(test_size=0.3, seed=42)\n",
    "split"
   ]
  },
  {
   "cell_type": "markdown",
   "id": "4cae6af3-547b-4090-9f8f-d17729c8314c",
   "metadata": {},
   "source": [
    "### Setup the tokenizer"
   ]
  },
  {
   "cell_type": "code",
   "execution_count": 37,
   "id": "b9b313cd-91a0-4d5c-8e6e-58a78c057f27",
   "metadata": {},
   "outputs": [],
   "source": [
    "checkpoint = 'distilbert-base-cased'\n",
    "\n",
    "tokenizer = AutoTokenizer.from_pretrained(checkpoint)"
   ]
  },
  {
   "cell_type": "code",
   "execution_count": 38,
   "id": "fb278b3f-99a6-431f-9c4d-4e8231b2dc7d",
   "metadata": {},
   "outputs": [
    {
     "data": {
      "application/vnd.jupyter.widget-view+json": {
       "model_id": "87cafbf60c004344917570fccdb11dbc",
       "version_major": 2,
       "version_minor": 0
      },
      "text/plain": [
       "Map:   0%|          | 0/8078 [00:00<?, ? examples/s]"
      ]
     },
     "metadata": {},
     "output_type": "display_data"
    },
    {
     "data": {
      "application/vnd.jupyter.widget-view+json": {
       "model_id": "59bd0fee981e4b8eb4cdfcdd2cc340be",
       "version_major": 2,
       "version_minor": 0
      },
      "text/plain": [
       "Map:   0%|          | 0/3463 [00:00<?, ? examples/s]"
      ]
     },
     "metadata": {},
     "output_type": "display_data"
    },
    {
     "data": {
      "text/plain": [
       "DatasetDict({\n",
       "    train: Dataset({\n",
       "        features: ['sentence', 'label', 'input_ids', 'attention_mask'],\n",
       "        num_rows: 8078\n",
       "    })\n",
       "    test: Dataset({\n",
       "        features: ['sentence', 'label', 'input_ids', 'attention_mask'],\n",
       "        num_rows: 3463\n",
       "    })\n",
       "})"
      ]
     },
     "execution_count": 38,
     "metadata": {},
     "output_type": "execute_result"
    }
   ],
   "source": [
    "tokenized_datasets = split.map(tokenize_fn, batch_size=True)\n",
    "tokenized_datasets"
   ]
  },
  {
   "cell_type": "markdown",
   "id": "5d6295bd-6647-496a-808e-28f2a22a394e",
   "metadata": {},
   "source": [
    "### Import the model"
   ]
  },
  {
   "cell_type": "code",
   "execution_count": 40,
   "id": "d1412d6f-f50d-4770-8d73-858e965e8a6e",
   "metadata": {},
   "outputs": [
    {
     "name": "stderr",
     "output_type": "stream",
     "text": [
      "Some weights of DistilBertForSequenceClassification were not initialized from the model checkpoint at distilbert-base-cased and are newly initialized: ['classifier.bias', 'classifier.weight', 'pre_classifier.bias', 'pre_classifier.weight']\n",
      "You should probably TRAIN this model on a down-stream task to be able to use it for predictions and inference.\n"
     ]
    },
    {
     "data": {
      "text/plain": [
       "DistilBertForSequenceClassification(\n",
       "  (distilbert): DistilBertModel(\n",
       "    (embeddings): Embeddings(\n",
       "      (word_embeddings): Embedding(28996, 768, padding_idx=0)\n",
       "      (position_embeddings): Embedding(512, 768)\n",
       "      (LayerNorm): LayerNorm((768,), eps=1e-12, elementwise_affine=True)\n",
       "      (dropout): Dropout(p=0.1, inplace=False)\n",
       "    )\n",
       "    (transformer): Transformer(\n",
       "      (layer): ModuleList(\n",
       "        (0-5): 6 x TransformerBlock(\n",
       "          (attention): MultiHeadSelfAttention(\n",
       "            (dropout): Dropout(p=0.1, inplace=False)\n",
       "            (q_lin): Linear(in_features=768, out_features=768, bias=True)\n",
       "            (k_lin): Linear(in_features=768, out_features=768, bias=True)\n",
       "            (v_lin): Linear(in_features=768, out_features=768, bias=True)\n",
       "            (out_lin): Linear(in_features=768, out_features=768, bias=True)\n",
       "          )\n",
       "          (sa_layer_norm): LayerNorm((768,), eps=1e-12, elementwise_affine=True)\n",
       "          (ffn): FFN(\n",
       "            (dropout): Dropout(p=0.1, inplace=False)\n",
       "            (lin1): Linear(in_features=768, out_features=3072, bias=True)\n",
       "            (lin2): Linear(in_features=3072, out_features=768, bias=True)\n",
       "            (activation): GELUActivation()\n",
       "          )\n",
       "          (output_layer_norm): LayerNorm((768,), eps=1e-12, elementwise_affine=True)\n",
       "        )\n",
       "      )\n",
       "    )\n",
       "  )\n",
       "  (pre_classifier): Linear(in_features=768, out_features=768, bias=True)\n",
       "  (classifier): Linear(in_features=768, out_features=2, bias=True)\n",
       "  (dropout): Dropout(p=0.2, inplace=False)\n",
       ")"
      ]
     },
     "execution_count": 40,
     "metadata": {},
     "output_type": "execute_result"
    }
   ],
   "source": [
    "model = AutoModelForSequenceClassification.from_pretrained(checkpoint, num_labels = 2)\n",
    "model"
   ]
  },
  {
   "cell_type": "markdown",
   "id": "2c64a19a-e553-4185-ac0a-e3ede14048a9",
   "metadata": {},
   "source": [
    "### Set up the Training Arguments and the Trainer"
   ]
  },
  {
   "cell_type": "code",
   "execution_count": 41,
   "id": "ecc94289-afad-457c-949a-903e5af855a8",
   "metadata": {},
   "outputs": [],
   "source": [
    "training_args = TrainingArguments(\n",
    "    output_dir='binary_training_dir',\n",
    "    evaluation_strategy='epoch',\n",
    "    save_strategy='epoch',\n",
    "    per_device_train_batch_size=16,\n",
    "    per_device_eval_batch_size=64\n",
    ")"
   ]
  },
  {
   "cell_type": "code",
   "execution_count": 42,
   "id": "229feda1-54e1-4802-bd27-2ae2a782a876",
   "metadata": {},
   "outputs": [
    {
     "name": "stderr",
     "output_type": "stream",
     "text": [
      "/opt/anaconda3/lib/python3.11/site-packages/accelerate/accelerator.py:432: FutureWarning: Passing the following arguments to `Accelerator` is deprecated and will be removed in version 1.0 of Accelerate: dict_keys(['dispatch_batches', 'split_batches', 'even_batches', 'use_seedable_sampler']). Please pass an `accelerate.DataLoaderConfiguration` instead: \n",
      "dataloader_config = DataLoaderConfiguration(dispatch_batches=None, split_batches=False, even_batches=True, use_seedable_sampler=True)\n",
      "  warnings.warn(\n"
     ]
    }
   ],
   "source": [
    "trainer = Trainer(\n",
    "    model,\n",
    "    training_args,\n",
    "    train_dataset=tokenized_datasets['train'],\n",
    "    eval_dataset=tokenized_datasets['test'],\n",
    "    tokenizer=tokenizer,\n",
    "    compute_metrics=compute_metrics\n",
    ")"
   ]
  },
  {
   "cell_type": "code",
   "execution_count": 43,
   "id": "2c89ee6a-9f9a-489b-988f-80d79639b39f",
   "metadata": {},
   "outputs": [
    {
     "data": {
      "text/html": [
       "\n",
       "    <div>\n",
       "      \n",
       "      <progress value='1515' max='1515' style='width:300px; height:20px; vertical-align: middle;'></progress>\n",
       "      [1515/1515 04:34, Epoch 3/3]\n",
       "    </div>\n",
       "    <table border=\"1\" class=\"dataframe\">\n",
       "  <thead>\n",
       " <tr style=\"text-align: left;\">\n",
       "      <th>Epoch</th>\n",
       "      <th>Training Loss</th>\n",
       "      <th>Validation Loss</th>\n",
       "      <th>Accuracy</th>\n",
       "    </tr>\n",
       "  </thead>\n",
       "  <tbody>\n",
       "    <tr>\n",
       "      <td>1</td>\n",
       "      <td>0.232000</td>\n",
       "      <td>0.192789</td>\n",
       "      <td>0.928097</td>\n",
       "    </tr>\n",
       "    <tr>\n",
       "      <td>2</td>\n",
       "      <td>0.107800</td>\n",
       "      <td>0.232629</td>\n",
       "      <td>0.930407</td>\n",
       "    </tr>\n",
       "    <tr>\n",
       "      <td>3</td>\n",
       "      <td>0.043100</td>\n",
       "      <td>0.286246</td>\n",
       "      <td>0.937338</td>\n",
       "    </tr>\n",
       "  </tbody>\n",
       "</table><p>"
      ],
      "text/plain": [
       "<IPython.core.display.HTML object>"
      ]
     },
     "metadata": {},
     "output_type": "display_data"
    },
    {
     "data": {
      "text/plain": [
       "TrainOutput(global_step=1515, training_loss=0.1269912044207255, metrics={'train_runtime': 275.0122, 'train_samples_per_second': 88.12, 'train_steps_per_second': 5.509, 'total_flos': 303120594777696.0, 'train_loss': 0.1269912044207255, 'epoch': 3.0})"
      ]
     },
     "execution_count": 43,
     "metadata": {},
     "output_type": "execute_result"
    }
   ],
   "source": [
    "trainer.train()"
   ]
  },
  {
   "cell_type": "code",
   "execution_count": 45,
   "id": "544a3960-52fa-423f-8a98-3699accb3366",
   "metadata": {},
   "outputs": [],
   "source": [
    "model = pipeline('text-classification', model='binary_training_dir/checkpoint-1010', framework='pt')\n",
    "\n",
    "test_pred = model(split['test']['sentence'])\n",
    "test_pred = [get_label(d) for d in test_pred]"
   ]
  },
  {
   "cell_type": "code",
   "execution_count": 46,
   "id": "71449ab3-603f-4f62-8496-c2e65c7017d8",
   "metadata": {},
   "outputs": [
    {
     "name": "stdout",
     "output_type": "stream",
     "text": [
      "Accuracy: 93.04%\n"
     ]
    }
   ],
   "source": [
    "print(f\"Accuracy: {round(accuracy_score(split['test']['label'], test_pred) * 100, 2)}%\")"
   ]
  },
  {
   "cell_type": "code",
   "execution_count": 47,
   "id": "d1a74835-e5cb-4ea5-8b69-9ebe914f68e2",
   "metadata": {},
   "outputs": [
    {
     "name": "stdout",
     "output_type": "stream",
     "text": [
      "              precision    recall  f1-score   support\n",
      "\n",
      "           0       0.97      0.94      0.96      2790\n",
      "           1       0.79      0.88      0.83       673\n",
      "\n",
      "    accuracy                           0.93      3463\n",
      "   macro avg       0.88      0.91      0.89      3463\n",
      "weighted avg       0.93      0.93      0.93      3463\n",
      "\n"
     ]
    }
   ],
   "source": [
    "print(classification_report(split['test']['label'], test_pred))"
   ]
  },
  {
   "cell_type": "markdown",
   "id": "66e8b0b6-58a0-4a29-9929-58235e802d77",
   "metadata": {},
   "source": [
    "By fine tuning we increased our model accuracy from 89% to 93%"
   ]
  }
 ],
 "metadata": {
  "kernelspec": {
   "display_name": "Python 3 (ipykernel)",
   "language": "python",
   "name": "python3"
  },
  "language_info": {
   "codemirror_mode": {
    "name": "ipython",
    "version": 3
   },
   "file_extension": ".py",
   "mimetype": "text/x-python",
   "name": "python",
   "nbconvert_exporter": "python",
   "pygments_lexer": "ipython3",
   "version": "3.11.7"
  }
 },
 "nbformat": 4,
 "nbformat_minor": 5
}
