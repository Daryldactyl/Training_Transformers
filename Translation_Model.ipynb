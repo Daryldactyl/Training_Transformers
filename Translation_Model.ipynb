{
  "nbformat": 4,
  "nbformat_minor": 0,
  "metadata": {
    "colab": {
      "provenance": [],
      "authorship_tag": "ABX9TyP/2qIO9lTq6IiAKTgrvAM+",
      "include_colab_link": true
    },
    "kernelspec": {
      "name": "python3",
      "display_name": "Python 3"
    },
    "language_info": {
      "name": "python"
    },
    "widgets": {
      "application/vnd.jupyter.widget-state+json": {
        "ceb22697653e40b397a762629532d3b1": {
          "model_module": "@jupyter-widgets/controls",
          "model_name": "HBoxModel",
          "model_module_version": "1.5.0",
          "state": {
            "_dom_classes": [],
            "_model_module": "@jupyter-widgets/controls",
            "_model_module_version": "1.5.0",
            "_model_name": "HBoxModel",
            "_view_count": null,
            "_view_module": "@jupyter-widgets/controls",
            "_view_module_version": "1.5.0",
            "_view_name": "HBoxView",
            "box_style": "",
            "children": [
              "IPY_MODEL_ff0ab9131cab403282e5176abe803835",
              "IPY_MODEL_8366e041919b4d45a716c75e27dca34c",
              "IPY_MODEL_f7eb735f947d4bca867b7e9f51cf7b8d"
            ],
            "layout": "IPY_MODEL_ec4efe6e8b7f44d2a0a55b1128591df5"
          }
        },
        "ff0ab9131cab403282e5176abe803835": {
          "model_module": "@jupyter-widgets/controls",
          "model_name": "HTMLModel",
          "model_module_version": "1.5.0",
          "state": {
            "_dom_classes": [],
            "_model_module": "@jupyter-widgets/controls",
            "_model_module_version": "1.5.0",
            "_model_name": "HTMLModel",
            "_view_count": null,
            "_view_module": "@jupyter-widgets/controls",
            "_view_module_version": "1.5.0",
            "_view_name": "HTMLView",
            "description": "",
            "description_tooltip": null,
            "layout": "IPY_MODEL_e16456b573cc42a28e302940fad170bc",
            "placeholder": "​",
            "style": "IPY_MODEL_07a6f2845d774f4ea8235770f3978029",
            "value": "tokenizer_config.json: 100%"
          }
        },
        "8366e041919b4d45a716c75e27dca34c": {
          "model_module": "@jupyter-widgets/controls",
          "model_name": "FloatProgressModel",
          "model_module_version": "1.5.0",
          "state": {
            "_dom_classes": [],
            "_model_module": "@jupyter-widgets/controls",
            "_model_module_version": "1.5.0",
            "_model_name": "FloatProgressModel",
            "_view_count": null,
            "_view_module": "@jupyter-widgets/controls",
            "_view_module_version": "1.5.0",
            "_view_name": "ProgressView",
            "bar_style": "success",
            "description": "",
            "description_tooltip": null,
            "layout": "IPY_MODEL_f00b5c9472a54336ac98039199a1863f",
            "max": 49,
            "min": 0,
            "orientation": "horizontal",
            "style": "IPY_MODEL_8bdd799c82ae4383a82c45b989cdc7ad",
            "value": 49
          }
        },
        "f7eb735f947d4bca867b7e9f51cf7b8d": {
          "model_module": "@jupyter-widgets/controls",
          "model_name": "HTMLModel",
          "model_module_version": "1.5.0",
          "state": {
            "_dom_classes": [],
            "_model_module": "@jupyter-widgets/controls",
            "_model_module_version": "1.5.0",
            "_model_name": "HTMLModel",
            "_view_count": null,
            "_view_module": "@jupyter-widgets/controls",
            "_view_module_version": "1.5.0",
            "_view_name": "HTMLView",
            "description": "",
            "description_tooltip": null,
            "layout": "IPY_MODEL_6896f4d05cb3459cba42401b7edaeb58",
            "placeholder": "​",
            "style": "IPY_MODEL_e5324d15b4de4d438a63c3c28fe0d149",
            "value": " 49.0/49.0 [00:00&lt;00:00, 3.98kB/s]"
          }
        },
        "ec4efe6e8b7f44d2a0a55b1128591df5": {
          "model_module": "@jupyter-widgets/base",
          "model_name": "LayoutModel",
          "model_module_version": "1.2.0",
          "state": {
            "_model_module": "@jupyter-widgets/base",
            "_model_module_version": "1.2.0",
            "_model_name": "LayoutModel",
            "_view_count": null,
            "_view_module": "@jupyter-widgets/base",
            "_view_module_version": "1.2.0",
            "_view_name": "LayoutView",
            "align_content": null,
            "align_items": null,
            "align_self": null,
            "border": null,
            "bottom": null,
            "display": null,
            "flex": null,
            "flex_flow": null,
            "grid_area": null,
            "grid_auto_columns": null,
            "grid_auto_flow": null,
            "grid_auto_rows": null,
            "grid_column": null,
            "grid_gap": null,
            "grid_row": null,
            "grid_template_areas": null,
            "grid_template_columns": null,
            "grid_template_rows": null,
            "height": null,
            "justify_content": null,
            "justify_items": null,
            "left": null,
            "margin": null,
            "max_height": null,
            "max_width": null,
            "min_height": null,
            "min_width": null,
            "object_fit": null,
            "object_position": null,
            "order": null,
            "overflow": null,
            "overflow_x": null,
            "overflow_y": null,
            "padding": null,
            "right": null,
            "top": null,
            "visibility": null,
            "width": null
          }
        },
        "e16456b573cc42a28e302940fad170bc": {
          "model_module": "@jupyter-widgets/base",
          "model_name": "LayoutModel",
          "model_module_version": "1.2.0",
          "state": {
            "_model_module": "@jupyter-widgets/base",
            "_model_module_version": "1.2.0",
            "_model_name": "LayoutModel",
            "_view_count": null,
            "_view_module": "@jupyter-widgets/base",
            "_view_module_version": "1.2.0",
            "_view_name": "LayoutView",
            "align_content": null,
            "align_items": null,
            "align_self": null,
            "border": null,
            "bottom": null,
            "display": null,
            "flex": null,
            "flex_flow": null,
            "grid_area": null,
            "grid_auto_columns": null,
            "grid_auto_flow": null,
            "grid_auto_rows": null,
            "grid_column": null,
            "grid_gap": null,
            "grid_row": null,
            "grid_template_areas": null,
            "grid_template_columns": null,
            "grid_template_rows": null,
            "height": null,
            "justify_content": null,
            "justify_items": null,
            "left": null,
            "margin": null,
            "max_height": null,
            "max_width": null,
            "min_height": null,
            "min_width": null,
            "object_fit": null,
            "object_position": null,
            "order": null,
            "overflow": null,
            "overflow_x": null,
            "overflow_y": null,
            "padding": null,
            "right": null,
            "top": null,
            "visibility": null,
            "width": null
          }
        },
        "07a6f2845d774f4ea8235770f3978029": {
          "model_module": "@jupyter-widgets/controls",
          "model_name": "DescriptionStyleModel",
          "model_module_version": "1.5.0",
          "state": {
            "_model_module": "@jupyter-widgets/controls",
            "_model_module_version": "1.5.0",
            "_model_name": "DescriptionStyleModel",
            "_view_count": null,
            "_view_module": "@jupyter-widgets/base",
            "_view_module_version": "1.2.0",
            "_view_name": "StyleView",
            "description_width": ""
          }
        },
        "f00b5c9472a54336ac98039199a1863f": {
          "model_module": "@jupyter-widgets/base",
          "model_name": "LayoutModel",
          "model_module_version": "1.2.0",
          "state": {
            "_model_module": "@jupyter-widgets/base",
            "_model_module_version": "1.2.0",
            "_model_name": "LayoutModel",
            "_view_count": null,
            "_view_module": "@jupyter-widgets/base",
            "_view_module_version": "1.2.0",
            "_view_name": "LayoutView",
            "align_content": null,
            "align_items": null,
            "align_self": null,
            "border": null,
            "bottom": null,
            "display": null,
            "flex": null,
            "flex_flow": null,
            "grid_area": null,
            "grid_auto_columns": null,
            "grid_auto_flow": null,
            "grid_auto_rows": null,
            "grid_column": null,
            "grid_gap": null,
            "grid_row": null,
            "grid_template_areas": null,
            "grid_template_columns": null,
            "grid_template_rows": null,
            "height": null,
            "justify_content": null,
            "justify_items": null,
            "left": null,
            "margin": null,
            "max_height": null,
            "max_width": null,
            "min_height": null,
            "min_width": null,
            "object_fit": null,
            "object_position": null,
            "order": null,
            "overflow": null,
            "overflow_x": null,
            "overflow_y": null,
            "padding": null,
            "right": null,
            "top": null,
            "visibility": null,
            "width": null
          }
        },
        "8bdd799c82ae4383a82c45b989cdc7ad": {
          "model_module": "@jupyter-widgets/controls",
          "model_name": "ProgressStyleModel",
          "model_module_version": "1.5.0",
          "state": {
            "_model_module": "@jupyter-widgets/controls",
            "_model_module_version": "1.5.0",
            "_model_name": "ProgressStyleModel",
            "_view_count": null,
            "_view_module": "@jupyter-widgets/base",
            "_view_module_version": "1.2.0",
            "_view_name": "StyleView",
            "bar_color": null,
            "description_width": ""
          }
        },
        "6896f4d05cb3459cba42401b7edaeb58": {
          "model_module": "@jupyter-widgets/base",
          "model_name": "LayoutModel",
          "model_module_version": "1.2.0",
          "state": {
            "_model_module": "@jupyter-widgets/base",
            "_model_module_version": "1.2.0",
            "_model_name": "LayoutModel",
            "_view_count": null,
            "_view_module": "@jupyter-widgets/base",
            "_view_module_version": "1.2.0",
            "_view_name": "LayoutView",
            "align_content": null,
            "align_items": null,
            "align_self": null,
            "border": null,
            "bottom": null,
            "display": null,
            "flex": null,
            "flex_flow": null,
            "grid_area": null,
            "grid_auto_columns": null,
            "grid_auto_flow": null,
            "grid_auto_rows": null,
            "grid_column": null,
            "grid_gap": null,
            "grid_row": null,
            "grid_template_areas": null,
            "grid_template_columns": null,
            "grid_template_rows": null,
            "height": null,
            "justify_content": null,
            "justify_items": null,
            "left": null,
            "margin": null,
            "max_height": null,
            "max_width": null,
            "min_height": null,
            "min_width": null,
            "object_fit": null,
            "object_position": null,
            "order": null,
            "overflow": null,
            "overflow_x": null,
            "overflow_y": null,
            "padding": null,
            "right": null,
            "top": null,
            "visibility": null,
            "width": null
          }
        },
        "e5324d15b4de4d438a63c3c28fe0d149": {
          "model_module": "@jupyter-widgets/controls",
          "model_name": "DescriptionStyleModel",
          "model_module_version": "1.5.0",
          "state": {
            "_model_module": "@jupyter-widgets/controls",
            "_model_module_version": "1.5.0",
            "_model_name": "DescriptionStyleModel",
            "_view_count": null,
            "_view_module": "@jupyter-widgets/base",
            "_view_module_version": "1.2.0",
            "_view_name": "StyleView",
            "description_width": ""
          }
        },
        "175bb5f809744a0fab269d53f235d4db": {
          "model_module": "@jupyter-widgets/controls",
          "model_name": "HBoxModel",
          "model_module_version": "1.5.0",
          "state": {
            "_dom_classes": [],
            "_model_module": "@jupyter-widgets/controls",
            "_model_module_version": "1.5.0",
            "_model_name": "HBoxModel",
            "_view_count": null,
            "_view_module": "@jupyter-widgets/controls",
            "_view_module_version": "1.5.0",
            "_view_name": "HBoxView",
            "box_style": "",
            "children": [
              "IPY_MODEL_06a47bd3fdb84a6cba0da1ea0aadaff2",
              "IPY_MODEL_fe5e7c97119647e39d4138c5e85f5edc",
              "IPY_MODEL_7a0977d730214e478b404baab1c78a80"
            ],
            "layout": "IPY_MODEL_d5992d6684934d19bc9666741664a641"
          }
        },
        "06a47bd3fdb84a6cba0da1ea0aadaff2": {
          "model_module": "@jupyter-widgets/controls",
          "model_name": "HTMLModel",
          "model_module_version": "1.5.0",
          "state": {
            "_dom_classes": [],
            "_model_module": "@jupyter-widgets/controls",
            "_model_module_version": "1.5.0",
            "_model_name": "HTMLModel",
            "_view_count": null,
            "_view_module": "@jupyter-widgets/controls",
            "_view_module_version": "1.5.0",
            "_view_name": "HTMLView",
            "description": "",
            "description_tooltip": null,
            "layout": "IPY_MODEL_1914b2aa7f4248a492379d529843739e",
            "placeholder": "​",
            "style": "IPY_MODEL_09da0889ecd449709c974ba283be9f0b",
            "value": "config.json: 100%"
          }
        },
        "fe5e7c97119647e39d4138c5e85f5edc": {
          "model_module": "@jupyter-widgets/controls",
          "model_name": "FloatProgressModel",
          "model_module_version": "1.5.0",
          "state": {
            "_dom_classes": [],
            "_model_module": "@jupyter-widgets/controls",
            "_model_module_version": "1.5.0",
            "_model_name": "FloatProgressModel",
            "_view_count": null,
            "_view_module": "@jupyter-widgets/controls",
            "_view_module_version": "1.5.0",
            "_view_name": "ProgressView",
            "bar_style": "success",
            "description": "",
            "description_tooltip": null,
            "layout": "IPY_MODEL_050ab43ca3b94acb97f53d018c9bd748",
            "max": 625,
            "min": 0,
            "orientation": "horizontal",
            "style": "IPY_MODEL_44db05bed1ac4054b598a6bb68daf38b",
            "value": 625
          }
        },
        "7a0977d730214e478b404baab1c78a80": {
          "model_module": "@jupyter-widgets/controls",
          "model_name": "HTMLModel",
          "model_module_version": "1.5.0",
          "state": {
            "_dom_classes": [],
            "_model_module": "@jupyter-widgets/controls",
            "_model_module_version": "1.5.0",
            "_model_name": "HTMLModel",
            "_view_count": null,
            "_view_module": "@jupyter-widgets/controls",
            "_view_module_version": "1.5.0",
            "_view_name": "HTMLView",
            "description": "",
            "description_tooltip": null,
            "layout": "IPY_MODEL_0d633fe50cfb4433a6333967b2dc5f63",
            "placeholder": "​",
            "style": "IPY_MODEL_0db5cbd465ff4db68051d47e32dad799",
            "value": " 625/625 [00:00&lt;00:00, 46.1kB/s]"
          }
        },
        "d5992d6684934d19bc9666741664a641": {
          "model_module": "@jupyter-widgets/base",
          "model_name": "LayoutModel",
          "model_module_version": "1.2.0",
          "state": {
            "_model_module": "@jupyter-widgets/base",
            "_model_module_version": "1.2.0",
            "_model_name": "LayoutModel",
            "_view_count": null,
            "_view_module": "@jupyter-widgets/base",
            "_view_module_version": "1.2.0",
            "_view_name": "LayoutView",
            "align_content": null,
            "align_items": null,
            "align_self": null,
            "border": null,
            "bottom": null,
            "display": null,
            "flex": null,
            "flex_flow": null,
            "grid_area": null,
            "grid_auto_columns": null,
            "grid_auto_flow": null,
            "grid_auto_rows": null,
            "grid_column": null,
            "grid_gap": null,
            "grid_row": null,
            "grid_template_areas": null,
            "grid_template_columns": null,
            "grid_template_rows": null,
            "height": null,
            "justify_content": null,
            "justify_items": null,
            "left": null,
            "margin": null,
            "max_height": null,
            "max_width": null,
            "min_height": null,
            "min_width": null,
            "object_fit": null,
            "object_position": null,
            "order": null,
            "overflow": null,
            "overflow_x": null,
            "overflow_y": null,
            "padding": null,
            "right": null,
            "top": null,
            "visibility": null,
            "width": null
          }
        },
        "1914b2aa7f4248a492379d529843739e": {
          "model_module": "@jupyter-widgets/base",
          "model_name": "LayoutModel",
          "model_module_version": "1.2.0",
          "state": {
            "_model_module": "@jupyter-widgets/base",
            "_model_module_version": "1.2.0",
            "_model_name": "LayoutModel",
            "_view_count": null,
            "_view_module": "@jupyter-widgets/base",
            "_view_module_version": "1.2.0",
            "_view_name": "LayoutView",
            "align_content": null,
            "align_items": null,
            "align_self": null,
            "border": null,
            "bottom": null,
            "display": null,
            "flex": null,
            "flex_flow": null,
            "grid_area": null,
            "grid_auto_columns": null,
            "grid_auto_flow": null,
            "grid_auto_rows": null,
            "grid_column": null,
            "grid_gap": null,
            "grid_row": null,
            "grid_template_areas": null,
            "grid_template_columns": null,
            "grid_template_rows": null,
            "height": null,
            "justify_content": null,
            "justify_items": null,
            "left": null,
            "margin": null,
            "max_height": null,
            "max_width": null,
            "min_height": null,
            "min_width": null,
            "object_fit": null,
            "object_position": null,
            "order": null,
            "overflow": null,
            "overflow_x": null,
            "overflow_y": null,
            "padding": null,
            "right": null,
            "top": null,
            "visibility": null,
            "width": null
          }
        },
        "09da0889ecd449709c974ba283be9f0b": {
          "model_module": "@jupyter-widgets/controls",
          "model_name": "DescriptionStyleModel",
          "model_module_version": "1.5.0",
          "state": {
            "_model_module": "@jupyter-widgets/controls",
            "_model_module_version": "1.5.0",
            "_model_name": "DescriptionStyleModel",
            "_view_count": null,
            "_view_module": "@jupyter-widgets/base",
            "_view_module_version": "1.2.0",
            "_view_name": "StyleView",
            "description_width": ""
          }
        },
        "050ab43ca3b94acb97f53d018c9bd748": {
          "model_module": "@jupyter-widgets/base",
          "model_name": "LayoutModel",
          "model_module_version": "1.2.0",
          "state": {
            "_model_module": "@jupyter-widgets/base",
            "_model_module_version": "1.2.0",
            "_model_name": "LayoutModel",
            "_view_count": null,
            "_view_module": "@jupyter-widgets/base",
            "_view_module_version": "1.2.0",
            "_view_name": "LayoutView",
            "align_content": null,
            "align_items": null,
            "align_self": null,
            "border": null,
            "bottom": null,
            "display": null,
            "flex": null,
            "flex_flow": null,
            "grid_area": null,
            "grid_auto_columns": null,
            "grid_auto_flow": null,
            "grid_auto_rows": null,
            "grid_column": null,
            "grid_gap": null,
            "grid_row": null,
            "grid_template_areas": null,
            "grid_template_columns": null,
            "grid_template_rows": null,
            "height": null,
            "justify_content": null,
            "justify_items": null,
            "left": null,
            "margin": null,
            "max_height": null,
            "max_width": null,
            "min_height": null,
            "min_width": null,
            "object_fit": null,
            "object_position": null,
            "order": null,
            "overflow": null,
            "overflow_x": null,
            "overflow_y": null,
            "padding": null,
            "right": null,
            "top": null,
            "visibility": null,
            "width": null
          }
        },
        "44db05bed1ac4054b598a6bb68daf38b": {
          "model_module": "@jupyter-widgets/controls",
          "model_name": "ProgressStyleModel",
          "model_module_version": "1.5.0",
          "state": {
            "_model_module": "@jupyter-widgets/controls",
            "_model_module_version": "1.5.0",
            "_model_name": "ProgressStyleModel",
            "_view_count": null,
            "_view_module": "@jupyter-widgets/base",
            "_view_module_version": "1.2.0",
            "_view_name": "StyleView",
            "bar_color": null,
            "description_width": ""
          }
        },
        "0d633fe50cfb4433a6333967b2dc5f63": {
          "model_module": "@jupyter-widgets/base",
          "model_name": "LayoutModel",
          "model_module_version": "1.2.0",
          "state": {
            "_model_module": "@jupyter-widgets/base",
            "_model_module_version": "1.2.0",
            "_model_name": "LayoutModel",
            "_view_count": null,
            "_view_module": "@jupyter-widgets/base",
            "_view_module_version": "1.2.0",
            "_view_name": "LayoutView",
            "align_content": null,
            "align_items": null,
            "align_self": null,
            "border": null,
            "bottom": null,
            "display": null,
            "flex": null,
            "flex_flow": null,
            "grid_area": null,
            "grid_auto_columns": null,
            "grid_auto_flow": null,
            "grid_auto_rows": null,
            "grid_column": null,
            "grid_gap": null,
            "grid_row": null,
            "grid_template_areas": null,
            "grid_template_columns": null,
            "grid_template_rows": null,
            "height": null,
            "justify_content": null,
            "justify_items": null,
            "left": null,
            "margin": null,
            "max_height": null,
            "max_width": null,
            "min_height": null,
            "min_width": null,
            "object_fit": null,
            "object_position": null,
            "order": null,
            "overflow": null,
            "overflow_x": null,
            "overflow_y": null,
            "padding": null,
            "right": null,
            "top": null,
            "visibility": null,
            "width": null
          }
        },
        "0db5cbd465ff4db68051d47e32dad799": {
          "model_module": "@jupyter-widgets/controls",
          "model_name": "DescriptionStyleModel",
          "model_module_version": "1.5.0",
          "state": {
            "_model_module": "@jupyter-widgets/controls",
            "_model_module_version": "1.5.0",
            "_model_name": "DescriptionStyleModel",
            "_view_count": null,
            "_view_module": "@jupyter-widgets/base",
            "_view_module_version": "1.2.0",
            "_view_name": "StyleView",
            "description_width": ""
          }
        },
        "310cd5d27e4a49a09dbc115831cecc25": {
          "model_module": "@jupyter-widgets/controls",
          "model_name": "HBoxModel",
          "model_module_version": "1.5.0",
          "state": {
            "_dom_classes": [],
            "_model_module": "@jupyter-widgets/controls",
            "_model_module_version": "1.5.0",
            "_model_name": "HBoxModel",
            "_view_count": null,
            "_view_module": "@jupyter-widgets/controls",
            "_view_module_version": "1.5.0",
            "_view_name": "HBoxView",
            "box_style": "",
            "children": [
              "IPY_MODEL_4f9ce9d58a2a4739aaf45d48c73dddc5",
              "IPY_MODEL_4219faf2c14d43318f2127f858548d24",
              "IPY_MODEL_bfe3179059ea4652926a1c64a43800f5"
            ],
            "layout": "IPY_MODEL_24a3d01bd1d545d490ed2a99315c4116"
          }
        },
        "4f9ce9d58a2a4739aaf45d48c73dddc5": {
          "model_module": "@jupyter-widgets/controls",
          "model_name": "HTMLModel",
          "model_module_version": "1.5.0",
          "state": {
            "_dom_classes": [],
            "_model_module": "@jupyter-widgets/controls",
            "_model_module_version": "1.5.0",
            "_model_name": "HTMLModel",
            "_view_count": null,
            "_view_module": "@jupyter-widgets/controls",
            "_view_module_version": "1.5.0",
            "_view_name": "HTMLView",
            "description": "",
            "description_tooltip": null,
            "layout": "IPY_MODEL_d3f5ec9047f04fc0890044a969d08119",
            "placeholder": "​",
            "style": "IPY_MODEL_1017796624274ff1af9c93658f2b9ade",
            "value": "vocab.txt: 100%"
          }
        },
        "4219faf2c14d43318f2127f858548d24": {
          "model_module": "@jupyter-widgets/controls",
          "model_name": "FloatProgressModel",
          "model_module_version": "1.5.0",
          "state": {
            "_dom_classes": [],
            "_model_module": "@jupyter-widgets/controls",
            "_model_module_version": "1.5.0",
            "_model_name": "FloatProgressModel",
            "_view_count": null,
            "_view_module": "@jupyter-widgets/controls",
            "_view_module_version": "1.5.0",
            "_view_name": "ProgressView",
            "bar_style": "success",
            "description": "",
            "description_tooltip": null,
            "layout": "IPY_MODEL_a51d5bc591234342811bf64cce6ec717",
            "max": 995526,
            "min": 0,
            "orientation": "horizontal",
            "style": "IPY_MODEL_346fa9cfc6dd49709db2a381aaf56d1f",
            "value": 995526
          }
        },
        "bfe3179059ea4652926a1c64a43800f5": {
          "model_module": "@jupyter-widgets/controls",
          "model_name": "HTMLModel",
          "model_module_version": "1.5.0",
          "state": {
            "_dom_classes": [],
            "_model_module": "@jupyter-widgets/controls",
            "_model_module_version": "1.5.0",
            "_model_name": "HTMLModel",
            "_view_count": null,
            "_view_module": "@jupyter-widgets/controls",
            "_view_module_version": "1.5.0",
            "_view_name": "HTMLView",
            "description": "",
            "description_tooltip": null,
            "layout": "IPY_MODEL_b90412f35f6541cd8e5fef1ea7f4892f",
            "placeholder": "​",
            "style": "IPY_MODEL_00d448b467564249811fb1937cded11b",
            "value": " 996k/996k [00:00&lt;00:00, 4.37MB/s]"
          }
        },
        "24a3d01bd1d545d490ed2a99315c4116": {
          "model_module": "@jupyter-widgets/base",
          "model_name": "LayoutModel",
          "model_module_version": "1.2.0",
          "state": {
            "_model_module": "@jupyter-widgets/base",
            "_model_module_version": "1.2.0",
            "_model_name": "LayoutModel",
            "_view_count": null,
            "_view_module": "@jupyter-widgets/base",
            "_view_module_version": "1.2.0",
            "_view_name": "LayoutView",
            "align_content": null,
            "align_items": null,
            "align_self": null,
            "border": null,
            "bottom": null,
            "display": null,
            "flex": null,
            "flex_flow": null,
            "grid_area": null,
            "grid_auto_columns": null,
            "grid_auto_flow": null,
            "grid_auto_rows": null,
            "grid_column": null,
            "grid_gap": null,
            "grid_row": null,
            "grid_template_areas": null,
            "grid_template_columns": null,
            "grid_template_rows": null,
            "height": null,
            "justify_content": null,
            "justify_items": null,
            "left": null,
            "margin": null,
            "max_height": null,
            "max_width": null,
            "min_height": null,
            "min_width": null,
            "object_fit": null,
            "object_position": null,
            "order": null,
            "overflow": null,
            "overflow_x": null,
            "overflow_y": null,
            "padding": null,
            "right": null,
            "top": null,
            "visibility": null,
            "width": null
          }
        },
        "d3f5ec9047f04fc0890044a969d08119": {
          "model_module": "@jupyter-widgets/base",
          "model_name": "LayoutModel",
          "model_module_version": "1.2.0",
          "state": {
            "_model_module": "@jupyter-widgets/base",
            "_model_module_version": "1.2.0",
            "_model_name": "LayoutModel",
            "_view_count": null,
            "_view_module": "@jupyter-widgets/base",
            "_view_module_version": "1.2.0",
            "_view_name": "LayoutView",
            "align_content": null,
            "align_items": null,
            "align_self": null,
            "border": null,
            "bottom": null,
            "display": null,
            "flex": null,
            "flex_flow": null,
            "grid_area": null,
            "grid_auto_columns": null,
            "grid_auto_flow": null,
            "grid_auto_rows": null,
            "grid_column": null,
            "grid_gap": null,
            "grid_row": null,
            "grid_template_areas": null,
            "grid_template_columns": null,
            "grid_template_rows": null,
            "height": null,
            "justify_content": null,
            "justify_items": null,
            "left": null,
            "margin": null,
            "max_height": null,
            "max_width": null,
            "min_height": null,
            "min_width": null,
            "object_fit": null,
            "object_position": null,
            "order": null,
            "overflow": null,
            "overflow_x": null,
            "overflow_y": null,
            "padding": null,
            "right": null,
            "top": null,
            "visibility": null,
            "width": null
          }
        },
        "1017796624274ff1af9c93658f2b9ade": {
          "model_module": "@jupyter-widgets/controls",
          "model_name": "DescriptionStyleModel",
          "model_module_version": "1.5.0",
          "state": {
            "_model_module": "@jupyter-widgets/controls",
            "_model_module_version": "1.5.0",
            "_model_name": "DescriptionStyleModel",
            "_view_count": null,
            "_view_module": "@jupyter-widgets/base",
            "_view_module_version": "1.2.0",
            "_view_name": "StyleView",
            "description_width": ""
          }
        },
        "a51d5bc591234342811bf64cce6ec717": {
          "model_module": "@jupyter-widgets/base",
          "model_name": "LayoutModel",
          "model_module_version": "1.2.0",
          "state": {
            "_model_module": "@jupyter-widgets/base",
            "_model_module_version": "1.2.0",
            "_model_name": "LayoutModel",
            "_view_count": null,
            "_view_module": "@jupyter-widgets/base",
            "_view_module_version": "1.2.0",
            "_view_name": "LayoutView",
            "align_content": null,
            "align_items": null,
            "align_self": null,
            "border": null,
            "bottom": null,
            "display": null,
            "flex": null,
            "flex_flow": null,
            "grid_area": null,
            "grid_auto_columns": null,
            "grid_auto_flow": null,
            "grid_auto_rows": null,
            "grid_column": null,
            "grid_gap": null,
            "grid_row": null,
            "grid_template_areas": null,
            "grid_template_columns": null,
            "grid_template_rows": null,
            "height": null,
            "justify_content": null,
            "justify_items": null,
            "left": null,
            "margin": null,
            "max_height": null,
            "max_width": null,
            "min_height": null,
            "min_width": null,
            "object_fit": null,
            "object_position": null,
            "order": null,
            "overflow": null,
            "overflow_x": null,
            "overflow_y": null,
            "padding": null,
            "right": null,
            "top": null,
            "visibility": null,
            "width": null
          }
        },
        "346fa9cfc6dd49709db2a381aaf56d1f": {
          "model_module": "@jupyter-widgets/controls",
          "model_name": "ProgressStyleModel",
          "model_module_version": "1.5.0",
          "state": {
            "_model_module": "@jupyter-widgets/controls",
            "_model_module_version": "1.5.0",
            "_model_name": "ProgressStyleModel",
            "_view_count": null,
            "_view_module": "@jupyter-widgets/base",
            "_view_module_version": "1.2.0",
            "_view_name": "StyleView",
            "bar_color": null,
            "description_width": ""
          }
        },
        "b90412f35f6541cd8e5fef1ea7f4892f": {
          "model_module": "@jupyter-widgets/base",
          "model_name": "LayoutModel",
          "model_module_version": "1.2.0",
          "state": {
            "_model_module": "@jupyter-widgets/base",
            "_model_module_version": "1.2.0",
            "_model_name": "LayoutModel",
            "_view_count": null,
            "_view_module": "@jupyter-widgets/base",
            "_view_module_version": "1.2.0",
            "_view_name": "LayoutView",
            "align_content": null,
            "align_items": null,
            "align_self": null,
            "border": null,
            "bottom": null,
            "display": null,
            "flex": null,
            "flex_flow": null,
            "grid_area": null,
            "grid_auto_columns": null,
            "grid_auto_flow": null,
            "grid_auto_rows": null,
            "grid_column": null,
            "grid_gap": null,
            "grid_row": null,
            "grid_template_areas": null,
            "grid_template_columns": null,
            "grid_template_rows": null,
            "height": null,
            "justify_content": null,
            "justify_items": null,
            "left": null,
            "margin": null,
            "max_height": null,
            "max_width": null,
            "min_height": null,
            "min_width": null,
            "object_fit": null,
            "object_position": null,
            "order": null,
            "overflow": null,
            "overflow_x": null,
            "overflow_y": null,
            "padding": null,
            "right": null,
            "top": null,
            "visibility": null,
            "width": null
          }
        },
        "00d448b467564249811fb1937cded11b": {
          "model_module": "@jupyter-widgets/controls",
          "model_name": "DescriptionStyleModel",
          "model_module_version": "1.5.0",
          "state": {
            "_model_module": "@jupyter-widgets/controls",
            "_model_module_version": "1.5.0",
            "_model_name": "DescriptionStyleModel",
            "_view_count": null,
            "_view_module": "@jupyter-widgets/base",
            "_view_module_version": "1.2.0",
            "_view_name": "StyleView",
            "description_width": ""
          }
        },
        "ac0dcb73e9ce48a69ea76b64ab4f00ce": {
          "model_module": "@jupyter-widgets/controls",
          "model_name": "HBoxModel",
          "model_module_version": "1.5.0",
          "state": {
            "_dom_classes": [],
            "_model_module": "@jupyter-widgets/controls",
            "_model_module_version": "1.5.0",
            "_model_name": "HBoxModel",
            "_view_count": null,
            "_view_module": "@jupyter-widgets/controls",
            "_view_module_version": "1.5.0",
            "_view_name": "HBoxView",
            "box_style": "",
            "children": [
              "IPY_MODEL_d66059e35f0e4e199fd3973c69b4e166",
              "IPY_MODEL_01914545947a4c648718374a74787c94",
              "IPY_MODEL_c5154a1f26e24787a0e97865044e8b72"
            ],
            "layout": "IPY_MODEL_6765384fe2be4dfea0b2e5796533bdd6"
          }
        },
        "d66059e35f0e4e199fd3973c69b4e166": {
          "model_module": "@jupyter-widgets/controls",
          "model_name": "HTMLModel",
          "model_module_version": "1.5.0",
          "state": {
            "_dom_classes": [],
            "_model_module": "@jupyter-widgets/controls",
            "_model_module_version": "1.5.0",
            "_model_name": "HTMLModel",
            "_view_count": null,
            "_view_module": "@jupyter-widgets/controls",
            "_view_module_version": "1.5.0",
            "_view_name": "HTMLView",
            "description": "",
            "description_tooltip": null,
            "layout": "IPY_MODEL_bae7c2a197a24667a5430f16a8a4096e",
            "placeholder": "​",
            "style": "IPY_MODEL_b4c523b2e6ef443eb814665010b8f364",
            "value": "tokenizer.json: 100%"
          }
        },
        "01914545947a4c648718374a74787c94": {
          "model_module": "@jupyter-widgets/controls",
          "model_name": "FloatProgressModel",
          "model_module_version": "1.5.0",
          "state": {
            "_dom_classes": [],
            "_model_module": "@jupyter-widgets/controls",
            "_model_module_version": "1.5.0",
            "_model_name": "FloatProgressModel",
            "_view_count": null,
            "_view_module": "@jupyter-widgets/controls",
            "_view_module_version": "1.5.0",
            "_view_name": "ProgressView",
            "bar_style": "success",
            "description": "",
            "description_tooltip": null,
            "layout": "IPY_MODEL_7bef5d45cea041189dde47507f7feb35",
            "max": 1961828,
            "min": 0,
            "orientation": "horizontal",
            "style": "IPY_MODEL_6dc03185700f44c4a1b58472c867e527",
            "value": 1961828
          }
        },
        "c5154a1f26e24787a0e97865044e8b72": {
          "model_module": "@jupyter-widgets/controls",
          "model_name": "HTMLModel",
          "model_module_version": "1.5.0",
          "state": {
            "_dom_classes": [],
            "_model_module": "@jupyter-widgets/controls",
            "_model_module_version": "1.5.0",
            "_model_name": "HTMLModel",
            "_view_count": null,
            "_view_module": "@jupyter-widgets/controls",
            "_view_module_version": "1.5.0",
            "_view_name": "HTMLView",
            "description": "",
            "description_tooltip": null,
            "layout": "IPY_MODEL_8cfb17367d7e4c6e92574ddbf5e294b8",
            "placeholder": "​",
            "style": "IPY_MODEL_91acf89414a340daa52486ff9588430c",
            "value": " 1.96M/1.96M [00:00&lt;00:00, 6.89MB/s]"
          }
        },
        "6765384fe2be4dfea0b2e5796533bdd6": {
          "model_module": "@jupyter-widgets/base",
          "model_name": "LayoutModel",
          "model_module_version": "1.2.0",
          "state": {
            "_model_module": "@jupyter-widgets/base",
            "_model_module_version": "1.2.0",
            "_model_name": "LayoutModel",
            "_view_count": null,
            "_view_module": "@jupyter-widgets/base",
            "_view_module_version": "1.2.0",
            "_view_name": "LayoutView",
            "align_content": null,
            "align_items": null,
            "align_self": null,
            "border": null,
            "bottom": null,
            "display": null,
            "flex": null,
            "flex_flow": null,
            "grid_area": null,
            "grid_auto_columns": null,
            "grid_auto_flow": null,
            "grid_auto_rows": null,
            "grid_column": null,
            "grid_gap": null,
            "grid_row": null,
            "grid_template_areas": null,
            "grid_template_columns": null,
            "grid_template_rows": null,
            "height": null,
            "justify_content": null,
            "justify_items": null,
            "left": null,
            "margin": null,
            "max_height": null,
            "max_width": null,
            "min_height": null,
            "min_width": null,
            "object_fit": null,
            "object_position": null,
            "order": null,
            "overflow": null,
            "overflow_x": null,
            "overflow_y": null,
            "padding": null,
            "right": null,
            "top": null,
            "visibility": null,
            "width": null
          }
        },
        "bae7c2a197a24667a5430f16a8a4096e": {
          "model_module": "@jupyter-widgets/base",
          "model_name": "LayoutModel",
          "model_module_version": "1.2.0",
          "state": {
            "_model_module": "@jupyter-widgets/base",
            "_model_module_version": "1.2.0",
            "_model_name": "LayoutModel",
            "_view_count": null,
            "_view_module": "@jupyter-widgets/base",
            "_view_module_version": "1.2.0",
            "_view_name": "LayoutView",
            "align_content": null,
            "align_items": null,
            "align_self": null,
            "border": null,
            "bottom": null,
            "display": null,
            "flex": null,
            "flex_flow": null,
            "grid_area": null,
            "grid_auto_columns": null,
            "grid_auto_flow": null,
            "grid_auto_rows": null,
            "grid_column": null,
            "grid_gap": null,
            "grid_row": null,
            "grid_template_areas": null,
            "grid_template_columns": null,
            "grid_template_rows": null,
            "height": null,
            "justify_content": null,
            "justify_items": null,
            "left": null,
            "margin": null,
            "max_height": null,
            "max_width": null,
            "min_height": null,
            "min_width": null,
            "object_fit": null,
            "object_position": null,
            "order": null,
            "overflow": null,
            "overflow_x": null,
            "overflow_y": null,
            "padding": null,
            "right": null,
            "top": null,
            "visibility": null,
            "width": null
          }
        },
        "b4c523b2e6ef443eb814665010b8f364": {
          "model_module": "@jupyter-widgets/controls",
          "model_name": "DescriptionStyleModel",
          "model_module_version": "1.5.0",
          "state": {
            "_model_module": "@jupyter-widgets/controls",
            "_model_module_version": "1.5.0",
            "_model_name": "DescriptionStyleModel",
            "_view_count": null,
            "_view_module": "@jupyter-widgets/base",
            "_view_module_version": "1.2.0",
            "_view_name": "StyleView",
            "description_width": ""
          }
        },
        "7bef5d45cea041189dde47507f7feb35": {
          "model_module": "@jupyter-widgets/base",
          "model_name": "LayoutModel",
          "model_module_version": "1.2.0",
          "state": {
            "_model_module": "@jupyter-widgets/base",
            "_model_module_version": "1.2.0",
            "_model_name": "LayoutModel",
            "_view_count": null,
            "_view_module": "@jupyter-widgets/base",
            "_view_module_version": "1.2.0",
            "_view_name": "LayoutView",
            "align_content": null,
            "align_items": null,
            "align_self": null,
            "border": null,
            "bottom": null,
            "display": null,
            "flex": null,
            "flex_flow": null,
            "grid_area": null,
            "grid_auto_columns": null,
            "grid_auto_flow": null,
            "grid_auto_rows": null,
            "grid_column": null,
            "grid_gap": null,
            "grid_row": null,
            "grid_template_areas": null,
            "grid_template_columns": null,
            "grid_template_rows": null,
            "height": null,
            "justify_content": null,
            "justify_items": null,
            "left": null,
            "margin": null,
            "max_height": null,
            "max_width": null,
            "min_height": null,
            "min_width": null,
            "object_fit": null,
            "object_position": null,
            "order": null,
            "overflow": null,
            "overflow_x": null,
            "overflow_y": null,
            "padding": null,
            "right": null,
            "top": null,
            "visibility": null,
            "width": null
          }
        },
        "6dc03185700f44c4a1b58472c867e527": {
          "model_module": "@jupyter-widgets/controls",
          "model_name": "ProgressStyleModel",
          "model_module_version": "1.5.0",
          "state": {
            "_model_module": "@jupyter-widgets/controls",
            "_model_module_version": "1.5.0",
            "_model_name": "ProgressStyleModel",
            "_view_count": null,
            "_view_module": "@jupyter-widgets/base",
            "_view_module_version": "1.2.0",
            "_view_name": "StyleView",
            "bar_color": null,
            "description_width": ""
          }
        },
        "8cfb17367d7e4c6e92574ddbf5e294b8": {
          "model_module": "@jupyter-widgets/base",
          "model_name": "LayoutModel",
          "model_module_version": "1.2.0",
          "state": {
            "_model_module": "@jupyter-widgets/base",
            "_model_module_version": "1.2.0",
            "_model_name": "LayoutModel",
            "_view_count": null,
            "_view_module": "@jupyter-widgets/base",
            "_view_module_version": "1.2.0",
            "_view_name": "LayoutView",
            "align_content": null,
            "align_items": null,
            "align_self": null,
            "border": null,
            "bottom": null,
            "display": null,
            "flex": null,
            "flex_flow": null,
            "grid_area": null,
            "grid_auto_columns": null,
            "grid_auto_flow": null,
            "grid_auto_rows": null,
            "grid_column": null,
            "grid_gap": null,
            "grid_row": null,
            "grid_template_areas": null,
            "grid_template_columns": null,
            "grid_template_rows": null,
            "height": null,
            "justify_content": null,
            "justify_items": null,
            "left": null,
            "margin": null,
            "max_height": null,
            "max_width": null,
            "min_height": null,
            "min_width": null,
            "object_fit": null,
            "object_position": null,
            "order": null,
            "overflow": null,
            "overflow_x": null,
            "overflow_y": null,
            "padding": null,
            "right": null,
            "top": null,
            "visibility": null,
            "width": null
          }
        },
        "91acf89414a340daa52486ff9588430c": {
          "model_module": "@jupyter-widgets/controls",
          "model_name": "DescriptionStyleModel",
          "model_module_version": "1.5.0",
          "state": {
            "_model_module": "@jupyter-widgets/controls",
            "_model_module_version": "1.5.0",
            "_model_name": "DescriptionStyleModel",
            "_view_count": null,
            "_view_module": "@jupyter-widgets/base",
            "_view_module_version": "1.2.0",
            "_view_name": "StyleView",
            "description_width": ""
          }
        },
        "c2a1a39e62eb4eef915b673ac74d68b9": {
          "model_module": "@jupyter-widgets/controls",
          "model_name": "HBoxModel",
          "model_module_version": "1.5.0",
          "state": {
            "_dom_classes": [],
            "_model_module": "@jupyter-widgets/controls",
            "_model_module_version": "1.5.0",
            "_model_name": "HBoxModel",
            "_view_count": null,
            "_view_module": "@jupyter-widgets/controls",
            "_view_module_version": "1.5.0",
            "_view_name": "HBoxView",
            "box_style": "",
            "children": [
              "IPY_MODEL_a34c2b278e874285a04862fea8f291a8",
              "IPY_MODEL_94ad1ea7c2814446855391c57892aa8d",
              "IPY_MODEL_e25a5bfae6ff46eb89758710f75389f6"
            ],
            "layout": "IPY_MODEL_d8340811bd2d43b2b3d5a1a21db6753d"
          }
        },
        "a34c2b278e874285a04862fea8f291a8": {
          "model_module": "@jupyter-widgets/controls",
          "model_name": "HTMLModel",
          "model_module_version": "1.5.0",
          "state": {
            "_dom_classes": [],
            "_model_module": "@jupyter-widgets/controls",
            "_model_module_version": "1.5.0",
            "_model_name": "HTMLModel",
            "_view_count": null,
            "_view_module": "@jupyter-widgets/controls",
            "_view_module_version": "1.5.0",
            "_view_name": "HTMLView",
            "description": "",
            "description_tooltip": null,
            "layout": "IPY_MODEL_b660616fd7414950b49d94dd77c6be4d",
            "placeholder": "​",
            "style": "IPY_MODEL_8df498eb4b3f4d2a949119dc8260b283",
            "value": "model.safetensors: 100%"
          }
        },
        "94ad1ea7c2814446855391c57892aa8d": {
          "model_module": "@jupyter-widgets/controls",
          "model_name": "FloatProgressModel",
          "model_module_version": "1.5.0",
          "state": {
            "_dom_classes": [],
            "_model_module": "@jupyter-widgets/controls",
            "_model_module_version": "1.5.0",
            "_model_name": "FloatProgressModel",
            "_view_count": null,
            "_view_module": "@jupyter-widgets/controls",
            "_view_module_version": "1.5.0",
            "_view_name": "ProgressView",
            "bar_style": "success",
            "description": "",
            "description_tooltip": null,
            "layout": "IPY_MODEL_32964513c99a469390734275bb933029",
            "max": 714290682,
            "min": 0,
            "orientation": "horizontal",
            "style": "IPY_MODEL_94a8afd4e78c45288ee6b23562b8ba1a",
            "value": 714290682
          }
        },
        "e25a5bfae6ff46eb89758710f75389f6": {
          "model_module": "@jupyter-widgets/controls",
          "model_name": "HTMLModel",
          "model_module_version": "1.5.0",
          "state": {
            "_dom_classes": [],
            "_model_module": "@jupyter-widgets/controls",
            "_model_module_version": "1.5.0",
            "_model_name": "HTMLModel",
            "_view_count": null,
            "_view_module": "@jupyter-widgets/controls",
            "_view_module_version": "1.5.0",
            "_view_name": "HTMLView",
            "description": "",
            "description_tooltip": null,
            "layout": "IPY_MODEL_2a90155b959a419796bd71c8856de26b",
            "placeholder": "​",
            "style": "IPY_MODEL_6e9e008cd83843739ddad4fa4168d39e",
            "value": " 714M/714M [00:05&lt;00:00, 197MB/s]"
          }
        },
        "d8340811bd2d43b2b3d5a1a21db6753d": {
          "model_module": "@jupyter-widgets/base",
          "model_name": "LayoutModel",
          "model_module_version": "1.2.0",
          "state": {
            "_model_module": "@jupyter-widgets/base",
            "_model_module_version": "1.2.0",
            "_model_name": "LayoutModel",
            "_view_count": null,
            "_view_module": "@jupyter-widgets/base",
            "_view_module_version": "1.2.0",
            "_view_name": "LayoutView",
            "align_content": null,
            "align_items": null,
            "align_self": null,
            "border": null,
            "bottom": null,
            "display": null,
            "flex": null,
            "flex_flow": null,
            "grid_area": null,
            "grid_auto_columns": null,
            "grid_auto_flow": null,
            "grid_auto_rows": null,
            "grid_column": null,
            "grid_gap": null,
            "grid_row": null,
            "grid_template_areas": null,
            "grid_template_columns": null,
            "grid_template_rows": null,
            "height": null,
            "justify_content": null,
            "justify_items": null,
            "left": null,
            "margin": null,
            "max_height": null,
            "max_width": null,
            "min_height": null,
            "min_width": null,
            "object_fit": null,
            "object_position": null,
            "order": null,
            "overflow": null,
            "overflow_x": null,
            "overflow_y": null,
            "padding": null,
            "right": null,
            "top": null,
            "visibility": null,
            "width": null
          }
        },
        "b660616fd7414950b49d94dd77c6be4d": {
          "model_module": "@jupyter-widgets/base",
          "model_name": "LayoutModel",
          "model_module_version": "1.2.0",
          "state": {
            "_model_module": "@jupyter-widgets/base",
            "_model_module_version": "1.2.0",
            "_model_name": "LayoutModel",
            "_view_count": null,
            "_view_module": "@jupyter-widgets/base",
            "_view_module_version": "1.2.0",
            "_view_name": "LayoutView",
            "align_content": null,
            "align_items": null,
            "align_self": null,
            "border": null,
            "bottom": null,
            "display": null,
            "flex": null,
            "flex_flow": null,
            "grid_area": null,
            "grid_auto_columns": null,
            "grid_auto_flow": null,
            "grid_auto_rows": null,
            "grid_column": null,
            "grid_gap": null,
            "grid_row": null,
            "grid_template_areas": null,
            "grid_template_columns": null,
            "grid_template_rows": null,
            "height": null,
            "justify_content": null,
            "justify_items": null,
            "left": null,
            "margin": null,
            "max_height": null,
            "max_width": null,
            "min_height": null,
            "min_width": null,
            "object_fit": null,
            "object_position": null,
            "order": null,
            "overflow": null,
            "overflow_x": null,
            "overflow_y": null,
            "padding": null,
            "right": null,
            "top": null,
            "visibility": null,
            "width": null
          }
        },
        "8df498eb4b3f4d2a949119dc8260b283": {
          "model_module": "@jupyter-widgets/controls",
          "model_name": "DescriptionStyleModel",
          "model_module_version": "1.5.0",
          "state": {
            "_model_module": "@jupyter-widgets/controls",
            "_model_module_version": "1.5.0",
            "_model_name": "DescriptionStyleModel",
            "_view_count": null,
            "_view_module": "@jupyter-widgets/base",
            "_view_module_version": "1.2.0",
            "_view_name": "StyleView",
            "description_width": ""
          }
        },
        "32964513c99a469390734275bb933029": {
          "model_module": "@jupyter-widgets/base",
          "model_name": "LayoutModel",
          "model_module_version": "1.2.0",
          "state": {
            "_model_module": "@jupyter-widgets/base",
            "_model_module_version": "1.2.0",
            "_model_name": "LayoutModel",
            "_view_count": null,
            "_view_module": "@jupyter-widgets/base",
            "_view_module_version": "1.2.0",
            "_view_name": "LayoutView",
            "align_content": null,
            "align_items": null,
            "align_self": null,
            "border": null,
            "bottom": null,
            "display": null,
            "flex": null,
            "flex_flow": null,
            "grid_area": null,
            "grid_auto_columns": null,
            "grid_auto_flow": null,
            "grid_auto_rows": null,
            "grid_column": null,
            "grid_gap": null,
            "grid_row": null,
            "grid_template_areas": null,
            "grid_template_columns": null,
            "grid_template_rows": null,
            "height": null,
            "justify_content": null,
            "justify_items": null,
            "left": null,
            "margin": null,
            "max_height": null,
            "max_width": null,
            "min_height": null,
            "min_width": null,
            "object_fit": null,
            "object_position": null,
            "order": null,
            "overflow": null,
            "overflow_x": null,
            "overflow_y": null,
            "padding": null,
            "right": null,
            "top": null,
            "visibility": null,
            "width": null
          }
        },
        "94a8afd4e78c45288ee6b23562b8ba1a": {
          "model_module": "@jupyter-widgets/controls",
          "model_name": "ProgressStyleModel",
          "model_module_version": "1.5.0",
          "state": {
            "_model_module": "@jupyter-widgets/controls",
            "_model_module_version": "1.5.0",
            "_model_name": "ProgressStyleModel",
            "_view_count": null,
            "_view_module": "@jupyter-widgets/base",
            "_view_module_version": "1.2.0",
            "_view_name": "StyleView",
            "bar_color": null,
            "description_width": ""
          }
        },
        "2a90155b959a419796bd71c8856de26b": {
          "model_module": "@jupyter-widgets/base",
          "model_name": "LayoutModel",
          "model_module_version": "1.2.0",
          "state": {
            "_model_module": "@jupyter-widgets/base",
            "_model_module_version": "1.2.0",
            "_model_name": "LayoutModel",
            "_view_count": null,
            "_view_module": "@jupyter-widgets/base",
            "_view_module_version": "1.2.0",
            "_view_name": "LayoutView",
            "align_content": null,
            "align_items": null,
            "align_self": null,
            "border": null,
            "bottom": null,
            "display": null,
            "flex": null,
            "flex_flow": null,
            "grid_area": null,
            "grid_auto_columns": null,
            "grid_auto_flow": null,
            "grid_auto_rows": null,
            "grid_column": null,
            "grid_gap": null,
            "grid_row": null,
            "grid_template_areas": null,
            "grid_template_columns": null,
            "grid_template_rows": null,
            "height": null,
            "justify_content": null,
            "justify_items": null,
            "left": null,
            "margin": null,
            "max_height": null,
            "max_width": null,
            "min_height": null,
            "min_width": null,
            "object_fit": null,
            "object_position": null,
            "order": null,
            "overflow": null,
            "overflow_x": null,
            "overflow_y": null,
            "padding": null,
            "right": null,
            "top": null,
            "visibility": null,
            "width": null
          }
        },
        "6e9e008cd83843739ddad4fa4168d39e": {
          "model_module": "@jupyter-widgets/controls",
          "model_name": "DescriptionStyleModel",
          "model_module_version": "1.5.0",
          "state": {
            "_model_module": "@jupyter-widgets/controls",
            "_model_module_version": "1.5.0",
            "_model_name": "DescriptionStyleModel",
            "_view_count": null,
            "_view_module": "@jupyter-widgets/base",
            "_view_module_version": "1.2.0",
            "_view_name": "StyleView",
            "description_width": ""
          }
        }
      }
    }
  },
  "cells": [
    {
      "cell_type": "markdown",
      "metadata": {
        "id": "view-in-github",
        "colab_type": "text"
      },
      "source": [
        "<a href=\"https://colab.research.google.com/github/Daryldactyl/Training_Transformers/blob/main/Translation_Model.ipynb\" target=\"_parent\"><img src=\"https://colab.research.google.com/assets/colab-badge.svg\" alt=\"Open In Colab\"/></a>"
      ]
    },
    {
      "cell_type": "markdown",
      "source": [
        "# Building an English to Spanish Translation Model\n",
        "### Import the Dataset\n",
        "For possible languages to use with this dataset go to https://opus.nlpl.eu/results/en&es-MX/corpus-result-table"
      ],
      "metadata": {
        "id": "E1oCl5TBExX2"
      }
    },
    {
      "cell_type": "code",
      "execution_count": 1,
      "metadata": {
        "id": "ngCvm0IsEQK1"
      },
      "outputs": [],
      "source": [
        "#!pip install transformers datasets sentencepiece"
      ]
    },
    {
      "cell_type": "code",
      "source": [
        "from datasets import load_dataset\n",
        "data = load_dataset('kde4', lang1='en', lang2='es')\n",
        "data"
      ],
      "metadata": {
        "colab": {
          "base_uri": "https://localhost:8080/"
        },
        "id": "a1YoUXfsEW9N",
        "outputId": "00a2426e-4720-47a6-e982-e034154b3577"
      },
      "execution_count": 2,
      "outputs": [
        {
          "output_type": "stream",
          "name": "stderr",
          "text": [
            "/usr/local/lib/python3.10/dist-packages/huggingface_hub/utils/_token.py:89: UserWarning: \n",
            "The secret `HF_TOKEN` does not exist in your Colab secrets.\n",
            "To authenticate with the Hugging Face Hub, create a token in your settings tab (https://huggingface.co/settings/tokens), set it as secret in your Google Colab and restart your session.\n",
            "You will be able to reuse this secret in all of your notebooks.\n",
            "Please note that authentication is recommended but still optional to access public models or datasets.\n",
            "  warnings.warn(\n"
          ]
        },
        {
          "output_type": "execute_result",
          "data": {
            "text/plain": [
              "DatasetDict({\n",
              "    train: Dataset({\n",
              "        features: ['id', 'translation'],\n",
              "        num_rows: 218655\n",
              "    })\n",
              "})"
            ]
          },
          "metadata": {},
          "execution_count": 2
        }
      ]
    },
    {
      "cell_type": "markdown",
      "source": [
        "We have 218 thousand rows of data which will be too big for our free colab instance"
      ],
      "metadata": {
        "id": "I4bab8LEG9fn"
      }
    },
    {
      "cell_type": "markdown",
      "source": [
        "#### Shrink the Dataset for faster processing"
      ],
      "metadata": {
        "id": "iekf95Y1IuoQ"
      }
    },
    {
      "cell_type": "code",
      "source": [
        "small = data['train'].shuffle(seed=42).select(range(1_000))\n",
        "split = small.train_test_split(seed=42)\n",
        "split['train'][0]"
      ],
      "metadata": {
        "colab": {
          "base_uri": "https://localhost:8080/"
        },
        "id": "NtPynmTxHSmX",
        "outputId": "02565b8a-becf-426a-ca37-212be76711ce"
      },
      "execution_count": 3,
      "outputs": [
        {
          "output_type": "execute_result",
          "data": {
            "text/plain": [
              "{'id': '74222',\n",
              " 'translation': {'en': 'Mute command turns the sound on or off.',\n",
              "  'es': 'La orden Silenciar activa o desactiva el sonido.'}}"
            ]
          },
          "metadata": {},
          "execution_count": 3
        }
      ]
    },
    {
      "cell_type": "code",
      "source": [
        "split"
      ],
      "metadata": {
        "colab": {
          "base_uri": "https://localhost:8080/"
        },
        "id": "vwlj29eDIiq3",
        "outputId": "a160e8ad-4bb3-41be-8d32-5160aa34b872"
      },
      "execution_count": 4,
      "outputs": [
        {
          "output_type": "execute_result",
          "data": {
            "text/plain": [
              "DatasetDict({\n",
              "    train: Dataset({\n",
              "        features: ['id', 'translation'],\n",
              "        num_rows: 750\n",
              "    })\n",
              "    test: Dataset({\n",
              "        features: ['id', 'translation'],\n",
              "        num_rows: 250\n",
              "    })\n",
              "})"
            ]
          },
          "metadata": {},
          "execution_count": 4
        }
      ]
    },
    {
      "cell_type": "markdown",
      "source": [
        "### Tokenize the Input and the Translation"
      ],
      "metadata": {
        "id": "o-x3P36cI1zE"
      }
    },
    {
      "cell_type": "code",
      "source": [
        "from transformers import AutoTokenizer\n",
        "\n",
        "checkpoint = 'Helsinki-NLP/opus-mt-en-es'\n",
        "tokenizer = AutoTokenizer.from_pretrained(checkpoint)"
      ],
      "metadata": {
        "colab": {
          "base_uri": "https://localhost:8080/"
        },
        "id": "PxvaC1o-JEad",
        "outputId": "e49f394e-90ed-4d0a-9f4e-48d5e33e9df7"
      },
      "execution_count": 5,
      "outputs": [
        {
          "output_type": "stream",
          "name": "stderr",
          "text": [
            "/usr/local/lib/python3.10/dist-packages/transformers/models/marian/tokenization_marian.py:175: UserWarning: Recommended: pip install sacremoses.\n",
            "  warnings.warn(\"Recommended: pip install sacremoses.\")\n"
          ]
        }
      ]
    },
    {
      "cell_type": "code",
      "source": [
        "en = split['train'][1]['translation']['en']\n",
        "es = split['train'][1]['translation']['es']\n",
        "en, es"
      ],
      "metadata": {
        "colab": {
          "base_uri": "https://localhost:8080/"
        },
        "id": "TFPF06QYJWf2",
        "outputId": "3fd5e291-424b-4bbf-92e0-2ee2e3e9bf36"
      },
      "execution_count": 6,
      "outputs": [
        {
          "output_type": "execute_result",
          "data": {
            "text/plain": [
              "('Remove the current bookmark. This command is only available if the cursor is at a bookmarked location.',\n",
              " 'Borra el marcador actual. Este comando se encuentra disponible si el cursor está en una ubicación marcada.')"
            ]
          },
          "metadata": {},
          "execution_count": 6
        }
      ]
    },
    {
      "cell_type": "code",
      "source": [
        "inputs = tokenizer(en)\n",
        "inputs"
      ],
      "metadata": {
        "colab": {
          "base_uri": "https://localhost:8080/"
        },
        "id": "-R0WuJpMJiXP",
        "outputId": "5a92e1fe-41a8-4cea-d0d7-712ddda234d1"
      },
      "execution_count": 7,
      "outputs": [
        {
          "output_type": "execute_result",
          "data": {
            "text/plain": [
              "{'input_ids': [23292, 5, 1149, 2316, 8407, 3, 143, 6745, 31, 211, 627, 174, 5, 46861, 31, 73, 8, 2316, 8407, 118, 1103, 3, 0], 'attention_mask': [1, 1, 1, 1, 1, 1, 1, 1, 1, 1, 1, 1, 1, 1, 1, 1, 1, 1, 1, 1, 1, 1, 1]}"
            ]
          },
          "metadata": {},
          "execution_count": 7
        }
      ]
    },
    {
      "cell_type": "code",
      "source": [
        "targets = tokenizer(text_target=es)\n",
        "targets"
      ],
      "metadata": {
        "colab": {
          "base_uri": "https://localhost:8080/"
        },
        "id": "3dlGAwcDK3og",
        "outputId": "afc08457-424b-41bd-d984-775c956d10fb"
      },
      "execution_count": 8,
      "outputs": [
        {
          "output_type": "execute_result",
          "data": {
            "text/plain": [
              "{'input_ids': [8002, 514, 14, 37527, 1029, 3, 539, 21734, 26, 1607, 2971, 122, 14, 2134, 91, 108, 12, 38, 2288, 20488, 3, 0], 'attention_mask': [1, 1, 1, 1, 1, 1, 1, 1, 1, 1, 1, 1, 1, 1, 1, 1, 1, 1, 1, 1, 1, 1]}"
            ]
          },
          "metadata": {},
          "execution_count": 8
        }
      ]
    },
    {
      "cell_type": "code",
      "source": [
        "tokenizer.convert_ids_to_tokens(targets['input_ids'])"
      ],
      "metadata": {
        "colab": {
          "base_uri": "https://localhost:8080/"
        },
        "id": "OKGKnB90LBhL",
        "outputId": "7f9101b6-4149-412d-fc0e-d4fae2da38a3"
      },
      "execution_count": 9,
      "outputs": [
        {
          "output_type": "execute_result",
          "data": {
            "text/plain": [
              "['▁Bor',\n",
              " 'ra',\n",
              " '▁el',\n",
              " '▁marcador',\n",
              " '▁actual',\n",
              " '.',\n",
              " '▁Este',\n",
              " '▁comando',\n",
              " '▁se',\n",
              " '▁encuentra',\n",
              " '▁disponible',\n",
              " '▁si',\n",
              " '▁el',\n",
              " '▁curso',\n",
              " 'r',\n",
              " '▁está',\n",
              " '▁en',\n",
              " '▁una',\n",
              " '▁ubicación',\n",
              " '▁marcada',\n",
              " '.',\n",
              " '</s>']"
            ]
          },
          "metadata": {},
          "execution_count": 9
        }
      ]
    },
    {
      "cell_type": "code",
      "source": [
        "#What if we use the tokenizer incorrectly (for example english tokenizer on spanish sentence)\n",
        "bad_targets = tokenizer(es)\n",
        "tokenizer.convert_ids_to_tokens(bad_targets['input_ids'])"
      ],
      "metadata": {
        "colab": {
          "base_uri": "https://localhost:8080/"
        },
        "id": "zsl6oqvzLcxl",
        "outputId": "559db910-5e14-4f15-db5f-9c8cc0820766"
      },
      "execution_count": 10,
      "outputs": [
        {
          "output_type": "execute_result",
          "data": {
            "text/plain": [
              "['▁Bor',\n",
              " 'ra',\n",
              " '▁el',\n",
              " '▁mar',\n",
              " 'c',\n",
              " 'ador',\n",
              " '▁actual',\n",
              " '.',\n",
              " '▁Este',\n",
              " '▁com',\n",
              " 'ando',\n",
              " '▁se',\n",
              " '▁en',\n",
              " 'cu',\n",
              " 'en',\n",
              " 'tra',\n",
              " '▁dis',\n",
              " 'pon',\n",
              " 'ible',\n",
              " '▁si',\n",
              " '▁el',\n",
              " '▁cursor',\n",
              " '▁est',\n",
              " 'á',\n",
              " '▁en',\n",
              " '▁una',\n",
              " '▁u',\n",
              " 'bic',\n",
              " 'aci',\n",
              " 'ó',\n",
              " 'n',\n",
              " '▁mar',\n",
              " 'c',\n",
              " 'ada',\n",
              " '.',\n",
              " '</s>']"
            ]
          },
          "metadata": {},
          "execution_count": 10
        }
      ]
    },
    {
      "cell_type": "markdown",
      "source": [
        "Instead of UNK tokens this tokenizer appears to be working on BPE or Byte Pair Encoding to catch unfamiliar tokens"
      ],
      "metadata": {
        "id": "E3Jy19lZMTSK"
      }
    },
    {
      "cell_type": "markdown",
      "source": [
        "### Get Sequence Length of Inputs and Targets to establish what the max will be so we can set the max length to best fit most of the data"
      ],
      "metadata": {
        "id": "x-NkM5-qo5QC"
      }
    },
    {
      "cell_type": "code",
      "source": [
        "import matplotlib.pyplot as plt\n",
        "\n",
        "train = split['train']['translation']\n",
        "input_lens = [len(tr['en']) for tr in train]\n",
        "\n",
        "plt.hist(input_lens, bins=50)"
      ],
      "metadata": {
        "colab": {
          "base_uri": "https://localhost:8080/",
          "height": 656
        },
        "id": "PBeQVyP3vtP5",
        "outputId": "462726b4-2faa-4953-80e2-8d7d5eb4a0d6"
      },
      "execution_count": 11,
      "outputs": [
        {
          "output_type": "execute_result",
          "data": {
            "text/plain": [
              "(array([339., 178.,  72.,  42.,  24.,  12.,  12.,   4.,   7.,  10.,   3.,\n",
              "          7.,   5.,   1.,   3.,   1.,   4.,   2.,   3.,   5.,   2.,   2.,\n",
              "          1.,   1.,   1.,   0.,   1.,   0.,   1.,   1.,   2.,   1.,   1.,\n",
              "          0.,   0.,   1.,   0.,   0.,   0.,   0.,   0.,   0.,   0.,   0.,\n",
              "          0.,   0.,   0.,   0.,   0.,   1.]),\n",
              " array([  1.  ,  15.72,  30.44,  45.16,  59.88,  74.6 ,  89.32, 104.04,\n",
              "        118.76, 133.48, 148.2 , 162.92, 177.64, 192.36, 207.08, 221.8 ,\n",
              "        236.52, 251.24, 265.96, 280.68, 295.4 , 310.12, 324.84, 339.56,\n",
              "        354.28, 369.  , 383.72, 398.44, 413.16, 427.88, 442.6 , 457.32,\n",
              "        472.04, 486.76, 501.48, 516.2 , 530.92, 545.64, 560.36, 575.08,\n",
              "        589.8 , 604.52, 619.24, 633.96, 648.68, 663.4 , 678.12, 692.84,\n",
              "        707.56, 722.28, 737.  ]),\n",
              " <BarContainer object of 50 artists>)"
            ]
          },
          "metadata": {},
          "execution_count": 11
        },
        {
          "output_type": "display_data",
          "data": {
            "text/plain": [
              "<Figure size 640x480 with 1 Axes>"
            ],
            "image/png": "[encoded data removed]"
          },
          "metadata": {}
        }
      ]
    },
    {
      "cell_type": "code",
      "source": [
        "target_lens = [len(tr['es']) for tr in train]\n",
        "plt.hist(target_lens, bins=50)"
      ],
      "metadata": {
        "colab": {
          "base_uri": "https://localhost:8080/",
          "height": 656
        },
        "id": "y-jvFYdav4X-",
        "outputId": "e92fc8df-4fe2-470a-a2e7-3a013f150b12"
      },
      "execution_count": 12,
      "outputs": [
        {
          "output_type": "execute_result",
          "data": {
            "text/plain": [
              "(array([251., 227.,  92.,  53.,  25.,  21.,   9.,   5.,  11.,   4.,   6.,\n",
              "          8.,   2.,   3.,   3.,   2.,   4.,   2.,   3.,   2.,   4.,   1.,\n",
              "          0.,   0.,   1.,   1.,   3.,   3.,   0.,   0.,   0.,   0.,   1.,\n",
              "          2.,   0.,   0.,   0.,   0.,   0.,   0.,   0.,   0.,   0.,   0.,\n",
              "          0.,   0.,   0.,   0.,   0.,   1.]),\n",
              " array([  1.  ,  18.12,  35.24,  52.36,  69.48,  86.6 , 103.72, 120.84,\n",
              "        137.96, 155.08, 172.2 , 189.32, 206.44, 223.56, 240.68, 257.8 ,\n",
              "        274.92, 292.04, 309.16, 326.28, 343.4 , 360.52, 377.64, 394.76,\n",
              "        411.88, 429.  , 446.12, 463.24, 480.36, 497.48, 514.6 , 531.72,\n",
              "        548.84, 565.96, 583.08, 600.2 , 617.32, 634.44, 651.56, 668.68,\n",
              "        685.8 , 702.92, 720.04, 737.16, 754.28, 771.4 , 788.52, 805.64,\n",
              "        822.76, 839.88, 857.  ]),\n",
              " <BarContainer object of 50 artists>)"
            ]
          },
          "metadata": {},
          "execution_count": 12
        },
        {
          "output_type": "display_data",
          "data": {
            "text/plain": [
              "<Figure size 640x480 with 1 Axes>"
            ],
            "image/png": "[encoded data removed]"
          },
          "metadata": {}
        }
      ]
    },
    {
      "cell_type": "markdown",
      "source": [
        "### Using this Info Let's build the Tokenizer Function for the entire dataset"
      ],
      "metadata": {
        "id": "IZg_bz4PwN61"
      }
    },
    {
      "cell_type": "code",
      "source": [
        "max_input_len = 128\n",
        "max_target_len = 128\n",
        "\n",
        "def tokenizer_fn(batch):\n",
        "  inputs = [x['en'] for x in batch['translation']]\n",
        "  targets = [x['es'] for x in batch['translation']]\n",
        "\n",
        "  tokenized_inputs = tokenizer(\n",
        "      inputs, max_length=max_input_len, truncation=True\n",
        "  )\n",
        "\n",
        "  tokenized_targets = tokenizer(text_target=targets, max_length=max_target_len, truncation=True)\n",
        "\n",
        "  tokenized_inputs['labels'] = tokenized_targets['input_ids']\n",
        "  return tokenized_inputs"
      ],
      "metadata": {
        "id": "O_4BrH810HyF"
      },
      "execution_count": 13,
      "outputs": []
    },
    {
      "cell_type": "code",
      "source": [
        "tokenized_datasets = split.map(\n",
        "    tokenizer_fn, batched=True, remove_columns=split['train'].column_names\n",
        ")"
      ],
      "metadata": {
        "id": "IMzYFNbO1xNK"
      },
      "execution_count": 14,
      "outputs": []
    },
    {
      "cell_type": "code",
      "source": [
        "print(f\"English: {tokenizer.convert_ids_to_tokens(tokenized_datasets['train']['input_ids'][0])}\\nSpanish: {tokenizer.convert_ids_to_tokens(tokenized_datasets['train']['labels'][0])}\")"
      ],
      "metadata": {
        "colab": {
          "base_uri": "https://localhost:8080/"
        },
        "id": "3l7MIGjw15za",
        "outputId": "67fe28e9-ee2f-4831-fbb4-cc3cd79e6557"
      },
      "execution_count": 15,
      "outputs": [
        {
          "output_type": "stream",
          "name": "stdout",
          "text": [
            "English: ['▁Mu', 'te', '▁command', '▁turns', '▁the', '▁sound', '▁on', '▁or', '▁off', '.', '</s>']\n",
            "Spanish: ['▁La', '▁orden', '▁Sil', 'encia', 'r', '▁activa', '▁o', '▁de', 's', 'activa', '▁el', '▁sonido', '.', '</s>']\n"
          ]
        }
      ]
    },
    {
      "cell_type": "markdown",
      "source": [
        "### Load the Model"
      ],
      "metadata": {
        "id": "Lkzl5vSY2DUd"
      }
    },
    {
      "cell_type": "code",
      "source": [
        "from transformers import AutoModelForSeq2SeqLM\n",
        "\n",
        "model = AutoModelForSeq2SeqLM.from_pretrained(checkpoint)\n",
        "model"
      ],
      "metadata": {
        "colab": {
          "base_uri": "https://localhost:8080/"
        },
        "id": "XSkiCJyM3ZMr",
        "outputId": "44c0163f-6b36-427b-c4ac-cd55166c8018"
      },
      "execution_count": 16,
      "outputs": [
        {
          "output_type": "execute_result",
          "data": {
            "text/plain": [
              "MarianMTModel(\n",
              "  (model): MarianModel(\n",
              "    (shared): Embedding(65001, 512, padding_idx=65000)\n",
              "    (encoder): MarianEncoder(\n",
              "      (embed_tokens): Embedding(65001, 512, padding_idx=65000)\n",
              "      (embed_positions): MarianSinusoidalPositionalEmbedding(512, 512)\n",
              "      (layers): ModuleList(\n",
              "        (0-5): 6 x MarianEncoderLayer(\n",
              "          (self_attn): MarianAttention(\n",
              "            (k_proj): Linear(in_features=512, out_features=512, bias=True)\n",
              "            (v_proj): Linear(in_features=512, out_features=512, bias=True)\n",
              "            (q_proj): Linear(in_features=512, out_features=512, bias=True)\n",
              "            (out_proj): Linear(in_features=512, out_features=512, bias=True)\n",
              "          )\n",
              "          (self_attn_layer_norm): LayerNorm((512,), eps=1e-05, elementwise_affine=True)\n",
              "          (activation_fn): SiLU()\n",
              "          (fc1): Linear(in_features=512, out_features=2048, bias=True)\n",
              "          (fc2): Linear(in_features=2048, out_features=512, bias=True)\n",
              "          (final_layer_norm): LayerNorm((512,), eps=1e-05, elementwise_affine=True)\n",
              "        )\n",
              "      )\n",
              "    )\n",
              "    (decoder): MarianDecoder(\n",
              "      (embed_tokens): Embedding(65001, 512, padding_idx=65000)\n",
              "      (embed_positions): MarianSinusoidalPositionalEmbedding(512, 512)\n",
              "      (layers): ModuleList(\n",
              "        (0-5): 6 x MarianDecoderLayer(\n",
              "          (self_attn): MarianAttention(\n",
              "            (k_proj): Linear(in_features=512, out_features=512, bias=True)\n",
              "            (v_proj): Linear(in_features=512, out_features=512, bias=True)\n",
              "            (q_proj): Linear(in_features=512, out_features=512, bias=True)\n",
              "            (out_proj): Linear(in_features=512, out_features=512, bias=True)\n",
              "          )\n",
              "          (activation_fn): SiLU()\n",
              "          (self_attn_layer_norm): LayerNorm((512,), eps=1e-05, elementwise_affine=True)\n",
              "          (encoder_attn): MarianAttention(\n",
              "            (k_proj): Linear(in_features=512, out_features=512, bias=True)\n",
              "            (v_proj): Linear(in_features=512, out_features=512, bias=True)\n",
              "            (q_proj): Linear(in_features=512, out_features=512, bias=True)\n",
              "            (out_proj): Linear(in_features=512, out_features=512, bias=True)\n",
              "          )\n",
              "          (encoder_attn_layer_norm): LayerNorm((512,), eps=1e-05, elementwise_affine=True)\n",
              "          (fc1): Linear(in_features=512, out_features=2048, bias=True)\n",
              "          (fc2): Linear(in_features=2048, out_features=512, bias=True)\n",
              "          (final_layer_norm): LayerNorm((512,), eps=1e-05, elementwise_affine=True)\n",
              "        )\n",
              "      )\n",
              "    )\n",
              "  )\n",
              "  (lm_head): Linear(in_features=512, out_features=65001, bias=False)\n",
              ")"
            ]
          },
          "metadata": {},
          "execution_count": 16
        }
      ]
    },
    {
      "cell_type": "markdown",
      "source": [
        "### Use Data Collator to manage the padding"
      ],
      "metadata": {
        "id": "y8jkahY53rWT"
      }
    },
    {
      "cell_type": "code",
      "source": [
        "from transformers import DataCollatorForSeq2Seq\n",
        "\n",
        "data_collator = DataCollatorForSeq2Seq(tokenizer, model=model)"
      ],
      "metadata": {
        "id": "rHr-_MIn31Lz"
      },
      "execution_count": 17,
      "outputs": []
    },
    {
      "cell_type": "code",
      "source": [
        "print([tokenized_datasets['train'][i] for i in range(2)])"
      ],
      "metadata": {
        "colab": {
          "base_uri": "https://localhost:8080/"
        },
        "id": "jpKvo9QR3_Bh",
        "outputId": "ce108907-90ec-4e24-ed39-e88dc0a94f45"
      },
      "execution_count": 18,
      "outputs": [
        {
          "output_type": "stream",
          "name": "stdout",
          "text": [
            "[{'input_ids': [3598, 203, 6745, 9457, 5, 3111, 35, 62, 843, 3, 0], 'attention_mask': [1, 1, 1, 1, 1, 1, 1, 1, 1, 1, 1], 'labels': [69, 1491, 17737, 4718, 91, 4434, 60, 4, 9, 12233, 14, 7570, 3, 0]}, {'input_ids': [23292, 5, 1149, 2316, 8407, 3, 143, 6745, 31, 211, 627, 174, 5, 46861, 31, 73, 8, 2316, 8407, 118, 1103, 3, 0], 'attention_mask': [1, 1, 1, 1, 1, 1, 1, 1, 1, 1, 1, 1, 1, 1, 1, 1, 1, 1, 1, 1, 1, 1, 1], 'labels': [8002, 514, 14, 37527, 1029, 3, 539, 21734, 26, 1607, 2971, 122, 14, 2134, 91, 108, 12, 38, 2288, 20488, 3, 0]}]\n"
          ]
        }
      ]
    },
    {
      "cell_type": "markdown",
      "source": [
        "#### To get an Idea of whats happening, especially when it comes to the decoder lets compare the labels(targets) to the decoder input\n",
        "\n",
        "We see that the decoder inputs are a shifted version of the targets. Thats because the decoder will take the encoded inputs and the decoder input then predict the next token. So \"Considering this english sentence, and these characters from the decoder input, what is the next token?\""
      ],
      "metadata": {
        "id": "rWbDgh0u70XA"
      }
    },
    {
      "cell_type": "code",
      "source": [
        "batch = data_collator([tokenized_datasets['train'][i] for i in range(1,3)])\n",
        "batch.keys()"
      ],
      "metadata": {
        "colab": {
          "base_uri": "https://localhost:8080/"
        },
        "id": "jLOMjPka4D_M",
        "outputId": "faf5010c-3d59-4ca1-fdd9-06efd5754811"
      },
      "execution_count": 22,
      "outputs": [
        {
          "output_type": "execute_result",
          "data": {
            "text/plain": [
              "dict_keys(['input_ids', 'attention_mask', 'labels', 'decoder_input_ids'])"
            ]
          },
          "metadata": {},
          "execution_count": 22
        }
      ]
    },
    {
      "cell_type": "code",
      "source": [
        "import numpy as np\n",
        "for batch in batch['labels']:\n",
        "  sentence = tokenizer.convert_ids_to_tokens(np.array(batch))\n",
        "  print(sentence)"
      ],
      "metadata": {
        "colab": {
          "base_uri": "https://localhost:8080/"
        },
        "id": "5wyqHpI55L6r",
        "outputId": "22da7025-cdfe-4543-d637-1a0a521eb30a"
      },
      "execution_count": 20,
      "outputs": [
        {
          "output_type": "stream",
          "name": "stdout",
          "text": [
            "['▁Bor', 'ra', '▁el', '▁marcador', '▁actual', '.', '▁Este', '▁comando', '▁se', '▁encuentra', '▁disponible', '▁si', '▁el', '▁curso', 'r', '▁está', '▁en', '▁una', '▁ubicación', '▁marcada', '.', '</s>']\n",
            "['▁Error', '▁al', '▁construir', '▁el', '▁paquete', '</s>', '<unk>', '<unk>', '<unk>', '<unk>', '<unk>', '<unk>', '<unk>', '<unk>', '<unk>', '<unk>', '<unk>', '<unk>', '<unk>', '<unk>', '<unk>', '<unk>']\n"
          ]
        }
      ]
    },
    {
      "cell_type": "code",
      "source": [
        "for batch in batch['decoder_input_ids']:\n",
        "  sentence = tokenizer.convert_ids_to_tokens(np.array(batch))\n",
        "  print(sentence)"
      ],
      "metadata": {
        "colab": {
          "base_uri": "https://localhost:8080/"
        },
        "id": "yHp9HAIv5nAc",
        "outputId": "de3f33b4-561f-4f78-9d4b-1ae9032e40a5"
      },
      "execution_count": 23,
      "outputs": [
        {
          "output_type": "stream",
          "name": "stdout",
          "text": [
            "['<pad>', '▁Bor', 'ra', '▁el', '▁marcador', '▁actual', '.', '▁Este', '▁comando', '▁se', '▁encuentra', '▁disponible', '▁si', '▁el', '▁curso', 'r', '▁está', '▁en', '▁una', '▁ubicación', '▁marcada', '.']\n",
            "['<pad>', '▁Error', '▁al', '▁construir', '▁el', '▁paquete', '</s>', '<pad>', '<pad>', '<pad>', '<pad>', '<pad>', '<pad>', '<pad>', '<pad>', '<pad>', '<pad>', '<pad>', '<pad>', '<pad>', '<pad>', '<pad>']\n"
          ]
        }
      ]
    },
    {
      "cell_type": "markdown",
      "source": [
        "### Create the Compute functions\n",
        "\n",
        "Imagine our translation is: The cat chased the mouse\n",
        "But we predict: The cat ran after the mouse\n",
        "\n",
        "We would like to count this as a successful translation but the words aren't the same. Thats where our different scores come in:\n",
        "- **Bleu Score:** computes the n-grams and comes up with a score from 0-100 to the target (the higher the score, the worse the prediction)\n",
        "```python\n",
        "bleu_metric = load_metric(\"sacrebleu\")\n",
        "bleu_metric.compute(\n",
        "  predictions=[\"The cat ran after the mouse\"],\n",
        "  references=[[\"The cat chased the mouse\"]])\n",
        "```\n",
        "\n",
        "- **BERT Score:** This method will create an embedding for both the prediction and the target then calculate cosine similarity between the 2 (Using a pretrained BERT model). There is a threshold that if the 2 phrases are close enough it will count as correct.\n",
        "```python\n",
        "bert_metric = load_metric('bertscore')\n",
        "bert_metric.compute(\n",
        "  predictions=['The cat ran after the mouse'],\n",
        "  references=[['The cat chased the mouse']],\n",
        "  lang='en')\n",
        "```"
      ],
      "metadata": {
        "id": "FGe81VUF69uI"
      }
    },
    {
      "cell_type": "markdown",
      "source": [
        "#### Bleu Score"
      ],
      "metadata": {
        "id": "UuwlcKqEGpuw"
      }
    },
    {
      "cell_type": "code",
      "source": [
        "#!pip install sacrebleu"
      ],
      "metadata": {
        "id": "K9RHVUB-EaqA"
      },
      "execution_count": 24,
      "outputs": []
    },
    {
      "cell_type": "markdown",
      "source": [
        "Test on approximate match"
      ],
      "metadata": {
        "id": "I9LkxZvpGi8E"
      }
    },
    {
      "cell_type": "code",
      "source": [
        "from datasets import load_metric\n",
        "\n",
        "bleu_metric = load_metric(\"sacrebleu\")\n",
        "bleu_metric.compute(\n",
        "  predictions=[\"The cat ran after the mouse\"],\n",
        "  references=[[\"The cat chased the mouse\"]])"
      ],
      "metadata": {
        "colab": {
          "base_uri": "https://localhost:8080/"
        },
        "id": "1fjfMzKGEdxK",
        "outputId": "ce6b6560-b266-4451-8e37-edd4caf3857d"
      },
      "execution_count": 25,
      "outputs": [
        {
          "output_type": "stream",
          "name": "stderr",
          "text": [
            "<ipython-input-25-c35661148265>:3: FutureWarning: load_metric is deprecated and will be removed in the next major version of datasets. Use 'evaluate.load' instead, from the new library 🤗 Evaluate: https://huggingface.co/docs/evaluate\n",
            "  bleu_metric = load_metric(\"sacrebleu\")\n"
          ]
        },
        {
          "output_type": "execute_result",
          "data": {
            "text/plain": [
              "{'score': 22.957488466614336,\n",
              " 'counts': [4, 2, 0, 0],\n",
              " 'totals': [6, 5, 4, 3],\n",
              " 'precisions': [66.66666666666667, 40.0, 12.5, 8.333333333333334],\n",
              " 'bp': 1.0,\n",
              " 'sys_len': 6,\n",
              " 'ref_len': 5}"
            ]
          },
          "metadata": {},
          "execution_count": 25
        }
      ]
    },
    {
      "cell_type": "markdown",
      "source": [
        "Test on Perfect Match"
      ],
      "metadata": {
        "id": "UAjawlujGlmV"
      }
    },
    {
      "cell_type": "code",
      "source": [
        "bleu_metric.compute(\n",
        "    predictions=['I love cats'],\n",
        "    references=[['I love cats']]\n",
        ")"
      ],
      "metadata": {
        "colab": {
          "base_uri": "https://localhost:8080/"
        },
        "id": "Jd7V6SZgEiuE",
        "outputId": "c3212368-bed5-4f3a-9e94-55c02e390dba"
      },
      "execution_count": 26,
      "outputs": [
        {
          "output_type": "execute_result",
          "data": {
            "text/plain": [
              "{'score': 0.0,\n",
              " 'counts': [3, 2, 1, 0],\n",
              " 'totals': [3, 2, 1, 0],\n",
              " 'precisions': [100.0, 100.0, 100.0, 0.0],\n",
              " 'bp': 1.0,\n",
              " 'sys_len': 3,\n",
              " 'ref_len': 3}"
            ]
          },
          "metadata": {},
          "execution_count": 26
        }
      ]
    },
    {
      "cell_type": "markdown",
      "source": [
        "#### BERT Score"
      ],
      "metadata": {
        "id": "0d6ZUKLGFWEJ"
      }
    },
    {
      "cell_type": "code",
      "source": [
        "#!pip install bert-score"
      ],
      "metadata": {
        "id": "30CaB2TMG3Uh"
      },
      "execution_count": 27,
      "outputs": []
    },
    {
      "cell_type": "markdown",
      "source": [
        "Test on approximate match"
      ],
      "metadata": {
        "id": "gDPlS-yWGvzG"
      }
    },
    {
      "cell_type": "code",
      "source": [
        "bert_metric = load_metric('bertscore')"
      ],
      "metadata": {
        "id": "bdwoZFsXHIvD"
      },
      "execution_count": 28,
      "outputs": []
    },
    {
      "cell_type": "code",
      "source": [
        "bert_metric.compute(\n",
        "predictions=['The cat ran after the mouse'],\n",
        "references=[['The cat chased the mouse']],\n",
        "lang='en')"
      ],
      "metadata": {
        "colab": {
          "base_uri": "https://localhost:8080/"
        },
        "id": "nHf8MEjCHX-s",
        "outputId": "e91297bf-59c9-4135-a992-b275d22630ba"
      },
      "execution_count": 29,
      "outputs": [
        {
          "output_type": "stream",
          "name": "stderr",
          "text": [
            "Some weights of RobertaModel were not initialized from the model checkpoint at roberta-large and are newly initialized: ['roberta.pooler.dense.bias', 'roberta.pooler.dense.weight']\n",
            "You should probably TRAIN this model on a down-stream task to be able to use it for predictions and inference.\n"
          ]
        },
        {
          "output_type": "execute_result",
          "data": {
            "text/plain": [
              "{'precision': [0.9700444936752319],\n",
              " 'recall': [0.9870928525924683],\n",
              " 'f1': [0.9784944653511047],\n",
              " 'hashcode': 'roberta-large_L17_no-idf_version=0.3.12(hug_trans=4.41.2)'}"
            ]
          },
          "metadata": {},
          "execution_count": 29
        }
      ]
    },
    {
      "cell_type": "markdown",
      "source": [
        "Test on Perfect Match"
      ],
      "metadata": {
        "id": "kf10AoBJGxlZ"
      }
    },
    {
      "cell_type": "code",
      "source": [
        "bert_metric.compute(\n",
        "    predictions=['I love cats'],\n",
        "    references=[['I love cats']],\n",
        "    lang='en'\n",
        ")"
      ],
      "metadata": {
        "colab": {
          "base_uri": "https://localhost:8080/"
        },
        "id": "_bJdkJ4eHbrT",
        "outputId": "69590699-0054-4df2-c2d5-e2a8e1b9e3c6"
      },
      "execution_count": 30,
      "outputs": [
        {
          "output_type": "execute_result",
          "data": {
            "text/plain": [
              "{'precision': [0.9999998807907104],\n",
              " 'recall': [0.9999998807907104],\n",
              " 'f1': [0.9999998807907104],\n",
              " 'hashcode': 'roberta-large_L17_no-idf_version=0.3.12(hug_trans=4.41.2)'}"
            ]
          },
          "metadata": {},
          "execution_count": 30
        }
      ]
    },
    {
      "cell_type": "markdown",
      "source": [
        "### Create the Compute Metrics Function"
      ],
      "metadata": {
        "id": "COazDYMJHh-D"
      }
    },
    {
      "cell_type": "code",
      "source": [
        "def compute_metrics(preds_and_labels):\n",
        "  preds, labels = preds_and_labels\n",
        "\n",
        "  #convert the predictions into words\n",
        "  decoded_preds = tokenizer.batch_decode(preds, skip_special_tokens=True)\n",
        "\n",
        "  #for the unk (-100) tokens, change to pad tokens which matches the target\n",
        "  labels = np.where(labels != -100, labels, tokenizer.pad_token_id)\n",
        "\n",
        "  #convert labels into words\n",
        "  decoded_labels = tokenizer.batch_decode(labels, skip_special_tokens=True)\n",
        "\n",
        "  #Put targets into lists and get rid of whitespace\n",
        "  decoded_preds = [pred.strip() for pred in decoded_preds]\n",
        "  decoded_labels = [[label.strip()] for label in decoded_labels]\n",
        "\n",
        "  bleu = bleu_metric.compute(\n",
        "      predictions = decoded_preds, references=decoded_labels)\n",
        "\n",
        "  bert_score = bert_metric.compute(\n",
        "      predictions=decoded_preds, references=decoded_labels, lang='es')\n",
        "\n",
        "  return {'bleu': bleu['score'], 'bert_score': np.mean(bert_score['f1'])}"
      ],
      "metadata": {
        "id": "P0KllMnUImFP"
      },
      "execution_count": 31,
      "outputs": []
    },
    {
      "cell_type": "markdown",
      "source": [
        "### Setup Training Arguments and the Trainer"
      ],
      "metadata": {
        "id": "vWwiPnsNKTgi"
      }
    },
    {
      "cell_type": "code",
      "source": [
        "#!pip install accelerate -U"
      ],
      "metadata": {
        "id": "xnT32WV1M2t_"
      },
      "execution_count": 32,
      "outputs": []
    },
    {
      "cell_type": "code",
      "source": [
        "from transformers import Seq2SeqTrainingArguments\n",
        "\n",
        "training_args = Seq2SeqTrainingArguments(\n",
        "    output_dir='finetuned-model',\n",
        "    evaluation_strategy='no', #To save compute time during evaluation\n",
        "    save_strategy='epoch',\n",
        "    learning_rate=2e-5,\n",
        "    per_device_train_batch_size=16,\n",
        "    per_device_eval_batch_size=32,\n",
        "    weight_decay=0.01,\n",
        "    save_total_limit=1,\n",
        "    num_train_epochs=1,\n",
        "    predict_with_generate=True,\n",
        "    #fp16 = True #If using GPU\n",
        ")"
      ],
      "metadata": {
        "colab": {
          "base_uri": "https://localhost:8080/"
        },
        "id": "fzuZHFxGKjHV",
        "outputId": "b1a180d8-9a17-47af-b27c-090fb2a18f13"
      },
      "execution_count": 33,
      "outputs": [
        {
          "output_type": "stream",
          "name": "stderr",
          "text": [
            "/usr/local/lib/python3.10/dist-packages/transformers/training_args.py:1474: FutureWarning: `evaluation_strategy` is deprecated and will be removed in version 4.46 of 🤗 Transformers. Use `eval_strategy` instead\n",
            "  warnings.warn(\n"
          ]
        }
      ]
    },
    {
      "cell_type": "code",
      "source": [
        "from transformers import Seq2SeqTrainer\n",
        "\n",
        "trainer = Seq2SeqTrainer(\n",
        "    model,\n",
        "    training_args,\n",
        "    train_dataset = tokenized_datasets['train'],\n",
        "    eval_dataset = tokenized_datasets['test'],\n",
        "    data_collator = data_collator,\n",
        "    tokenizer=tokenizer,\n",
        "    compute_metrics=compute_metrics\n",
        ")"
      ],
      "metadata": {
        "id": "4U-ByagPM0xi"
      },
      "execution_count": 34,
      "outputs": []
    },
    {
      "cell_type": "markdown",
      "source": [
        "#### Since we turned eval strategy to 'no' lets look at the evaluate before and after training"
      ],
      "metadata": {
        "id": "_d4WgCeKN9GX"
      }
    },
    {
      "cell_type": "markdown",
      "source": [
        "Before:"
      ],
      "metadata": {
        "id": "ZwMaP07xOE6b"
      }
    },
    {
      "cell_type": "code",
      "source": [
        "trainer.evaluate(max_length=max_target_len)"
      ],
      "metadata": {
        "colab": {
          "base_uri": "https://localhost:8080/",
          "height": 356,
          "referenced_widgets": [
            "ceb22697653e40b397a762629532d3b1",
            "ff0ab9131cab403282e5176abe803835",
            "8366e041919b4d45a716c75e27dca34c",
            "f7eb735f947d4bca867b7e9f51cf7b8d",
            "ec4efe6e8b7f44d2a0a55b1128591df5",
            "e16456b573cc42a28e302940fad170bc",
            "07a6f2845d774f4ea8235770f3978029",
            "f00b5c9472a54336ac98039199a1863f",
            "8bdd799c82ae4383a82c45b989cdc7ad",
            "6896f4d05cb3459cba42401b7edaeb58",
            "e5324d15b4de4d438a63c3c28fe0d149",
            "175bb5f809744a0fab269d53f235d4db",
            "06a47bd3fdb84a6cba0da1ea0aadaff2",
            "fe5e7c97119647e39d4138c5e85f5edc",
            "7a0977d730214e478b404baab1c78a80",
            "d5992d6684934d19bc9666741664a641",
            "1914b2aa7f4248a492379d529843739e",
            "09da0889ecd449709c974ba283be9f0b",
            "050ab43ca3b94acb97f53d018c9bd748",
            "44db05bed1ac4054b598a6bb68daf38b",
            "0d633fe50cfb4433a6333967b2dc5f63",
            "0db5cbd465ff4db68051d47e32dad799",
            "310cd5d27e4a49a09dbc115831cecc25",
            "4f9ce9d58a2a4739aaf45d48c73dddc5",
            "4219faf2c14d43318f2127f858548d24",
            "bfe3179059ea4652926a1c64a43800f5",
            "24a3d01bd1d545d490ed2a99315c4116",
            "d3f5ec9047f04fc0890044a969d08119",
            "1017796624274ff1af9c93658f2b9ade",
            "a51d5bc591234342811bf64cce6ec717",
            "346fa9cfc6dd49709db2a381aaf56d1f",
            "b90412f35f6541cd8e5fef1ea7f4892f",
            "00d448b467564249811fb1937cded11b",
            "ac0dcb73e9ce48a69ea76b64ab4f00ce",
            "d66059e35f0e4e199fd3973c69b4e166",
            "01914545947a4c648718374a74787c94",
            "c5154a1f26e24787a0e97865044e8b72",
            "6765384fe2be4dfea0b2e5796533bdd6",
            "bae7c2a197a24667a5430f16a8a4096e",
            "b4c523b2e6ef443eb814665010b8f364",
            "7bef5d45cea041189dde47507f7feb35",
            "6dc03185700f44c4a1b58472c867e527",
            "8cfb17367d7e4c6e92574ddbf5e294b8",
            "91acf89414a340daa52486ff9588430c",
            "c2a1a39e62eb4eef915b673ac74d68b9",
            "a34c2b278e874285a04862fea8f291a8",
            "94ad1ea7c2814446855391c57892aa8d",
            "e25a5bfae6ff46eb89758710f75389f6",
            "d8340811bd2d43b2b3d5a1a21db6753d",
            "b660616fd7414950b49d94dd77c6be4d",
            "8df498eb4b3f4d2a949119dc8260b283",
            "32964513c99a469390734275bb933029",
            "94a8afd4e78c45288ee6b23562b8ba1a",
            "2a90155b959a419796bd71c8856de26b",
            "6e9e008cd83843739ddad4fa4168d39e"
          ]
        },
        "id": "JNsFt0ViNruh",
        "outputId": "ed6b851c-f3b4-4140-e7f7-f2414b401bcf"
      },
      "execution_count": 35,
      "outputs": [
        {
          "output_type": "display_data",
          "data": {
            "text/plain": [
              "<IPython.core.display.HTML object>"
            ],
            "text/html": [
              "\n",
              "    <div>\n",
              "      \n",
              "      <progress value='8' max='8' style='width:300px; height:20px; vertical-align: middle;'></progress>\n",
              "      [8/8 07:18]\n",
              "    </div>\n",
              "    "
            ]
          },
          "metadata": {}
        },
        {
          "output_type": "display_data",
          "data": {
            "text/plain": [
              "tokenizer_config.json:   0%|          | 0.00/49.0 [00:00<?, ?B/s]"
            ],
            "application/vnd.jupyter.widget-view+json": {
              "version_major": 2,
              "version_minor": 0,
              "model_id": "ceb22697653e40b397a762629532d3b1"
            }
          },
          "metadata": {}
        },
        {
          "output_type": "stream",
          "name": "stderr",
          "text": [
            "/usr/local/lib/python3.10/dist-packages/huggingface_hub/file_download.py:1132: FutureWarning: `resume_download` is deprecated and will be removed in version 1.0.0. Downloads always resume when possible. If you want to force a new download, use `force_download=True`.\n",
            "  warnings.warn(\n"
          ]
        },
        {
          "output_type": "display_data",
          "data": {
            "text/plain": [
              "config.json:   0%|          | 0.00/625 [00:00<?, ?B/s]"
            ],
            "application/vnd.jupyter.widget-view+json": {
              "version_major": 2,
              "version_minor": 0,
              "model_id": "175bb5f809744a0fab269d53f235d4db"
            }
          },
          "metadata": {}
        },
        {
          "output_type": "display_data",
          "data": {
            "text/plain": [
              "vocab.txt:   0%|          | 0.00/996k [00:00<?, ?B/s]"
            ],
            "application/vnd.jupyter.widget-view+json": {
              "version_major": 2,
              "version_minor": 0,
              "model_id": "310cd5d27e4a49a09dbc115831cecc25"
            }
          },
          "metadata": {}
        },
        {
          "output_type": "display_data",
          "data": {
            "text/plain": [
              "tokenizer.json:   0%|          | 0.00/1.96M [00:00<?, ?B/s]"
            ],
            "application/vnd.jupyter.widget-view+json": {
              "version_major": 2,
              "version_minor": 0,
              "model_id": "ac0dcb73e9ce48a69ea76b64ab4f00ce"
            }
          },
          "metadata": {}
        },
        {
          "output_type": "display_data",
          "data": {
            "text/plain": [
              "model.safetensors:   0%|          | 0.00/714M [00:00<?, ?B/s]"
            ],
            "application/vnd.jupyter.widget-view+json": {
              "version_major": 2,
              "version_minor": 0,
              "model_id": "c2a1a39e62eb4eef915b673ac74d68b9"
            }
          },
          "metadata": {}
        },
        {
          "output_type": "execute_result",
          "data": {
            "text/plain": [
              "{'eval_loss': 1.2224326133728027,\n",
              " 'eval_bleu': 46.04053065831885,\n",
              " 'eval_bert_score': 0.8938573379516601,\n",
              " 'eval_runtime': 507.1002,\n",
              " 'eval_samples_per_second': 0.493,\n",
              " 'eval_steps_per_second': 0.016}"
            ]
          },
          "metadata": {},
          "execution_count": 35
        }
      ]
    },
    {
      "cell_type": "code",
      "source": [
        "trainer.train()"
      ],
      "metadata": {
        "colab": {
          "base_uri": "https://localhost:8080/",
          "height": 165
        },
        "id": "85AIyoa7Nxsg",
        "outputId": "2f1943d1-2e29-40d0-f286-cbd41bf42a1a"
      },
      "execution_count": 36,
      "outputs": [
        {
          "output_type": "display_data",
          "data": {
            "text/plain": [
              "<IPython.core.display.HTML object>"
            ],
            "text/html": [
              "\n",
              "    <div>\n",
              "      \n",
              "      <progress value='47' max='47' style='width:300px; height:20px; vertical-align: middle;'></progress>\n",
              "      [47/47 07:18, Epoch 1/1]\n",
              "    </div>\n",
              "    <table border=\"1\" class=\"dataframe\">\n",
              "  <thead>\n",
              " <tr style=\"text-align: left;\">\n",
              "      <th>Step</th>\n",
              "      <th>Training Loss</th>\n",
              "    </tr>\n",
              "  </thead>\n",
              "  <tbody>\n",
              "  </tbody>\n",
              "</table><p>"
            ]
          },
          "metadata": {}
        },
        {
          "output_type": "stream",
          "name": "stderr",
          "text": [
            "Some non-default generation parameters are set in the model config. These should go into a GenerationConfig file (https://huggingface.co/docs/transformers/generation_strategies#save-a-custom-decoding-strategy-with-your-model) instead. This warning will be raised to an exception in v4.41.\n",
            "Non-default generation parameters: {'max_length': 512, 'num_beams': 4, 'bad_words_ids': [[65000]], 'forced_eos_token_id': 0}\n"
          ]
        },
        {
          "output_type": "execute_result",
          "data": {
            "text/plain": [
              "TrainOutput(global_step=47, training_loss=1.3437257320322888, metrics={'train_runtime': 451.0491, 'train_samples_per_second': 1.663, 'train_steps_per_second': 0.104, 'total_flos': 10247369785344.0, 'train_loss': 1.3437257320322888, 'epoch': 1.0})"
            ]
          },
          "metadata": {},
          "execution_count": 36
        }
      ]
    },
    {
      "cell_type": "markdown",
      "source": [
        "After:"
      ],
      "metadata": {
        "id": "3pHOszQrQC54"
      }
    },
    {
      "cell_type": "code",
      "source": [
        "trainer.evaluate(max_length=max_target_len)"
      ],
      "metadata": {
        "colab": {
          "base_uri": "https://localhost:8080/",
          "height": 159
        },
        "id": "RR--JrqEPy7Q",
        "outputId": "c49ef560-1e60-4e82-f235-aed5798047d8"
      },
      "execution_count": 38,
      "outputs": [
        {
          "output_type": "display_data",
          "data": {
            "text/plain": [
              "<IPython.core.display.HTML object>"
            ],
            "text/html": [
              "\n",
              "    <div>\n",
              "      \n",
              "      <progress value='16' max='8' style='width:300px; height:20px; vertical-align: middle;'></progress>\n",
              "      [8/8 23:09]\n",
              "    </div>\n",
              "    "
            ]
          },
          "metadata": {}
        },
        {
          "output_type": "execute_result",
          "data": {
            "text/plain": [
              "{'eval_loss': 1.1174921989440918,\n",
              " 'eval_bleu': 47.80313508195514,\n",
              " 'eval_bert_score': 0.8954301242828369,\n",
              " 'eval_runtime': 465.2653,\n",
              " 'eval_samples_per_second': 0.537,\n",
              " 'eval_steps_per_second': 0.017,\n",
              " 'epoch': 1.0}"
            ]
          },
          "metadata": {},
          "execution_count": 38
        }
      ]
    },
    {
      "cell_type": "markdown",
      "source": [
        "We do see a small improvement, to further improve the model run on more epochs"
      ],
      "metadata": {
        "id": "PNb_2-jSTq0f"
      }
    },
    {
      "cell_type": "code",
      "source": [
        "trainer.save_model('my_saved_model')"
      ],
      "metadata": {
        "colab": {
          "base_uri": "https://localhost:8080/"
        },
        "id": "oQ-S87BxQRIz",
        "outputId": "dc7b82d8-9125-46ee-df22-1ff9e7022a6f"
      },
      "execution_count": 37,
      "outputs": [
        {
          "output_type": "stream",
          "name": "stderr",
          "text": [
            "Some non-default generation parameters are set in the model config. These should go into a GenerationConfig file (https://huggingface.co/docs/transformers/generation_strategies#save-a-custom-decoding-strategy-with-your-model) instead. This warning will be raised to an exception in v4.41.\n",
            "Non-default generation parameters: {'max_length': 512, 'num_beams': 4, 'bad_words_ids': [[65000]], 'forced_eos_token_id': 0}\n"
          ]
        }
      ]
    },
    {
      "cell_type": "markdown",
      "source": [
        "### Load the Trained Model and Test"
      ],
      "metadata": {
        "id": "uBbR5U9mQYCy"
      }
    },
    {
      "cell_type": "code",
      "source": [
        "from transformers import pipeline\n",
        "\n",
        "translator = pipeline('translation', model='my_saved_model')"
      ],
      "metadata": {
        "colab": {
          "base_uri": "https://localhost:8080/"
        },
        "id": "f8z-BPD9QVrA",
        "outputId": "a2933c5c-11d2-48fd-cfb4-48cd34ee0290"
      },
      "execution_count": 39,
      "outputs": [
        {
          "output_type": "stream",
          "name": "stderr",
          "text": [
            "/usr/local/lib/python3.10/dist-packages/transformers/models/marian/tokenization_marian.py:175: UserWarning: Recommended: pip install sacremoses.\n",
            "  warnings.warn(\"Recommended: pip install sacremoses.\")\n"
          ]
        }
      ]
    },
    {
      "cell_type": "code",
      "source": [
        "translator('I hope that this model is doing everything that we need and getting proper translations')"
      ],
      "metadata": {
        "colab": {
          "base_uri": "https://localhost:8080/"
        },
        "id": "wfOQZScjQb57",
        "outputId": "3008e324-6992-4f5e-d341-07bd1143060d"
      },
      "execution_count": 40,
      "outputs": [
        {
          "output_type": "execute_result",
          "data": {
            "text/plain": [
              "[{'translation_text': 'Espero que este modelo esté haciendo todo lo que necesitamos y obteniendo traducciones adecuadas.'}]"
            ]
          },
          "metadata": {},
          "execution_count": 40
        }
      ]
    },
    {
      "cell_type": "code",
      "source": [
        "translator('Hello, how are you?')"
      ],
      "metadata": {
        "colab": {
          "base_uri": "https://localhost:8080/"
        },
        "id": "h4ONIio6Qy_c",
        "outputId": "59d6eeff-0f9d-4c8f-e491-750169465f92"
      },
      "execution_count": 41,
      "outputs": [
        {
          "output_type": "execute_result",
          "data": {
            "text/plain": [
              "[{'translation_text': 'Hola, ¿cómo estás?'}]"
            ]
          },
          "metadata": {},
          "execution_count": 41
        }
      ]
    }
  ]
}